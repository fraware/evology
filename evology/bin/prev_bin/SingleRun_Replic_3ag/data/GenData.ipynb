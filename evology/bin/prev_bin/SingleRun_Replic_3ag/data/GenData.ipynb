{
 "cells": [
  {
   "cell_type": "code",
   "execution_count": 2,
   "metadata": {},
   "outputs": [
    {
     "name": "stderr",
     "output_type": "stream",
     "text": [
      "/Users/aymericvie/Documents/GitHub/evology/evology/code/data.py:135: RuntimeWarning: Mean of empty slice\n",
      "  results[current, 54] = np.nanmean(DailyNTReturns)\n"
     ]
    }
   ],
   "source": [
    "import sys\n",
    "sys.path.insert(0, '/Users/aymericvie/Documents/GitHub/evology/evology/code/')\n",
    "from main import *\n",
    "time = 15_000\n",
    "agents = 3\n",
    "from parameters import *\n",
    "wealth_coordinates = [0.42, 0.33, 0.25]\n",
    "# wealth_coordinates = [0.47, 0.35, 0.18]\n",
    "\n",
    "run, pop = main(\"static\", 'scholl', 'esl', False, time, 0, agents, 0, wealth_coordinates, False, False)\n",
    "\n",
    "run.to_csv(\"simulation3ag_15k.csv\")"
   ]
  }
 ],
 "metadata": {
  "interpreter": {
   "hash": "aee8b7b246df8f9039afb4144a1f6fd8d2ca17a180786b69acc140d282b71a49"
  },
  "kernelspec": {
   "display_name": "Python 3.9.6 64-bit",
   "name": "python3"
  },
  "language_info": {
   "codemirror_mode": {
    "name": "ipython",
    "version": 3
   },
   "file_extension": ".py",
   "mimetype": "text/x-python",
   "name": "python",
   "nbconvert_exporter": "python",
   "pygments_lexer": "ipython3",
   "version": "3.9.6"
  },
  "orig_nbformat": 4
 },
 "nbformat": 4,
 "nbformat_minor": 2
}
