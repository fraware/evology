{
 "cells": [
  {
   "cell_type": "code",
   "execution_count": 1,
   "metadata": {},
   "outputs": [],
   "source": [
    "#!/usr/bin/env python3\n",
    "import sys\n",
    "sys.path.insert(0, '/Users/aymericvie/Documents/GitHub/evology/evology/code/')\n",
    "from main import *\n",
    "# def main(mode, MAX_GENERATIONS, PROBA_SELECTION, POPULATION_SIZE, CROSSOVER_RATE, MUTATION_RATE, wealth_coordinates, tqdm_display):\n",
    "from parameters import *\n",
    "\n",
    "wealth_coordinates = [1/3, 1/3, 1/3]\n",
    "time = 20_000 \n",
    "repetitions = 10\n",
    "agents = 50"
   ]
  },
  {
   "cell_type": "code",
   "execution_count": 2,
   "metadata": {},
   "outputs": [
    {
     "name": "stderr",
     "output_type": "stream",
     "text": [
      "100%|██████████| 20000/20000 [01:23<00:00, 239.19it/s]\n",
      "100%|██████████| 20000/20000 [00:40<00:00, 488.60it/s]\n",
      "100%|██████████| 20000/20000 [00:40<00:00, 491.08it/s]\n",
      "100%|██████████| 20000/20000 [00:40<00:00, 488.61it/s]\n",
      "100%|██████████| 20000/20000 [00:41<00:00, 477.81it/s]\n",
      "100%|██████████| 20000/20000 [00:40<00:00, 493.46it/s]\n",
      "100%|██████████| 20000/20000 [00:41<00:00, 485.74it/s]\n",
      "100%|██████████| 20000/20000 [00:40<00:00, 488.71it/s]\n",
      "100%|██████████| 20000/20000 [00:40<00:00, 489.29it/s]\n",
      "100%|██████████| 20000/20000 [00:40<00:00, 496.72it/s]\n"
     ]
    }
   ],
   "source": [
    "Static = main(\"static\", time, 0, 100, 0, 0, wealth_coordinates, False)\n",
    "for i in range(repetitions - 1):\n",
    "    Static = Static.append(main(\"static\", time, 0, agents, 0, 0, wealth_coordinates, False))\n",
    "Static.to_csv(\"static.csv\")"
   ]
  },
  {
   "cell_type": "code",
   "execution_count": 3,
   "metadata": {},
   "outputs": [
    {
     "name": "stderr",
     "output_type": "stream",
     "text": [
      "100%|██████████| 20000/20000 [12:14<00:00, 27.24it/s] \n",
      "100%|██████████| 20000/20000 [00:41<00:00, 481.55it/s]\n",
      "100%|██████████| 20000/20000 [00:41<00:00, 481.93it/s]\n",
      "100%|██████████| 20000/20000 [00:41<00:00, 484.06it/s]\n",
      "100%|██████████| 20000/20000 [00:41<00:00, 487.25it/s]\n",
      "100%|██████████| 20000/20000 [00:41<00:00, 486.20it/s]\n",
      "100%|██████████| 20000/20000 [02:37<00:00, 127.21it/s]\n",
      "100%|██████████| 20000/20000 [00:41<00:00, 484.75it/s]\n",
      "100%|██████████| 20000/20000 [00:41<00:00, 479.23it/s]\n",
      "100%|██████████| 20000/20000 [00:40<00:00, 488.85it/s]\n"
     ]
    }
   ],
   "source": [
    "RdSearch = main(\"between\", time, 0, 100, 0, MUTATION_RATE, wealth_coordinates, False)\n",
    "for i in range(repetitions - 1):\n",
    "    RdSearch = RdSearch.append(main(\"between\", time, 0, agents, 0, MUTATION_RATE, wealth_coordinates, False))\n",
    "RdSearch.to_csv(\"rdsearch.csv\")"
   ]
  },
  {
   "cell_type": "code",
   "execution_count": 4,
   "metadata": {},
   "outputs": [
    {
     "name": "stderr",
     "output_type": "stream",
     "text": [
      " 62%|██████▏   | 12492/20000 [00:48<00:29, 253.42it/s]"
     ]
    },
    {
     "name": "stdout",
     "output_type": "stream",
     "text": [
      "Replacing // Gen 12447 // Type: nt, C: 270743739, S+: -1512426, L: 0, M: 272751042, W: -2007303\n"
     ]
    },
    {
     "name": "stderr",
     "output_type": "stream",
     "text": [
      "100%|██████████| 20000/20000 [01:18<00:00, 254.12it/s]\n",
      "100%|██████████| 20000/20000 [00:41<00:00, 486.76it/s]\n",
      "100%|█████████▉| 19970/20000 [00:41<00:00, 476.94it/s]/Users/aymericvie/Documents/GitHub/evology/evology/code/balance_sheet.py:120: UserWarning: VI Error\n",
      "  warnings.warn('VI Error')\n",
      "/Users/aymericvie/Documents/GitHub/evology/evology/code/balance_sheet.py:130: UserWarning: NT Error\n",
      "  warnings.warn('NT Error')\n",
      "100%|██████████| 20000/20000 [00:41<00:00, 485.89it/s]\n"
     ]
    },
    {
     "name": "stdout",
     "output_type": "stream",
     "text": [
      "Replacing // Gen 19992 // Type: nt, C: 732161499, S+: -2980608, L: 0, M: 932960215, W: -200798716\n",
      "Replacing // Gen 19998 // Type: vi, C: 25787, S+: -22079, L: 3013996, M: 5693620, W: -8681829\n",
      "Replacing // Gen 19998 // Type: nt, C: 25787, S+: -16127, L: 3465462, M: 4158678, W: -7598354\n",
      "Replacing // Gen 19998 // Type: nt, C: 25787, S+: -42591, L: 3113527, M: 10983026, W: -14070766\n",
      "Replacing // Gen 19998 // Type: vi, C: 25787, S+: -20303, L: 2773616, M: 5235610, W: -7983439\n",
      "Replacing // Gen 19998 // Type: vi, C: 25787, S+: -25207, L: 3437344, M: 6500253, W: -9911810\n",
      "Replacing // Gen 19998 // Type: nt, C: 25787, S+: -23384, L: 2636553, M: 6030133, W: -8640900\n",
      "Replacing // Gen 19998 // Type: vi, C: 25787, S+: -21994, L: 3002472, M: 5671664, W: -8648350\n",
      "Replacing // Gen 19998 // Type: nt, C: 25787, S+: -18412, L: 2908124, M: 4748071, W: -7630409\n",
      "Replacing // Gen 19998 // Type: nt, C: 25787, S+: -15907, L: 2560891, M: 4102132, W: -6637236\n",
      "Replacing // Gen 19998 // Type: nt, C: 25787, S+: -26570, L: 2968489, M: 6851680, W: -9794383\n",
      "Replacing // Gen 19998 // Type: nt, C: 25787, S+: -23754, L: 2768376, M: 6125452, W: -8868041\n",
      "Replacing // Gen 19998 // Type: vi, C: 25787, S+: -26354, L: 3591310, M: 6796112, W: -10361635\n",
      "Replacing // Gen 19998 // Type: vi, C: 25787, S+: -28200, L: 3841287, M: 7272019, W: -11087519\n",
      "Replacing // Gen 19998 // Type: vi, C: 25787, S+: -25544, L: 3553092, M: 6587175, W: -10114481\n",
      "Replacing // Gen 19998 // Type: nt, C: 69715802, S+: -647344, L: 0, M: 166930828, W: -97215026\n",
      "Replacing // Gen 19998 // Type: vi, C: 25787, S+: -27674, L: 3769889, M: 7136364, W: -10880467\n",
      "Replacing // Gen 19998 // Type: vi, C: 25787, S+: -25624, L: 3493831, M: 6607880, W: -10075924\n",
      "Replacing // Gen 19998 // Type: nt, C: 25787, S+: -22484, L: 2499969, M: 5797956, W: -8272139\n",
      "Replacing // Gen 19998 // Type: vi, C: 25787, S+: -25144, L: 3428877, M: 6484119, W: -9887210\n",
      "Replacing // Gen 19998 // Type: vi, C: 25787, S+: -23719, L: 3235919, M: 6116465, W: -9326597\n",
      "Replacing // Gen 19998 // Type: nt, C: 25787, S+: -11866, L: 1884950, M: 3059918, W: -4919081\n",
      "Replacing // Gen 19998 // Type: vi, C: 25787, S+: -16298, L: 2231627, M: 4202924, W: -6408764\n",
      "Replacing // Gen 19998 // Type: vi, C: 25787, S+: -30829, L: 4197021, M: 7950065, W: -12121300\n",
      "Replacing // Gen 19998 // Type: nt, C: 66636680, S+: -275142, L: 0, M: 70950893, W: -4314212\n"
     ]
    },
    {
     "name": "stderr",
     "output_type": "stream",
     "text": [
      " 99%|█████████▉| 19777/20000 [02:36<00:00, 431.95it/s]"
     ]
    },
    {
     "name": "stdout",
     "output_type": "stream",
     "text": [
      "Replacing // Gen 19745 // Type: vi, C: 25409, S+: -27716, L: 489537, M: 7042588, W: -7506716\n",
      "Replacing // Gen 19745 // Type: vi, C: 25409, S+: -20646, L: 371139, M: 5246036, W: -5591767\n",
      "Replacing // Gen 19745 // Type: vi, C: 25409, S+: -38986, L: 678244, M: 9905982, W: -10558817\n",
      "Replacing // Gen 19745 // Type: vi, C: 25409, S+: -36347, L: 634059, M: 9235542, W: -9844193\n",
      "Replacing // Gen 19745 // Type: vi, C: 25409, S+: -29060, L: 512036, M: 7383987, W: -7870615\n",
      "Replacing // Gen 19745 // Type: nt, C: 25409, S+: -21254, L: 621557, M: 5400615, W: -5996763\n",
      "Replacing // Gen 19745 // Type: vi, C: 25409, S+: -27726, L: 489705, M: 7045130, W: -7509426\n",
      "Replacing // Gen 19745 // Type: vi, C: 25409, S+: -24660, L: 438356, M: 6265973, W: -6678921\n",
      "Replacing // Gen 19745 // Type: vi, C: 25409, S+: -30233, L: 531672, M: 7681932, W: -8188195\n",
      "Replacing // Gen 19745 // Type: vi, C: 25409, S+: -36258, L: 632561, M: 9212798, W: -9819950\n",
      "Replacing // Gen 19745 // Type: vi, C: 25409, S+: -23155, L: 413158, M: 5883631, W: -6271381\n",
      "Replacing // Gen 19745 // Type: vi, C: 25409, S+: -22170, L: 396654, M: 5633197, W: -6004443\n",
      "Replacing // Gen 19745 // Type: vi, C: 25409, S+: -249432, L: 23651541, M: 63378300, W: -87004432\n",
      "Replacing // Gen 19745 // Type: vi, C: 25409, S+: -46847, L: 809891, M: 11903578, W: -12688061\n",
      "Replacing // Gen 19745 // Type: vi, C: 25409, S+: -29849, L: 525242, M: 7584369, W: -8084203\n",
      "Replacing // Gen 19745 // Type: vi, C: 25409, S+: -40511, L: 703781, M: 10293478, W: -10971851\n",
      "Replacing // Gen 19745 // Type: vi, C: 25409, S+: -20616, L: 370631, M: 5238337, W: -5583560\n",
      "Replacing // Gen 19745 // Type: vi, C: 25409, S+: -25586, L: 453867, M: 6501339, W: -6929797\n",
      "Replacing // Gen 19745 // Type: vi, C: 25409, S+: -14899, L: 274898, M: 3785702, W: -4035192\n",
      "Replacing // Gen 19745 // Type: vi, C: 25409, S+: -16309, L: 298523, M: 4144177, W: -4417291\n",
      "Replacing // Gen 19745 // Type: vi, C: 25409, S+: -15401, L: 283308, M: 3913316, W: -4171215\n",
      "Replacing // Gen 19757 // Type: vi, C: 30468, S+: -36326, L: 51845474, M: 11067908, W: -62882915\n",
      "Replacing // Gen 19757 // Type: nt, C: 30468, S+: -32967, L: 53638926, M: 10044505, W: -63652964\n",
      "Replacing // Gen 19757 // Type: nt, C: 30468, S+: -40063, L: 49842442, M: 12206616, W: -62018590\n",
      "Replacing // Gen 19757 // Type: nt, C: 30468, S+: -37294, L: 51378362, M: 11362888, W: -62710782\n",
      "Replacing // Gen 19757 // Type: nt, C: 30468, S+: -38605, L: 50684544, M: 11762342, W: -62416418\n",
      "Replacing // Gen 19757 // Type: vi, C: 30468, S+: -36326, L: 51845474, M: 11067908, W: -62882915\n",
      "Replacing // Gen 19757 // Type: nt, C: 30468, S+: -47493, L: 45973041, M: 14470461, W: -60413034\n",
      "Replacing // Gen 19757 // Type: nt, C: 30468, S+: -9592, L: 4638908, M: 2922532, W: -7530972\n",
      "Replacing // Gen 19757 // Type: vi, C: 30468, S+: -36326, L: 51845474, M: 11067908, W: -62882915\n",
      "Replacing // Gen 19757 // Type: vi, C: 30468, S+: -36326, L: 51845474, M: 11067908, W: -62882915\n",
      "Replacing // Gen 19757 // Type: vi, C: 30468, S+: -36326, L: 51845474, M: 11067908, W: -62882915\n",
      "Replacing // Gen 19757 // Type: nt, C: 30468, S+: -35403, L: 52394854, M: 10786624, W: -63151010\n",
      "Replacing // Gen 19757 // Type: nt, C: 30468, S+: -36012, L: 52037667, M: 10972206, W: -62979406\n",
      "Replacing // Gen 19769 // Type: vi, C: 47262, S+: -6572, L: 50719306, M: 3106375, W: -53778419\n",
      "Replacing // Gen 19769 // Type: vi, C: 47262, S+: -6572, L: 50719306, M: 3106375, W: -53778419\n",
      "Replacing // Gen 19769 // Type: vi, C: 47262, S+: -6572, L: 50719306, M: 3106375, W: -53778419\n",
      "Replacing // Gen 19769 // Type: nt, C: 47262, S+: -6443, L: 50809002, M: 3045334, W: -53807075\n",
      "Replacing // Gen 19769 // Type: nt, C: 47262, S+: -6351, L: 50883503, M: 3001711, W: -53837953\n",
      "Replacing // Gen 19769 // Type: vi, C: 47262, S+: -6572, L: 50719306, M: 3106375, W: -53778419\n",
      "Replacing // Gen 19769 // Type: nt, C: 47262, S+: -8724, L: 49112682, M: 4123226, W: -53188646\n",
      "Replacing // Gen 19789 // Type: nt, C: 812561170, S+: -2624206, L: 0, M: 910757186, W: -98196015\n",
      "Replacing // Gen 19801 // Type: vi, C: 46400626, S+: -136439, L: 0, M: 54980908, W: -8580281\n"
     ]
    },
    {
     "name": "stderr",
     "output_type": "stream",
     "text": [
      " 99%|█████████▉| 19864/20000 [02:36<00:00, 381.12it/s]"
     ]
    },
    {
     "name": "stdout",
     "output_type": "stream",
     "text": [
      "Replacing // Gen 19828 // Type: vi, C: 44704030, S+: -144595, L: 0, M: 48680825, W: -3976794\n",
      "Replacing // Gen 19844 // Type: vi, C: 47880, S+: -28908, L: 306691664, M: 13841508, W: -320485293\n",
      "Replacing // Gen 19844 // Type: nt, C: 47880, S+: -33792, L: 295765544, M: 16180034, W: -311897699\n",
      "Replacing // Gen 19844 // Type: vi, C: 47880, S+: -145867, L: 1514945871, M: 69841398, W: -1584739390\n",
      "Replacing // Gen 19844 // Type: vi, C: 47880, S+: -60618, L: 643526773, M: 29024213, W: -672503106\n",
      "Replacing // Gen 19844 // Type: nt, C: 47880, S+: -26720, L: 264328463, M: 12793842, W: -277074425\n",
      "Replacing // Gen 19844 // Type: vi, C: 47880, S+: -14291, L: 47345553, M: 6842591, W: -54140264\n",
      "Replacing // Gen 19844 // Type: nt, C: 47880, S+: -36462, L: 410068137, M: 17458404, W: -427478662\n",
      "Replacing // Gen 19854 // Type: nt, C: 2126758452, S+: -5316294, L: 0, M: 2561337307, W: -434578854\n",
      "Replacing // Gen 19870 // Type: nt, C: 66461636, S+: -333804, L: 0, M: 70586196, W: -4124560\n",
      "Replacing // Gen 19880 // Type: nt, C: 622972545, S+: -3599952, L: 0, M: 667395188, W: -44422643\n",
      "Replacing // Gen 19880 // Type: nt, C: 24256459, S+: -134814, L: 0, M: 24993215, W: -736755\n",
      "Replacing // Gen 19881 // Type: tf, C: 59767, S+: 3271, L: 104115433, M: 0, W: -102100065\n",
      "Replacing // Gen 19881 // Type: vi, C: 59767, S+: -63460, L: 1875776751, M: 37929256, W: -1913646239\n",
      "Replacing // Gen 19881 // Type: vi, C: 59767, S+: -2027, L: 60069589, M: 1211886, W: -61221707\n",
      "Replacing // Gen 19881 // Type: vi, C: 59767, S+: -3455, L: 102159840, M: 2065080, W: -104165153\n",
      "Replacing // Gen 19881 // Type: vi, C: 59767, S+: -6336, L: 186940642, M: 3787468, W: -190668342\n",
      "Replacing // Gen 19881 // Type: vi, C: 59767, S+: -3455, L: 102159840, M: 2065080, W: -104165153\n",
      "Replacing // Gen 19881 // Type: vi, C: 59767, S+: -2171, L: 64242416, M: 1297850, W: -65480499\n",
      "Replacing // Gen 19881 // Type: vi, C: 59767, S+: -3455, L: 102159840, M: 2065080, W: -104165153\n",
      "Replacing // Gen 19881 // Type: vi, C: 59767, S+: -3455, L: 102159840, M: 2065080, W: -104165153\n",
      "Replacing // Gen 19893 // Type: nt, C: 85094, S+: -690, L: 5155899, M: 587155, W: -5657960\n",
      "Replacing // Gen 19893 // Type: nt, C: 85094, S+: -708, L: 5139110, M: 603094, W: -5657110\n",
      "Replacing // Gen 19893 // Type: nt, C: 85094, S+: -668, L: 5175682, M: 568681, W: -5659270\n",
      "Replacing // Gen 19893 // Type: vi, C: 85094, S+: -687, L: 5158543, M: 584803, W: -5658253\n",
      "Replacing // Gen 19893 // Type: vi, C: 85094, S+: -687, L: 5158543, M: 584803, W: -5658253\n",
      "Replacing // Gen 19893 // Type: nt, C: 85094, S+: -736, L: 5113250, M: 627112, W: -5655269\n"
     ]
    },
    {
     "name": "stderr",
     "output_type": "stream",
     "text": [
      "100%|█████████▉| 19978/20000 [02:37<00:00, 363.36it/s]"
     ]
    },
    {
     "name": "stdout",
     "output_type": "stream",
     "text": [
      "Replacing // Gen 19909 // Type: vi, C: 150733604, S+: -280501, L: 0, M: 166623765, W: -15890161\n",
      "Replacing // Gen 19913 // Type: nt, C: 69603, S+: -3421, L: 75442271, M: 2381721, W: -77754389\n",
      "Replacing // Gen 19913 // Type: vi, C: 69603, S+: -3745, L: 75142699, M: 2606965, W: -77680061\n",
      "Replacing // Gen 19913 // Type: vi, C: 69603, S+: -3745, L: 75142699, M: 2606965, W: -77680061\n",
      "Replacing // Gen 19913 // Type: nt, C: 69603, S+: -906, L: 12943594, M: 630835, W: -13504826\n",
      "Replacing // Gen 19913 // Type: nt, C: 69603, S+: -3806, L: 74981039, M: 2649727, W: -77561164\n",
      "Replacing // Gen 19931 // Type: vi, C: 137589, S+: -25462, L: 55479240, M: 35033399, W: -90375051\n",
      "Replacing // Gen 19931 // Type: vi, C: 137589, S+: -783, L: 193748792, M: 1077819, W: -194689022\n",
      "Replacing // Gen 19931 // Type: nt, C: 137589, S+: -142, L: 79482047, M: 196076, W: -79540534\n",
      "Replacing // Gen 19931 // Type: nt, C: 137589, S+: -96, L: 79737738, M: 133073, W: -79733223\n",
      "Replacing // Gen 19931 // Type: nt, C: 137589, S+: -88, L: 79797359, M: 122224, W: -79781995\n",
      "Replacing // Gen 19931 // Type: nt, C: 137589, S+: -128, L: 79626090, M: 176929, W: -79665430\n",
      "Replacing // Gen 19951 // Type: nt, C: 165135, S+: -259, L: 98791470, M: 428397, W: -99054733\n",
      "Replacing // Gen 19951 // Type: nt, C: 165135, S+: -1332, L: 51799483, M: 2201197, W: -53835545\n",
      "Replacing // Gen 19951 // Type: vi, C: 165135, S+: -255, L: 98822140, M: 421541, W: -99078546\n",
      "Replacing // Gen 19951 // Type: nt, C: 165135, S+: -271, L: 98748372, M: 448558, W: -99031795\n",
      "Replacing // Gen 19951 // Type: nt, C: 165135, S+: -253, L: 98822465, M: 419371, W: -99076701\n",
      "Replacing // Gen 19951 // Type: vi, C: 165135, S+: -255, L: 98822140, M: 421541, W: -99078546\n",
      "Replacing // Gen 19961 // Type: nt, C: 181868, S+: -85, L: 32279242, M: 155176, W: -32252550\n",
      "Replacing // Gen 19961 // Type: vi, C: 181868, S+: -84, L: 32281983, M: 153141, W: -32253257\n",
      "Replacing // Gen 19961 // Type: nt, C: 181868, S+: -84, L: 32281262, M: 153738, W: -32253132\n",
      "Replacing // Gen 19961 // Type: nt, C: 181868, S+: -82, L: 32286734, M: 149393, W: -32254260\n",
      "Replacing // Gen 19961 // Type: vi, C: 181868, S+: -84, L: 32281983, M: 153141, W: -32253257\n",
      "Replacing // Gen 19961 // Type: vi, C: 181868, S+: -84, L: 32281983, M: 153141, W: -32253257\n",
      "Replacing // Gen 19981 // Type: nt, C: 178292, S+: -803, L: 26188308, M: 1433074, W: -27443091"
     ]
    },
    {
     "name": "stderr",
     "output_type": "stream",
     "text": [
      "100%|██████████| 20000/20000 [02:37<00:00, 127.30it/s]\n"
     ]
    },
    {
     "name": "stdout",
     "output_type": "stream",
     "text": [
      "\n",
      "Replacing // Gen 19981 // Type: vi, C: 178292, S+: -45212, L: 397505579, M: 80609747, W: -477937035\n",
      "Replacing // Gen 19981 // Type: nt, C: 178292, S+: -806, L: 26181126, M: 1437894, W: -27440728\n",
      "Replacing // Gen 19981 // Type: vi, C: 178292, S+: -807, L: 26179399, M: 1439619, W: -27440726\n",
      "Replacing // Gen 19981 // Type: vi, C: 178292, S+: -807, L: 26179399, M: 1439619, W: -27440726\n",
      "Replacing // Gen 19987 // Type: nt, C: 292513682, S+: -228720, L: 0, M: 326690732, W: -34177049\n"
     ]
    },
    {
     "name": "stderr",
     "output_type": "stream",
     "text": [
      "100%|██████████| 20000/20000 [00:41<00:00, 486.90it/s]\n",
      "100%|██████████| 20000/20000 [00:40<00:00, 488.59it/s]\n",
      " 85%|████████▍ | 16956/20000 [00:34<00:06, 476.96it/s]"
     ]
    },
    {
     "name": "stdout",
     "output_type": "stream",
     "text": [
      "Replacing // Gen 16908 // Type: nt, C: 208798827, S+: -1721420, L: 0, M: 210185502, W: -1386674\n"
     ]
    },
    {
     "name": "stderr",
     "output_type": "stream",
     "text": [
      "100%|██████████| 20000/20000 [00:40<00:00, 489.41it/s]\n",
      "100%|██████████| 20000/20000 [00:40<00:00, 489.90it/s]\n",
      " 30%|██▉       | 5922/20000 [00:11<00:28, 501.52it/s]"
     ]
    },
    {
     "name": "stdout",
     "output_type": "stream",
     "text": [
      "Replacing // Gen 5821 // Type: nt, C: 280252300, S+: -1381088, L: -66908132, M: 350575519, W: -3415085\n"
     ]
    },
    {
     "name": "stderr",
     "output_type": "stream",
     "text": [
      "100%|██████████| 20000/20000 [00:40<00:00, 491.82it/s]\n",
      " 92%|█████████▏| 18462/20000 [00:37<00:03, 490.67it/s]"
     ]
    },
    {
     "name": "stdout",
     "output_type": "stream",
     "text": [
      "Replacing // Gen 18381 // Type: nt, C: 305914121, S+: -1441215, L: 0, M: 306633094, W: -718972\n"
     ]
    },
    {
     "name": "stderr",
     "output_type": "stream",
     "text": [
      "100%|██████████| 20000/20000 [00:41<00:00, 486.72it/s]\n"
     ]
    }
   ],
   "source": [
    "\n",
    "ProfAdapt = main(\"between\", time, PROBA_SELECTION, 100, 0, 0, wealth_coordinates, False)\n",
    "for i in range(repetitions - 1):\n",
    "    ProfAdapt = ProfAdapt.append(main(\"between\", time, PROBA_SELECTION, agents, 0, 0, wealth_coordinates, False))\n",
    "ProfAdapt.to_csv(\"profadapt.csv\")"
   ]
  },
  {
   "cell_type": "code",
   "execution_count": 5,
   "metadata": {},
   "outputs": [
    {
     "name": "stderr",
     "output_type": "stream",
     "text": [
      "100%|██████████| 20000/20000 [01:20<00:00, 249.23it/s]\n",
      "100%|██████████| 20000/20000 [02:36<00:00, 127.55it/s]\n",
      "100%|██████████| 20000/20000 [00:41<00:00, 479.04it/s]\n",
      "100%|██████████| 20000/20000 [00:42<00:00, 475.26it/s]\n",
      "100%|██████████| 20000/20000 [00:42<00:00, 466.46it/s]\n",
      "100%|██████████| 20000/20000 [00:43<00:00, 461.81it/s]\n",
      "100%|██████████| 20000/20000 [00:41<00:00, 482.84it/s]\n",
      "100%|██████████| 20000/20000 [00:42<00:00, 475.10it/s]\n",
      "100%|██████████| 20000/20000 [00:40<00:00, 487.84it/s]\n",
      " 24%|██▍       | 4764/20000 [02:04<00:31, 480.15it/s]"
     ]
    },
    {
     "name": "stdout",
     "output_type": "stream",
     "text": [
      "Replacing // Gen 4717 // Type: nt, C: 108486084, S+: -1658227, L: 0, M: 108696843, W: -210758\n"
     ]
    },
    {
     "name": "stderr",
     "output_type": "stream",
     "text": [
      " 69%|██████▉   | 13789/20000 [02:23<00:13, 451.85it/s]"
     ]
    },
    {
     "name": "stdout",
     "output_type": "stream",
     "text": [
      "Replacing // Gen 13700 // Type: nt, C: 211829997, S+: -4965123, L: 0, M: 214344394, W: -2514397\n"
     ]
    },
    {
     "name": "stderr",
     "output_type": "stream",
     "text": [
      " 88%|████████▊ | 17535/20000 [02:31<00:05, 421.67it/s]"
     ]
    },
    {
     "name": "stdout",
     "output_type": "stream",
     "text": [
      "Replacing // Gen 17478 // Type: vi, C: 81498494, S+: -399820, L: 0, M: 83390601, W: -1892107\n",
      "Replacing // Gen 17504 // Type: nt, C: 33262, S+: -39, L: 375084, M: 12976, W: -354799\n",
      "Replacing // Gen 17504 // Type: nt, C: 33262, S+: -5685, L: 1452999, M: 1891081, W: -3310818\n",
      "Replacing // Gen 17504 // Type: nt, C: 33262, S+: -76, L: 363488, M: 25377, W: -355604\n",
      "Replacing // Gen 17504 // Type: vi, C: 33262, S+: -125, L: 429599, M: 41606, W: -437943\n",
      "Replacing // Gen 17504 // Type: vi, C: 33262, S+: -531, L: 1716744, M: 176725, W: -1860208\n",
      "Replacing // Gen 17504 // Type: vi, C: 33262, S+: -130, L: 448275, M: 43566, W: -458580\n",
      "Replacing // Gen 17504 // Type: nt, C: 33262, S+: -380, L: 582560, M: 126500, W: -675798\n",
      "Replacing // Gen 17504 // Type: nt, C: 33262, S+: -537, L: 551042, M: 178622, W: -696402\n",
      "Replacing // Gen 17504 // Type: vi, C: 33262, S+: -1005, L: 3421858, M: 334392, W: -3722988\n",
      "Replacing // Gen 17504 // Type: nt, C: 33262, S+: -136, L: 388782, M: 45502, W: -401022\n",
      "Replacing // Gen 17504 // Type: nt, C: 33262, S+: -412, L: 1232486, M: 137200, W: -1336425\n",
      "Replacing // Gen 17504 // Type: nt, C: 33262, S+: -88, L: 529939, M: 29575, W: -526253\n",
      "Replacing // Gen 17504 // Type: vi, C: 33262, S+: -79, L: 284037, M: 26325, W: -277101\n",
      "Replacing // Gen 17504 // Type: nt, C: 33262, S+: -81, L: 205520, M: 27088, W: -199347\n",
      "Replacing // Gen 17504 // Type: vi, C: 33262, S+: -301, L: 987720, M: 100195, W: -1054654\n",
      "Replacing // Gen 17504 // Type: vi, C: 33262, S+: -231, L: 766077, M: 76928, W: -809744\n",
      "Replacing // Gen 17504 // Type: nt, C: 33262, S+: -19, L: 266383, M: 6335, W: -239457\n",
      "Replacing // Gen 17504 // Type: nt, C: 33262, S+: -16, L: 208927, M: 5422, W: -181087\n",
      "Replacing // Gen 17504 // Type: nt, C: 33262, S+: -3182, L: 10635533, M: 1058659, W: -11660931\n",
      "Replacing // Gen 17504 // Type: vi, C: 33262, S+: -218, L: 724152, M: 72527, W: -763417\n",
      "Replacing // Gen 17504 // Type: nt, C: 33262, S+: -1783, L: 1017356, M: 593201, W: -1577295\n",
      "Replacing // Gen 17514 // Type: nt, C: 19933, S+: -106324, L: 21782314, M: 21193605, W: -42955987\n",
      "Replacing // Gen 17514 // Type: nt, C: 19933, S+: -96571, L: 24833400, M: 19249652, W: -44063120\n",
      "Replacing // Gen 17514 // Type: vi, C: 19933, S+: -94106, L: 25608082, M: 18758225, W: -44346374\n",
      "Replacing // Gen 17514 // Type: nt, C: 19933, S+: -90367, L: 26765059, M: 18013049, W: -44758176\n",
      "Replacing // Gen 17514 // Type: vi, C: 19933, S+: -94106, L: 25608082, M: 18758225, W: -44346374\n",
      "Replacing // Gen 17514 // Type: nt, C: 19933, S+: -99641, L: 23915036, M: 19861531, W: -43756634\n",
      "Replacing // Gen 17514 // Type: vi, C: 19933, S+: -94106, L: 25608082, M: 18758225, W: -44346374\n",
      "Replacing // Gen 17514 // Type: vi, C: 19933, S+: -94106, L: 25608082, M: 18758225, W: -44346374\n",
      "Replacing // Gen 17514 // Type: nt, C: 19933, S+: -83002, L: 29038949, M: 16544861, W: -45563877\n",
      "Replacing // Gen 17514 // Type: nt, C: 19933, S+: -95616, L: 25143166, M: 19059169, W: -44182403\n",
      "Replacing // Gen 17514 // Type: nt, C: 19933, S+: -89323, L: 27099838, M: 17804791, W: -44884696\n",
      "Replacing // Gen 17514 // Type: vi, C: 19933, S+: -94106, L: 25608082, M: 18758225, W: -44346374\n",
      "Replacing // Gen 17514 // Type: nt, C: 19933, S+: -93730, L: 25695873, M: 18683326, W: -44359266\n",
      "Replacing // Gen 17514 // Type: nt, C: 19933, S+: -79833, L: 29979172, M: 15913234, W: -45872474\n",
      "Replacing // Gen 17529 // Type: vi, C: 259067800, S+: -1048777, L: 0, M: 280537533, W: -21469732\n",
      "Replacing // Gen 17545 // Type: nt, C: 36419, S+: -21686, L: 120891566, M: 7898185, W: -128753333\n",
      "Replacing // Gen 17545 // Type: nt, C: 36419, S+: -18402, L: 119733731, M: 6701890, W: -126399202\n",
      "Replacing // Gen 17545 // Type: nt, C: 36419, S+: -19866, L: 128515642, M: 7235296, W: -135714519\n",
      "Replacing // Gen 17545 // Type: nt, C: 36419, S+: -14489, L: 62607843, M: 5276870, W: -67848294\n",
      "Replacing // Gen 17545 // Type: nt, C: 36419, S+: -31462, L: 108383636, M: 11458481, W: -119805698\n",
      "Replacing // Gen 17545 // Type: nt, C: 36419, S+: -17926, L: 129805220, M: 6528707, W: -136297509\n",
      "Replacing // Gen 17545 // Type: vi, C: 36419, S+: -23394, L: 119054756, M: 8520200, W: -127538538\n",
      "Replacing // Gen 17545 // Type: tf, C: 36419, S+: 18685, L: 125859862, M: 0, W: -119018296\n",
      "Replacing // Gen 17545 // Type: nt, C: 36419, S+: -22333, L: 121083965, M: 8133606, W: -129181152\n",
      "Replacing // Gen 17545 // Type: vi, C: 36419, S+: -23394, L: 119054756, M: 8520200, W: -127538538\n",
      "Replacing // Gen 17545 // Type: vi, C: 36419, S+: -23394, L: 119054756, M: 8520200, W: -127538538\n",
      "Replacing // Gen 17545 // Type: vi, C: 36419, S+: -23704, L: 13349941, M: 8632876, W: -21946398\n",
      "Replacing // Gen 17546 // Type: vi, C: 23580786, S+: -35337, L: 0, M: 27001306, W: -3420519\n",
      "Replacing // Gen 17557 // Type: vi, C: 59566, S+: -2037, L: 82659853, M: 1213539, W: -83813827"
     ]
    },
    {
     "name": "stderr",
     "output_type": "stream",
     "text": [
      " 88%|████████▊ | 17619/20000 [02:31<00:06, 386.93it/s]"
     ]
    },
    {
     "name": "stdout",
     "output_type": "stream",
     "text": [
      "\n",
      "Replacing // Gen 17557 // Type: vi, C: 59566, S+: -1735, L: 74227712, M: 1034006, W: -75202152\n",
      "Replacing // Gen 17557 // Type: nt, C: 59566, S+: -1929, L: 82757763, M: 1149126, W: -83847323\n",
      "Replacing // Gen 17557 // Type: nt, C: 59566, S+: -1894, L: 82759605, M: 1128532, W: -83828571\n",
      "Replacing // Gen 17557 // Type: vi, C: 59566, S+: -2037, L: 82659853, M: 1213539, W: -83813827\n",
      "Replacing // Gen 17557 // Type: vi, C: 59566, S+: -2037, L: 82659853, M: 1213539, W: -83813827\n",
      "Replacing // Gen 17557 // Type: nt, C: 59566, S+: -1999, L: 82688021, M: 1190745, W: -83819201\n",
      "Replacing // Gen 17557 // Type: vi, C: 59566, S+: -2037, L: 82659853, M: 1213539, W: -83813827\n",
      "Replacing // Gen 17557 // Type: nt, C: 59566, S+: -1675, L: 82967938, M: 997804, W: -83906177\n",
      "Replacing // Gen 17557 // Type: nt, C: 59566, S+: -1846, L: 82820794, M: 1099746, W: -83860974\n",
      "Replacing // Gen 17557 // Type: vi, C: 59566, S+: -2037, L: 82659853, M: 1213539, W: -83813827\n",
      "Replacing // Gen 17557 // Type: nt, C: 59566, S+: -1884, L: 82796490, M: 1122399, W: -83859324\n",
      "Replacing // Gen 17593 // Type: vi, C: 59341, S+: -3560, L: 14099738, M: 2112732, W: -16153128\n",
      "Replacing // Gen 17593 // Type: vi, C: 59341, S+: -3560, L: 14099738, M: 2112732, W: -16153128\n",
      "Replacing // Gen 17593 // Type: nt, C: 59341, S+: -3506, L: 14174119, M: 2080546, W: -16195324\n",
      "Replacing // Gen 17593 // Type: nt, C: 59341, S+: -3641, L: 14046800, M: 2161006, W: -16148465\n",
      "Replacing // Gen 17593 // Type: nt, C: 59341, S+: -4005, L: 13679797, M: 2377192, W: -15997648\n",
      "Replacing // Gen 17593 // Type: nt, C: 59341, S+: -3115, L: 14417706, M: 1848997, W: -16207361\n",
      "Replacing // Gen 17593 // Type: vi, C: 59341, S+: -3560, L: 14099738, M: 2112732, W: -16153128\n",
      "Replacing // Gen 17593 // Type: nt, C: 59341, S+: -3531, L: 14233150, M: 2095730, W: -16269538\n",
      "Replacing // Gen 17593 // Type: vi, C: 59341, S+: -3560, L: 14099738, M: 2112732, W: -16153128\n",
      "Replacing // Gen 17605 // Type: nt, C: 87922, S+: -7548, L: 1865665, M: 6637202, W: -8414945\n",
      "Replacing // Gen 17605 // Type: vi, C: 87922, S+: -7545, L: 1869014, M: 6633793, W: -8414885\n",
      "Replacing // Gen 17605 // Type: vi, C: 87922, S+: -7545, L: 1869014, M: 6633793, W: -8414885\n",
      "Replacing // Gen 17605 // Type: nt, C: 87922, S+: -286, L: 726701, M: 251570, W: -890349\n",
      "Replacing // Gen 17605 // Type: vi, C: 87922, S+: -7545, L: 1869014, M: 6633793, W: -8414885\n",
      "Replacing // Gen 17612 // Type: vi, C: 587208967, S+: -2394057, L: 0, M: 777637798, W: -190428830\n",
      "Replacing // Gen 17623 // Type: vi, C: 88088035, S+: -159266, L: 0, M: 95370533, W: -7282497\n",
      "Replacing // Gen 17637 // Type: nt, C: 84767, S+: -129504, L: 94068714, M: 109776855, W: -203760802\n",
      "Replacing // Gen 17637 // Type: nt, C: 84767, S+: -1144, L: 63796672, M: 970565, W: -64682470\n",
      "Replacing // Gen 17637 // Type: vi, C: 84767, S+: -1883, L: 4533136, M: 1596803, W: -6045172\n"
     ]
    },
    {
     "name": "stderr",
     "output_type": "stream",
     "text": [
      " 88%|████████▊ | 17697/20000 [02:32<00:06, 373.86it/s]"
     ]
    },
    {
     "name": "stdout",
     "output_type": "stream",
     "text": [
      "Replacing // Gen 17643 // Type: nt, C: 521210809, S+: -810981, L: 0, M: 610457876, W: -89247067\n",
      "Replacing // Gen 17659 // Type: vi, C: 98382, S+: -946, L: 66274386, M: 931008, W: -67107012\n",
      "Replacing // Gen 17659 // Type: vi, C: 98382, S+: -14736, L: 13472677, M: 14497659, W: -27871954\n",
      "Replacing // Gen 17678 // Type: vi, C: 38701993, S+: -122265, L: 0, M: 47496383, W: -8794389\n",
      "Replacing // Gen 17678 // Type: vi, C: 35307614, S+: -100970, L: 0, M: 39223829, W: -3916215\n",
      "Replacing // Gen 17710 // Type: nt, C: 94022, S+: -1420, L: 13021605, M: 1335994, W: -14263578\n",
      "Replacing // Gen 17710 // Type: vi, C: 94022, S+: -1328, L: 13195399, M: 1248639, W: -14350017\n"
     ]
    },
    {
     "name": "stderr",
     "output_type": "stream",
     "text": [
      " 89%|████████▉ | 17773/20000 [02:32<00:06, 369.22it/s]"
     ]
    },
    {
     "name": "stdout",
     "output_type": "stream",
     "text": [
      "Replacing // Gen 17730 // Type: vi, C: 98271, S+: -6168, L: 231672719, M: 6062157, W: -237636605\n",
      "Replacing // Gen 17730 // Type: nt, C: 98271, S+: -1245, L: 47420030, M: 1223699, W: -48545458\n",
      "Replacing // Gen 17734 // Type: vi, C: 4133194617, S+: -18845894, L: 0, M: 8847393545, W: -4714198928\n",
      "Replacing // Gen 17740 // Type: vi, C: 43378872, S+: -317124, L: 0, M: 48399540, W: -5020668\n",
      "Replacing // Gen 17744 // Type: vi, C: 16290, S+: -93772, L: 5587402, M: 15275594, W: -20846706\n",
      "Replacing // Gen 17764 // Type: vi, C: 22746, S+: -25243, L: 3743667, M: 5741940, W: -9462862\n",
      "Replacing // Gen 17764 // Type: nt, C: 22746, S+: -9737, L: 1272222, M: 2214859, W: -3464336\n",
      "Replacing // Gen 17764 // Type: vi, C: 22746, S+: -124830, L: 27695349, M: 28394034, W: -56066637\n",
      "Replacing // Gen 17764 // Type: vi, C: 22746, S+: -2636, L: 386021, M: 599640, W: -962916\n",
      "Replacing // Gen 17764 // Type: nt, C: 22746, S+: -42457, L: 12212708, M: 9657420, W: -21847382\n",
      "Replacing // Gen 17774 // Type: vi, C: 22465, S+: -28693, L: 6172262, M: 6445905, W: -12595702\n",
      "Replacing // Gen 17774 // Type: vi, C: 22465, S+: -28693, L: 6172262, M: 6445905, W: -12595702\n",
      "Replacing // Gen 17784 // Type: vi, C: 28361, S+: -38187, L: 136148150, M: 10830493, W: -146950283\n",
      "Replacing // Gen 17784 // Type: nt, C: 28361, S+: -18519, L: 70604951, M: 5252363, W: -75828954\n"
     ]
    },
    {
     "name": "stderr",
     "output_type": "stream",
     "text": [
      " 89%|████████▉ | 17885/20000 [02:32<00:05, 368.20it/s]"
     ]
    },
    {
     "name": "stdout",
     "output_type": "stream",
     "text": [
      "Replacing // Gen 17804 // Type: nt, C: 31666, S+: -19858, L: 18802340, M: 6288403, W: -25059078\n",
      "Replacing // Gen 17828 // Type: nt, C: 40512, S+: -141676, L: 283766189, M: 57396163, W: -341121841\n",
      "Replacing // Gen 17828 // Type: nt, C: 28200501, S+: -84938, L: 0, M: 34410178, W: -6209677\n",
      "Replacing // Gen 17848 // Type: vi, C: 47019, S+: -430, L: 2157367, M: 202376, W: -2312724\n",
      "Replacing // Gen 17848 // Type: nt, C: 47019, S+: -5805, L: 54704783, M: 2729911, W: -57387675\n",
      "Replacing // Gen 17868 // Type: nt, C: 54217, S+: -2897, L: 26884965, M: 1570790, W: -28401538\n",
      "Replacing // Gen 17874 // Type: vi, C: 230759800, S+: -576739, L: 0, M: 259480995, W: -28721195\n",
      "Replacing // Gen 17878 // Type: nt, C: 58938, S+: -1410, L: 29065664, M: 831313, W: -29838040\n",
      "Replacing // Gen 17878 // Type: nt, C: 58938, S+: -930, L: 11721934, M: 548183, W: -12211179\n",
      "Replacing // Gen 17894 // Type: vi, C: 58977990, S+: -555861, L: 0, M: 63412681, W: -4434690\n"
     ]
    },
    {
     "name": "stderr",
     "output_type": "stream",
     "text": [
      " 90%|█████████ | 18000/20000 [02:32<00:05, 371.49it/s]"
     ]
    },
    {
     "name": "stdout",
     "output_type": "stream",
     "text": [
      "Replacing // Gen 17906 // Type: nt, C: 139845096, S+: -15862578, L: 0, M: 2427926267, W: -2288081170\n",
      "Replacing // Gen 17906 // Type: vi, C: 15306, S+: -749273, L: 28416774, M: 114683870, W: -143085339\n",
      "Replacing // Gen 17906 // Type: vi, C: 15306, S+: -3919417, L: 148318453, M: 599906009, W: -748209156\n",
      "Replacing // Gen 17957 // Type: vi, C: 36228, S+: -5469, L: 25133445, M: 1981386, W: -27078603\n",
      "Replacing // Gen 17957 // Type: nt, C: 36228, S+: -30799, L: 119173469, M: 11157926, W: -130295168\n",
      "Replacing // Gen 17957 // Type: vi, C: 36228, S+: -684872, L: 3043870585, M: 248115431, W: -3291949788\n",
      "Replacing // Gen 17957 // Type: nt, C: 36228, S+: -30105, L: 108774656, M: 10906494, W: -119644923\n",
      "Replacing // Gen 17957 // Type: nt, C: 36228, S+: -10917, L: 68290880, M: 3955048, W: -72209701\n",
      "Replacing // Gen 17957 // Type: vi, C: 36228, S+: -10756, L: 42993255, M: 3896684, W: -46853712\n",
      "Replacing // Gen 17969 // Type: vi, C: 64835, S+: -860, L: 32507556, M: 557901, W: -33000622\n",
      "Replacing // Gen 17969 // Type: vi, C: 64835, S+: -860, L: 32507556, M: 557901, W: -33000622\n",
      "Replacing // Gen 17969 // Type: nt, C: 64835, S+: -749, L: 32603597, M: 486042, W: -33024804\n",
      "Replacing // Gen 17969 // Type: vi, C: 64835, S+: -860, L: 32507556, M: 557901, W: -33000622\n",
      "Replacing // Gen 17989 // Type: nt, C: 74062, S+: -1659, L: 120464116, M: 1229322, W: -121619377\n",
      "Replacing // Gen 17989 // Type: nt, C: 74062, S+: -1354, L: 120894581, M: 1002941, W: -121823461\n",
      "Replacing // Gen 17989 // Type: vi, C: 74062, S+: -1424, L: 120761690, M: 1054882, W: -121742511\n",
      "Replacing // Gen 18005 // Type: vi, C: 51240782, S+: -88520, L: 0, M: 57522607, W: -6281824\n",
      "Replacing // Gen 18009 // Type: nt, C: 83594, S+: -1238, L: 46073489, M: 1035237, W: -47025132\n",
      "Replacing // Gen 18009 // Type: vi, C: 83594, S+: -1057, L: 46249721, M: 884390, W: -47050517\n",
      "Replacing // Gen 18029 // Type: vi, C: 94235, S+: -882, L: 1084672, M: 831249, W: -1821686\n"
     ]
    },
    {
     "name": "stderr",
     "output_type": "stream",
     "text": [
      " 91%|█████████ | 18114/20000 [02:33<00:05, 369.19it/s]"
     ]
    },
    {
     "name": "stdout",
     "output_type": "stream",
     "text": [
      "Replacing // Gen 18055 // Type: vi, C: 175275707, S+: -220686, L: 0, M: 195009880, W: -19734172\n",
      "Replacing // Gen 18059 // Type: vi, C: 112989, S+: -1433, L: 37449586, M: 1619588, W: -38956186\n",
      "Replacing // Gen 18084 // Type: vi, C: 61252, S+: -885605, L: 2966667666, M: 542451088, W: -3509057503\n",
      "Replacing // Gen 18084 // Type: vi, C: 61252, S+: -110331, L: 325607863, M: 67579968, W: -393126579\n",
      "Replacing // Gen 18084 // Type: vi, C: 61252, S+: -4258181, L: 16761880176, M: 2608221624, W: -19370040548\n",
      "Replacing // Gen 18084 // Type: vi, C: 61252, S+: -20553, L: 101331340, M: 12589357, W: -113859445\n",
      "Replacing // Gen 18095 // Type: nt, C: 64905149, S+: -93106, L: 0, M: 68738651, W: -3833502\n",
      "Replacing // Gen 18095 // Type: vi, C: 65602266, S+: -93410, L: 0, M: 68962932, W: -3360666\n",
      "Replacing // Gen 18095 // Type: nt, C: 65293595, S+: -93275, L: 0, M: 68863722, W: -3570126\n",
      "Replacing // Gen 18095 // Type: vi, C: 65602266, S+: -93410, L: 0, M: 68962932, W: -3360666\n",
      "Replacing // Gen 18103 // Type: nt, C: 76310142, S+: -65859, L: 0, M: 79208207, W: -2898064\n",
      "Replacing // Gen 18108 // Type: vi, C: 216892, S+: -25, L: 35407563, M: 55015, W: -35245685\n",
      "Replacing // Gen 18108 // Type: nt, C: 216892, S+: -25, L: 35407956, M: 54994, W: -35246057\n",
      "Replacing // Gen 18108 // Type: nt, C: 216892, S+: -25, L: 35407375, M: 55314, W: -35245796\n",
      "Replacing // Gen 18108 // Type: nt, C: 216892, S+: -17, L: 28801000, M: 37571, W: -28621678\n",
      "Replacing // Gen 18121 // Type: vi, C: 8643514147, S+: -2939819, L: 0, M: 9207483809, W: -563969661\n",
      "Replacing // Gen 18128 // Type: nt, C: 150824, S+: -326, L: 61724575, M: 492312, W: -62066063\n",
      "Replacing // Gen 18128 // Type: nt, C: 150824, S+: -299, L: 61787183, M: 451630, W: -62087989\n",
      "Replacing // Gen 18128 // Type: vi, C: 150824, S+: -66, L: 20432243, M: 99670, W: -20381089\n",
      "Replacing // Gen 18128 // Type: vi, C: 150824, S+: -311, L: 61759340, M: 469966, W: -62078483\n"
     ]
    },
    {
     "name": "stderr",
     "output_type": "stream",
     "text": [
      " 91%|█████████ | 18188/20000 [02:33<00:04, 365.34it/s]"
     ]
    },
    {
     "name": "stdout",
     "output_type": "stream",
     "text": [
      "Replacing // Gen 18148 // Type: nt, C: 174292, S+: -254, L: 47104901, M: 444367, W: -47374976\n",
      "Replacing // Gen 18148 // Type: nt, C: 174292, S+: -271, L: 47056995, M: 472388, W: -47355091\n",
      "Replacing // Gen 18148 // Type: nt, C: 174292, S+: -267, L: 47075729, M: 466174, W: -47367611\n",
      "Replacing // Gen 18168 // Type: vi, C: 204152, S+: -170, L: 68086861, M: 348251, W: -68230961\n",
      "Replacing // Gen 18168 // Type: nt, C: 204152, S+: -2780, L: 103730061, M: 5675593, W: -109201503\n",
      "Replacing // Gen 18168 // Type: vi, C: 204152, S+: -170, L: 68086861, M: 348251, W: -68230961\n",
      "Replacing // Gen 18168 // Type: vi, C: 204152, S+: -9683, L: 9298539, M: 19768538, W: -28862925\n",
      "Replacing // Gen 18188 // Type: nt, C: 240927, S+: -155, L: 59047134, M: 374048, W: -59180256\n",
      "Replacing // Gen 18188 // Type: nt, C: 240927, S+: -155, L: 59049923, M: 375315, W: -59184312\n",
      "Replacing // Gen 18188 // Type: nt, C: 240927, S+: -1226, L: 42391205, M: 2955775, W: -45106053\n",
      "Replacing // Gen 18188 // Type: nt, C: 240927, S+: -154, L: 59058856, M: 372367, W: -59190296\n",
      "Replacing // Gen 18201 // Type: vi, C: 258834558, S+: -58313, L: 0, M: 267771443, W: -8936884\n",
      "Replacing // Gen 18201 // Type: vi, C: 325649085, S+: -73366, L: 0, M: 336892902, W: -11243816\n",
      "Replacing // Gen 18208 // Type: nt, C: 274315, S+: -153, L: 50801590, M: 421316, W: -50948591\n",
      "Replacing // Gen 18208 // Type: vi, C: 274315, S+: -20, L: 16627234, M: 56102, W: -16409021\n",
      "Replacing // Gen 18208 // Type: vi, C: 274315, S+: -14287, L: 6603275, M: 39191930, W: -45520891\n",
      "Replacing // Gen 18208 // Type: vi, C: 274315, S+: -153, L: 50801566, M: 421719, W: -50948970\n",
      "Replacing // Gen 18208 // Type: vi, C: 274315, S+: -153, L: 50801566, M: 421719, W: -50948970\n",
      "Replacing // Gen 18208 // Type: nt, C: 274315, S+: -152, L: 50805856, M: 418654, W: -50950196\n"
     ]
    },
    {
     "name": "stderr",
     "output_type": "stream",
     "text": [
      " 92%|█████████▏| 18300/20000 [02:33<00:04, 368.81it/s]"
     ]
    },
    {
     "name": "stdout",
     "output_type": "stream",
     "text": [
      "Replacing // Gen 18228 // Type: vi, C: 330078, S+: -141, L: 20356999, M: 468500, W: -20495422\n",
      "Replacing // Gen 18228 // Type: nt, C: 330078, S+: -141, L: 20357996, M: 467571, W: -20495489\n",
      "Replacing // Gen 18228 // Type: vi, C: 330078, S+: -141, L: 20356999, M: 468500, W: -20495422\n",
      "Replacing // Gen 18234 // Type: vi, C: 7775141163, S+: -4234069, L: 0, M: 9463737733, W: -1688596569\n",
      "Replacing // Gen 18236 // Type: vi, C: 281099830, S+: -171007, L: 0, M: 312829665, W: -31729834\n",
      "Replacing // Gen 18240 // Type: vi, C: 235675, S+: -14, L: 3285943, M: 33355, W: -3083624\n",
      "Replacing // Gen 18240 // Type: vi, C: 235675, S+: -107, L: 7136775, M: 253038, W: -7154139\n",
      "Replacing // Gen 18240 // Type: vi, C: 235675, S+: -100, L: 4880811, M: 236961, W: -4882097\n",
      "Replacing // Gen 18240 // Type: vi, C: 235675, S+: -107, L: 7136775, M: 253038, W: -7154139\n",
      "Replacing // Gen 18240 // Type: nt, C: 235675, S+: -107, L: 7137533, M: 252333, W: -7154192\n",
      "Replacing // Gen 18260 // Type: vi, C: 278027, S+: -207, L: 1178347, M: 577466, W: -1477787\n",
      "Replacing // Gen 18294 // Type: vi, C: 287035680, S+: -104107, L: 0, M: 401904839, W: -114869159\n",
      "Replacing // Gen 18300 // Type: nt, C: 392626, S+: -312, L: 8238528, M: 1226646, W: -9072548\n"
     ]
    },
    {
     "name": "stderr",
     "output_type": "stream",
     "text": [
      " 92%|█████████▏| 18376/20000 [02:33<00:04, 370.82it/s]"
     ]
    },
    {
     "name": "stdout",
     "output_type": "stream",
     "text": [
      "Replacing // Gen 18332 // Type: nt, C: 389855, S+: -74, L: 45114555, M: 290293, W: -45014993\n",
      "Replacing // Gen 18345 // Type: nt, C: 13418725290, S+: -2907969, L: 0, M: 15087856884, W: -1669131594\n",
      "Replacing // Gen 18349 // Type: nt, C: 50145327, S+: -55196, L: 0, M: 58126314, W: -7980986\n",
      "Replacing // Gen 18356 // Type: vi, C: 841911350, S+: -384669, L: 0, M: 1009979503, W: -168068152\n",
      "Replacing // Gen 18356 // Type: vi, C: 441670187, S+: -201799, L: 0, M: 529839437, W: -88169250\n",
      "Replacing // Gen 18374 // Type: vi, C: 240842, S+: -133, L: 63443652, M: 322323, W: -63525133\n",
      "Replacing // Gen 18374 // Type: vi, C: 240842, S+: -104, L: 51943358, M: 251595, W: -51954111\n",
      "Replacing // Gen 18374 // Type: nt, C: 240842, S+: -191, L: 4734561, M: 461218, W: -4954937\n",
      "Replacing // Gen 18374 // Type: vi, C: 240842, S+: -172, L: 81165301, M: 415510, W: -81339969\n",
      "Replacing // Gen 18374 // Type: vi, C: 240842, S+: -437, L: 200739481, M: 1053560, W: -201552199\n",
      "Replacing // Gen 18404 // Type: nt, C: 265981, S+: -599, L: 28848172, M: 1595147, W: -30177338\n",
      "Replacing // Gen 18404 // Type: vi, C: 265981, S+: -76, L: 202178694, M: 204381, W: -202117094\n",
      "Replacing // Gen 18404 // Type: vi, C: 265981, S+: -76, L: 202178694, M: 204381, W: -202117094\n",
      "Replacing // Gen 18404 // Type: vi, C: 265981, S+: -2320, L: 5479375, M: 6171618, W: -11385013\n",
      "Replacing // Gen 18404 // Type: nt, C: 265981, S+: -75, L: 202196923, M: 200815, W: -202131757\n"
     ]
    },
    {
     "name": "stderr",
     "output_type": "stream",
     "text": [
      " 92%|█████████▏| 18492/20000 [02:34<00:04, 376.49it/s]"
     ]
    },
    {
     "name": "stdout",
     "output_type": "stream",
     "text": [
      "Replacing // Gen 18434 // Type: vi, C: 280587, S+: -236, L: 11779951, M: 664229, W: -12163594\n",
      "Replacing // Gen 18454 // Type: nt, C: 296173, S+: -48, L: 49230386, M: 144399, W: -49078613\n",
      "Replacing // Gen 18464 // Type: nt, C: 67839329, S+: -63721, L: 0, M: 69688514, W: -1849185\n",
      "Replacing // Gen 18479 // Type: vi, C: 626036074, S+: -462969, L: 0, M: 721705203, W: -95669128\n",
      "Replacing // Gen 18493 // Type: nt, C: 41476389, S+: -33791, L: 0, M: 41654906, W: -178517\n",
      "Replacing // Gen 18493 // Type: nt, C: 19375818, S+: -17971, L: 0, M: 22153562, W: -2777744\n",
      "Replacing // Gen 18493 // Type: vi, C: 39715287, S+: -32287, L: 0, M: 39801367, W: -86079\n",
      "Replacing // Gen 18505 // Type: nt, C: 49018964, S+: -55529, L: 0, M: 63094881, W: -14075917\n",
      "Replacing // Gen 18505 // Type: vi, C: 49002642, S+: -55524, L: 0, M: 63089411, W: -14086769\n"
     ]
    },
    {
     "name": "stderr",
     "output_type": "stream",
     "text": [
      " 93%|█████████▎| 18569/20000 [02:34<00:03, 379.81it/s]"
     ]
    },
    {
     "name": "stdout",
     "output_type": "stream",
     "text": [
      "Replacing // Gen 18521 // Type: nt, C: 283812, S+: -108, L: 712115, M: 307845, W: -736149\n",
      "Replacing // Gen 18527 // Type: nt, C: 203246907, S+: -104684, L: 0, M: 219510030, W: -16263123\n",
      "Replacing // Gen 18541 // Type: vi, C: 293599, S+: -74, L: 32954446, M: 218037, W: -32878884\n",
      "Replacing // Gen 18573 // Type: vi, C: 293406, S+: -111, L: 57661941, M: 326359, W: -57694894\n",
      "Replacing // Gen 18573 // Type: nt, C: 293406, S+: -2489, L: 460745, M: 7304180, W: -7471520\n",
      "Replacing // Gen 18579 // Type: nt, C: 37920599, S+: -19495, L: 0, M: 40231223, W: -2310623\n",
      "Replacing // Gen 18592 // Type: nt, C: 108732371, S+: -89974, L: 0, M: 109693868, W: -961496\n",
      "Replacing // Gen 18592 // Type: vi, C: 310199408, S+: -258063, L: 0, M: 314620281, W: -4420872\n",
      "Replacing // Gen 18592 // Type: vi, C: 33797886, S+: -28813, L: 0, M: 35128206, W: -1330320\n"
     ]
    },
    {
     "name": "stderr",
     "output_type": "stream",
     "text": [
      " 93%|█████████▎| 18645/20000 [02:34<00:03, 377.17it/s]"
     ]
    },
    {
     "name": "stdout",
     "output_type": "stream",
     "text": [
      "Replacing // Gen 18603 // Type: nt, C: 68417158, S+: -54725, L: 0, M: 68476058, W: -58899\n",
      "Replacing // Gen 18603 // Type: vi, C: 68410659, S+: -54721, L: 0, M: 68471306, W: -60646\n",
      "Replacing // Gen 18603 // Type: nt, C: 68430136, S+: -54734, L: 0, M: 68486553, W: -56416\n",
      "Replacing // Gen 18608 // Type: nt, C: 296827616, S+: -262161, L: 0, M: 526001817, W: -229174200\n",
      "Replacing // Gen 18615 // Type: vi, C: 104243559, S+: -85738, L: 0, M: 104379498, W: -135939\n",
      "Replacing // Gen 18626 // Type: nt, C: 394775121, S+: -218560, L: 0, M: 399288752, W: -4513630\n",
      "Replacing // Gen 18628 // Type: vi, C: 33613450, S+: -22398, L: 0, M: 35071503, W: -1458053\n",
      "Replacing // Gen 18633 // Type: vi, C: 314031, S+: -1247, L: 7433610, M: 3919072, W: -11038651\n",
      "Replacing // Gen 18633 // Type: nt, C: 314031, S+: -1138, L: 6810834, M: 3576010, W: -10072814\n",
      "Replacing // Gen 18644 // Type: vi, C: 309107, S+: -220, L: 16696388, M: 680407, W: -17067688\n",
      "Replacing // Gen 18644 // Type: nt, C: 309107, S+: -2098, L: 2324812, M: 6486554, W: -8502260\n",
      "Replacing // Gen 18644 // Type: vi, C: 309107, S+: -220, L: 16696388, M: 680407, W: -17067688\n",
      "Replacing // Gen 18648 // Type: vi, C: 119010143, S+: -89621, L: 0, M: 198994180, W: -79984036\n",
      "Replacing // Gen 18654 // Type: nt, C: 60142936, S+: -54922, L: 0, M: 62029876, W: -1886940\n",
      "Replacing // Gen 18654 // Type: nt, C: 59730897, S+: -60297, L: 0, M: 68100351, W: -8369454\n",
      "Replacing // Gen 18654 // Type: vi, C: 59817143, S+: -60322, L: 0, M: 68127943, W: -8310799\n",
      "Replacing // Gen 18654 // Type: vi, C: 59817143, S+: -60322, L: 0, M: 68127943, W: -8310799\n",
      "Replacing // Gen 18659 // Type: nt, C: 44789589, S+: -38378, L: 0, M: 79367780, W: -34578190\n",
      "Replacing // Gen 18662 // Type: vi, C: 4924342861, S+: -4029952, L: 0, M: 5693758223, W: -769415361\n",
      "Replacing // Gen 18664 // Type: vi, C: 12248447016, S+: -38815710, L: 0, M: 17963522772, W: -5715075755\n",
      "Replacing // Gen 18672 // Type: nt, C: 30394, S+: -52816, L: 41492576, M: 16053026, W: -57515208\n",
      "Replacing // Gen 18672 // Type: vi, C: 30394, S+: -50562, L: 42185304, M: 15368082, W: -57522993\n",
      "Replacing // Gen 18672 // Type: nt, C: 30394, S+: -26658, L: 39404125, M: 8102598, W: -47476330\n",
      "Replacing // Gen 18672 // Type: vi, C: 30394, S+: -50562, L: 42185304, M: 15368082, W: -57522993\n",
      "Replacing // Gen 18672 // Type: nt, C: 30394, S+: -156594, L: 31304606, M: 47595364, W: -78869577\n",
      "Replacing // Gen 18672 // Type: vi, C: 30394, S+: -18874, L: 31500550, M: 5736720, W: -37206877\n"
     ]
    },
    {
     "name": "stderr",
     "output_type": "stream",
     "text": [
      " 94%|█████████▍| 18759/20000 [02:34<00:03, 367.24it/s]"
     ]
    },
    {
     "name": "stdout",
     "output_type": "stream",
     "text": [
      "Replacing // Gen 18682 // Type: nt, C: 31243, S+: -13590, L: 10061994, M: 4246169, W: -14276920\n",
      "Replacing // Gen 18682 // Type: nt, C: 31243, S+: -13783, L: 10000068, M: 4306484, W: -14275309\n",
      "Replacing // Gen 18682 // Type: nt, C: 31243, S+: -15937, L: 9227144, M: 4979365, W: -14175266\n",
      "Replacing // Gen 18682 // Type: nt, C: 31243, S+: -17080, L: 8813413, M: 5336561, W: -14118731\n",
      "Replacing // Gen 18682 // Type: nt, C: 31243, S+: -15118, L: 9527868, M: 4723349, W: -14219975\n",
      "Replacing // Gen 18692 // Type: nt, C: 34268, S+: -11862, L: 24937003, M: 4064979, W: -28967715\n",
      "Replacing // Gen 18692 // Type: nt, C: 34268, S+: -11250, L: 25204720, M: 3855468, W: -29025921\n",
      "Replacing // Gen 18692 // Type: vi, C: 34268, S+: -11791, L: 24954689, M: 4040850, W: -28961272\n",
      "Replacing // Gen 18692 // Type: nt, C: 34268, S+: -46900, L: 4884519, M: 16071814, W: -20922065\n",
      "Replacing // Gen 18692 // Type: vi, C: 34268, S+: -11791, L: 24954689, M: 4040850, W: -28961272\n",
      "Replacing // Gen 18702 // Type: nt, C: 35590, S+: -7676, L: 1112361, M: 2732193, W: -3808965\n",
      "Replacing // Gen 18702 // Type: vi, C: 35590, S+: -8344, L: 863261, M: 2969975, W: -3797646\n",
      "Replacing // Gen 18702 // Type: vi, C: 35590, S+: -8344, L: 863261, M: 2969975, W: -3797646\n",
      "Replacing // Gen 18706 // Type: nt, C: 42692368, S+: -176399, L: 0, M: 62914673, W: -20222305\n",
      "Replacing // Gen 18712 // Type: nt, C: 36812, S+: -6686, L: 6609826, M: 2461520, W: -9034534\n",
      "Replacing // Gen 18712 // Type: vi, C: 36812, S+: -6950, L: 6502735, M: 2558630, W: -9024554\n",
      "Replacing // Gen 18712 // Type: nt, C: 36812, S+: -4805, L: 4478675, M: 1769176, W: -6211039\n",
      "Replacing // Gen 18712 // Type: vi, C: 36812, S+: -6950, L: 6502735, M: 2558630, W: -9024554\n",
      "Replacing // Gen 18722 // Type: vi, C: 40648, S+: -9689, L: 1576732, M: 3938475, W: -5474560\n",
      "Replacing // Gen 18722 // Type: vi, C: 40648, S+: -5777, L: 13565343, M: 2348236, W: -15872931\n",
      "Replacing // Gen 18722 // Type: vi, C: 40648, S+: -5777, L: 13565343, M: 2348236, W: -15872931\n",
      "Replacing // Gen 18725 // Type: vi, C: 56345304, S+: -93195, L: 0, M: 61878914, W: -5533609\n",
      "Replacing // Gen 18736 // Type: nt, C: 418170427, S+: -842079, L: 0, M: 477939205, W: -59768777\n"
     ]
    },
    {
     "name": "stderr",
     "output_type": "stream",
     "text": [
      " 94%|█████████▍| 18833/20000 [02:35<00:03, 359.22it/s]"
     ]
    },
    {
     "name": "stdout",
     "output_type": "stream",
     "text": [
      "Replacing // Gen 18762 // Type: vi, C: 46426, S+: -16803, L: 106902984, M: 7801013, W: -114657571\n",
      "Replacing // Gen 18762 // Type: nt, C: 46426, S+: -8166, L: 186148850, M: 3791488, W: -189893912\n",
      "Replacing // Gen 18762 // Type: nt, C: 46426, S+: -9228, L: 77539013, M: 4284214, W: -81776802\n",
      "Replacing // Gen 18782 // Type: nt, C: 52230, S+: -2526, L: 54689959, M: 1319842, W: -55957570\n",
      "Replacing // Gen 18782 // Type: nt, C: 52230, S+: -8289, L: 167958284, M: 4329786, W: -172235839\n",
      "Replacing // Gen 18782 // Type: vi, C: 52230, S+: -7594, L: 168373062, M: 3966716, W: -172287548\n",
      "Replacing // Gen 18782 // Type: vi, C: 52230, S+: -7594, L: 168373062, M: 3966716, W: -172287548\n",
      "Replacing // Gen 18782 // Type: vi, C: 52230, S+: -9905, L: 246057508, M: 5173657, W: -251178935\n",
      "Replacing // Gen 18792 // Type: nt, C: 58470, S+: -1710, L: 21342119, M: 1000122, W: -22283772\n",
      "Replacing // Gen 18792 // Type: nt, C: 58470, S+: -1547, L: 21457188, M: 904580, W: -22303299\n",
      "Replacing // Gen 18792 // Type: nt, C: 58470, S+: -1430, L: 21541154, M: 836156, W: -22318841\n",
      "Replacing // Gen 18815 // Type: vi, C: 67479, S+: -1305, L: 59728627, M: 880660, W: -60541809\n",
      "Replacing // Gen 18815 // Type: nt, C: 67479, S+: -1373, L: 59702290, M: 927054, W: -60561866\n",
      "Replacing // Gen 18815 // Type: vi, C: 67479, S+: -1305, L: 59728627, M: 880660, W: -60541809\n",
      "Replacing // Gen 18819 // Type: vi, C: 37985602, S+: -104388, L: 0, M: 60198736, W: -22213133\n",
      "Replacing // Gen 18822 // Type: nt, C: 42398679, S+: -187631, L: 0, M: 53638211, W: -11239532\n",
      "Replacing // Gen 18835 // Type: nt, C: 75527, S+: -1210, L: 114660590, M: 914356, W: -115499419\n",
      "Replacing // Gen 18835 // Type: vi, C: 75527, S+: -613, L: 53348290, M: 463210, W: -53735973\n",
      "Replacing // Gen 18835 // Type: nt, C: 75527, S+: -736, L: 75717752, M: 556025, W: -76198250\n",
      "Replacing // Gen 18849 // Type: vi, C: 332771704, S+: -504550, L: 0, M: 431617613, W: -98845909\n"
     ]
    },
    {
     "name": "stderr",
     "output_type": "stream",
     "text": [
      " 95%|█████████▍| 18907/20000 [02:35<00:03, 362.31it/s]"
     ]
    },
    {
     "name": "stdout",
     "output_type": "stream",
     "text": [
      "Replacing // Gen 18855 // Type: nt, C: 83985, S+: -743, L: 141132123, M: 624791, W: -141672929\n",
      "Replacing // Gen 18855 // Type: nt, C: 83985, S+: -340, L: 51213940, M: 286287, W: -51416242\n",
      "Replacing // Gen 18859 // Type: vi, C: 258364449, S+: -728283, L: 0, M: 436875395, W: -178510945\n",
      "Replacing // Gen 18874 // Type: vi, C: 217063751, S+: -644144, L: 0, M: 217237586, W: -173835\n",
      "Replacing // Gen 18891 // Type: nt, C: 48204889, S+: -77169, L: 0, M: 67482610, W: -19277721\n",
      "Replacing // Gen 18897 // Type: vi, C: 90978, S+: -672, L: 21549650, M: 611843, W: -22070516\n",
      "Replacing // Gen 18914 // Type: nt, C: 38071203, S+: -251475, L: 0, M: 60117639, W: -22046436\n",
      "Replacing // Gen 18917 // Type: nt, C: 103880, S+: -80, L: 17418058, M: 83382, W: -17397561\n",
      "Replacing // Gen 18917 // Type: vi, C: 103880, S+: -507, L: 84272683, M: 527063, W: -84695866\n",
      "Replacing // Gen 18923 // Type: vi, C: 209218028, S+: -305009, L: 0, M: 222214486, W: -12996458\n",
      "Replacing // Gen 18937 // Type: nt, C: 117345, S+: -84, L: 63293013, M: 98720, W: -63274388\n",
      "Replacing // Gen 18937 // Type: nt, C: 117345, S+: -102, L: 130611002, M: 120030, W: -130613687\n"
     ]
    },
    {
     "name": "stderr",
     "output_type": "stream",
     "text": [
      " 95%|█████████▌| 19021/20000 [02:35<00:02, 372.37it/s]"
     ]
    },
    {
     "name": "stdout",
     "output_type": "stream",
     "text": [
      "Replacing // Gen 18947 // Type: vi, C: 87285715, S+: -203496, L: 0, M: 93191433, W: -5905717\n",
      "Replacing // Gen 18960 // Type: vi, C: 23388645, S+: -142234, L: 0, M: 64948761, W: -41560116\n",
      "Replacing // Gen 18991 // Type: vi, C: 39900422, S+: -83020, L: 0, M: 50589211, W: -10688789\n",
      "Replacing // Gen 19004 // Type: nt, C: 163551, S+: -69, L: 34662280, M: 114396, W: -34613125\n",
      "Replacing // Gen 19008 // Type: vi, C: 44012588, S+: -56381, L: 0, M: 71385315, W: -27372727\n",
      "Replacing // Gen 19010 // Type: vi, C: 54897028, S+: -50733, L: 0, M: 57840529, W: -2943501\n",
      "Replacing // Gen 19023 // Type: nt, C: 48325414, S+: -87834, L: 0, M: 62307175, W: -13981761\n",
      "Replacing // Gen 19036 // Type: vi, C: 195673, S+: -47, L: 39841204, M: 92507, W: -39738038\n",
      "Replacing // Gen 19036 // Type: vi, C: 195673, S+: -209, L: 140326144, M: 409427, W: -140539898\n",
      "Replacing // Gen 19036 // Type: nt, C: 195673, S+: -2729, L: 16020637, M: 5340951, W: -21165916\n",
      "Replacing // Gen 19036 // Type: nt, C: 195673, S+: -255, L: 23692723, M: 500178, W: -23997229\n"
     ]
    },
    {
     "name": "stderr",
     "output_type": "stream",
     "text": [
      " 95%|█████████▌| 19096/20000 [02:35<00:02, 364.99it/s]"
     ]
    },
    {
     "name": "stdout",
     "output_type": "stream",
     "text": [
      "Replacing // Gen 19056 // Type: vi, C: 233065, S+: -6, L: 125570105, M: 14595, W: -125351635\n",
      "Replacing // Gen 19056 // Type: nt, C: 233065, S+: -5, L: 125570181, M: 13367, W: -125350483\n",
      "Replacing // Gen 19056 // Type: nt, C: 233065, S+: -6, L: 125575230, M: 14616, W: -125356782\n",
      "Replacing // Gen 19075 // Type: vi, C: 227281369, S+: -215431, L: 0, M: 227694284, W: -412914\n",
      "Replacing // Gen 19075 // Type: vi, C: 227281369, S+: -215431, L: 0, M: 227694284, W: -412914\n",
      "Replacing // Gen 19097 // Type: nt, C: 299787, S+: -55, L: 29146078, M: 167061, W: -29013352\n",
      "Replacing // Gen 19097 // Type: nt, C: 299787, S+: -55, L: 29143426, M: 167694, W: -29011333\n"
     ]
    },
    {
     "name": "stderr",
     "output_type": "stream",
     "text": [
      "100%|██████████| 20000/20000 [02:38<00:00, 125.88it/s]\n"
     ]
    },
    {
     "name": "stdout",
     "output_type": "stream",
     "text": [
      "Finished\n"
     ]
    }
   ],
   "source": [
    "\n",
    "Combined = main(\"between\", time, PROBA_SELECTION, 100, 0, MUTATION_RATE, wealth_coordinates, False)\n",
    "for i in range(repetitions - 1):\n",
    "    Combined = Combined.append(main(\"between\", time, PROBA_SELECTION, agents, 0, MUTATION_RATE, wealth_coordinates, False))\n",
    "Combined.to_csv(\"combined.csv\")\n",
    "\n",
    "print('Finished')\n",
    "# took 30 minutes"
   ]
  }
 ],
 "metadata": {
  "interpreter": {
   "hash": "aee8b7b246df8f9039afb4144a1f6fd8d2ca17a180786b69acc140d282b71a49"
  },
  "kernelspec": {
   "display_name": "Python 3.9.6 64-bit",
   "name": "python3"
  },
  "language_info": {
   "codemirror_mode": {
    "name": "ipython",
    "version": 3
   },
   "file_extension": ".py",
   "mimetype": "text/x-python",
   "name": "python",
   "nbconvert_exporter": "python",
   "pygments_lexer": "ipython3",
   "version": "3.9.6"
  },
  "orig_nbformat": 4
 },
 "nbformat": 4,
 "nbformat_minor": 2
}
