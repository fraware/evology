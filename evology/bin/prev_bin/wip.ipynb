{
 "cells": [
  {
   "cell_type": "code",
   "execution_count": 1,
   "metadata": {},
   "outputs": [
    {
     "name": "stdout",
     "output_type": "stream",
     "text": [
      "[0.003983, 0.0040013168737743675, 0.004012101674878107, 0.004055353203791689, 0.004079931881677702, 0.0040861767201442085, 0.004080067137640575, 0.0040794459557312755, 0.004082562698550061, 0.004078962508353057]\n",
      "[0, 0.7237627808852891, 0.4215994199574505, 1.705046154303899, 0.9558536631183882, 0.23671066015433448, -0.24362120681478786, -0.030436857825214332, 0.11501479132817069, -0.14625690166424654]\n",
      "--\n",
      "[0.003983, 0.003945532475877125, 0.0039535967544927185, 0.0039733438877804115, 0.00394639136845731, 0.003984659946920604, 0.004001671709297465, 0.004024970505939726, 0.00401635270488742, 0.004002616232183042]\n",
      "[0, -1.4995610033011681, 0.3181910159147736, 0.786619960260988, -1.0830891578336035, 1.5330997342902226, 0.6714642593079839, 0.9179878115640886, -0.34615483446513473, -0.5491980104531117]\n"
     ]
    },
    {
     "data": {
      "text/plain": [
       "' Those two series are different while they should be equal.\\nThe first term is equal, okay. But not afterwards.\\nINITIAL_DIVIDEND = 0.003983\\nSource of the error: rdiv. '"
      ]
     },
     "execution_count": 1,
     "metadata": {},
     "output_type": "execute_result"
    }
   ],
   "source": [
    "import market\n",
    "import random\n",
    "random.seed = 9\n",
    "series1, rd_series1 = market.dividend_series(10)\n",
    "print(series1)\n",
    "print(rd_series1)\n",
    "print('--')\n",
    "random.seed = 9\n",
    "series2, rd_series2 = market.dividend_series(10)\n",
    "print(series2)\n",
    "print(rd_series2)\n",
    "''' Those two series are different while they should be equal.\n",
    "The first term is equal, okay. But not afterwards.\n",
    "INITIAL_DIVIDEND = 0.003983\n",
    "Source of the error: rdiv. '''"
   ]
  },
  {
   "cell_type": "code",
   "execution_count": 2,
   "metadata": {},
   "outputs": [
    {
     "name": "stdout",
     "output_type": "stream",
     "text": [
      "-0.36772963970464123\n",
      "0.4604679731875619\n",
      "-0.9188523422663127\n",
      "---\n",
      "0.6132392060210957\n",
      "-1.937915034443408\n",
      "0.34706060239789144\n",
      "---\n",
      "-0.07343582540284929\n",
      "-0.5884642819901214\n",
      "0.5247481924876943\n"
     ]
    }
   ],
   "source": [
    "import random \n",
    "random.seed = 9\n",
    "print(random.normalvariate(0, 1))\n",
    "print(random.normalvariate(0, 1))\n",
    "print(random.normalvariate(0, 1))\n",
    "print('---')\n",
    "random.seed = 9\n",
    "print(random.normalvariate(0, 1))\n",
    "print(random.normalvariate(0, 1))\n",
    "print(random.normalvariate(0, 1))\n",
    "print('---')\n",
    "random.seed = 10\n",
    "print(random.normalvariate(0, 1))\n",
    "print(random.normalvariate(0, 1))\n",
    "print(random.normalvariate(0, 1))"
   ]
  },
  {
   "cell_type": "code",
   "execution_count": 6,
   "metadata": {},
   "outputs": [
    {
     "ename": "TypeError",
     "evalue": "'int' object is not callable",
     "output_type": "error",
     "traceback": [
      "\u001b[1;31m---------------------------------------------------------------------------\u001b[0m",
      "\u001b[1;31mTypeError\u001b[0m                                 Traceback (most recent call last)",
      "\u001b[1;32m~\\AppData\\Local\\Temp/ipykernel_10064/984754356.py\u001b[0m in \u001b[0;36m<module>\u001b[1;34m\u001b[0m\n\u001b[0;32m      1\u001b[0m \u001b[1;32mimport\u001b[0m \u001b[0mrandom\u001b[0m\u001b[1;33m\u001b[0m\u001b[1;33m\u001b[0m\u001b[0m\n\u001b[0;32m      2\u001b[0m \u001b[1;33m\u001b[0m\u001b[0m\n\u001b[1;32m----> 3\u001b[1;33m \u001b[0mrandom\u001b[0m\u001b[1;33m.\u001b[0m\u001b[0mseed\u001b[0m\u001b[1;33m(\u001b[0m\u001b[1;36m10\u001b[0m\u001b[1;33m)\u001b[0m\u001b[1;33m\u001b[0m\u001b[1;33m\u001b[0m\u001b[0m\n\u001b[0m\u001b[0;32m      4\u001b[0m \u001b[0mprint\u001b[0m\u001b[1;33m(\u001b[0m\u001b[0mrandom\u001b[0m\u001b[1;33m.\u001b[0m\u001b[0mrandom\u001b[0m\u001b[1;33m(\u001b[0m\u001b[1;33m)\u001b[0m\u001b[1;33m)\u001b[0m\u001b[1;33m\u001b[0m\u001b[1;33m\u001b[0m\u001b[0m\n\u001b[0;32m      5\u001b[0m \u001b[1;33m\u001b[0m\u001b[0m\n",
      "\u001b[1;31mTypeError\u001b[0m: 'int' object is not callable"
     ]
    }
   ],
   "source": [
    "import random\n",
    "\n",
    "random.seed(10)\n",
    "print(random.random())\n",
    "\n",
    "random.seed = 10\n",
    "print(random.random())"
   ]
  },
  {
   "cell_type": "code",
   "execution_count": 8,
   "metadata": {},
   "outputs": [
    {
     "name": "stdout",
     "output_type": "stream",
     "text": [
      "[0.37454012 0.95071431 0.73199394 0.59865848 0.15601864]\n",
      "---\n",
      "[0.37454012 0.95071431 0.73199394 0.59865848 0.15601864]\n",
      "---\n",
      "[0.11505457 0.60906654 0.13339096 0.24058962 0.32713906]\n"
     ]
    }
   ],
   "source": [
    "import numpy as np \n",
    "np.random.seed(42)\n",
    "print(np.random.rand(5))\n",
    "print('---')\n",
    "np.random.seed(42)\n",
    "print(np.random.rand(5))\n",
    "print('---')\n",
    "np.random.seed(43)\n",
    "print(np.random.rand(5))\n"
   ]
  },
  {
   "cell_type": "code",
   "execution_count": 9,
   "metadata": {},
   "outputs": [
    {
     "name": "stdout",
     "output_type": "stream",
     "text": [
      "[0.003983, 0.003995620100731487, 0.003992297754567234, 0.004008744186864852, 0.004047363115512206, 0.004041552958218387, 0.0040357515596324, 0.004076058999135711, 0.004095925183265008, 0.004083973583115859]\n",
      "[0.003983, 0.003996770398956137, 0.003985260616075088, 0.003973725934949621, 0.003979939671097742, 0.003932128471012132, 0.0038895573813163414, 0.003875933847679244, 0.0038513575196515446, 0.003859133635186435]\n",
      "---\n",
      "[0.003983, 0.003995620100731487, 0.003992297754567234, 0.004008744186864852, 0.004047363115512206, 0.004041552958218387, 0.0040357515596324, 0.004076058999135711, 0.004095925183265008, 0.004083973583115859]\n",
      "[0.003983, 0.003996770398956137, 0.003985260616075088, 0.003973725934949621, 0.003979939671097742, 0.003932128471012132, 0.0038895573813163414, 0.003875933847679244, 0.0038513575196515446, 0.003859133635186435]\n",
      "---\n",
      "[0.003983, 0.003983185087850207, 0.003976077213664045, 0.003948280176959172, 0.003948115661916124, 0.003938861409206962, 0.003927078771353398, 0.0038896976869932684, 0.0038778235422608272, 0.0038720973195595764]\n",
      "[0.003983, 0.003966899920906826, 0.003982946917702512, 0.004026764092982911, 0.004034448803888387, 0.004052589058893898, 0.004099283582550545, 0.004110569221962178, 0.004150679208468461, 0.0041272921075635035]\n"
     ]
    }
   ],
   "source": [
    "from parameters import *\n",
    "\n",
    "def draw_dividend(dividend):\n",
    "    DIVIDEND_GROWTH_RATE = ((1 + DIVIDEND_GROWTH_RATE_G) ** (1 / TRADING_DAYS)) - 1\n",
    "    random_dividend = np.random.normal(0, 1)\n",
    "    if len(random_dividend_history) > DIVIDEND_ATC_TAU:\n",
    "        random_dividend = (1 - DIVIDEND_AUTOCORRELATION ** 2) * random_dividend + DIVIDEND_AUTOCORRELATION * random_dividend_history[- 1 - DIVIDEND_ATC_TAU]\n",
    "    dividend = abs(dividend + DIVIDEND_GROWTH_RATE * dividend + DIVIDEND_GROWTH_VOLATILITY * dividend * random_dividend)\n",
    "    return dividend, random_dividend\n",
    "\n",
    "def dividend_series(horizon):\n",
    "    history, rdiv_history = [], []\n",
    "    dividend = INITIAL_DIVIDEND\n",
    "    history.append(dividend)\n",
    "    rdiv_history.append(0)\n",
    "    for i in range(horizon-1):\n",
    "        dividend, rdiv = draw_dividend(dividend)\n",
    "        history.append(dividend)\n",
    "        rdiv_history.append(rdiv)\n",
    "    return history, rdiv_history\n",
    "\n",
    "np.random.seed(42)\n",
    "print(dividend_series(10)[0])\n",
    "print(dividend_series(10)[0])\n",
    "print('---')\n",
    "np.random.seed(42)\n",
    "print(dividend_series(10)[0])\n",
    "print(dividend_series(10)[0])\n",
    "print('---')\n",
    "np.random.seed(9)\n",
    "print(dividend_series(10)[0])\n",
    "print(dividend_series(10)[0])"
   ]
  },
  {
   "cell_type": "code",
   "execution_count": 2,
   "metadata": {},
   "outputs": [
    {
     "name": "stdout",
     "output_type": "stream",
     "text": [
      "79.5 ns ± 0.405 ns per loop (mean ± std. dev. of 7 runs, 10000000 loops each)\n",
      "774 ns ± 41.3 ns per loop (mean ± std. dev. of 7 runs, 1000000 loops each)\n",
      "103 ns ± 6.29 ns per loop (mean ± std. dev. of 7 runs, 10000000 loops each)\n",
      "730 ns ± 71.9 ns per loop (mean ± std. dev. of 7 runs, 1000000 loops each)\n"
     ]
    }
   ],
   "source": [
    "import timeit\n",
    "import math\n",
    "import numpy as np\n",
    "\n",
    "%timeit math.log(10)\n",
    "# 158 ns ± 6.16 ns per loop (mean ± std. dev. of 7 runs, 10000000 loops each)\n",
    "\n",
    "%timeit np.log(10)\n",
    "# 1.64 µs ± 93.2 ns per loop (mean ± std. dev. of 7 runs, 1000000 loops each)\n",
    "\n",
    "%timeit math.exp(3)\n",
    "# 146 ns ± 8.57 ns per loop (mean ± std. dev. of 7 runs, 10000000 loops each)\n",
    "\n",
    "%timeit np.exp(3)\n",
    "# 1.72 µs ± 78.5 ns per loop (mean ± std. dev. of 7 runs, 1000000 loops each)"
   ]
  },
  {
   "cell_type": "code",
   "execution_count": 3,
   "metadata": {},
   "outputs": [
    {
     "name": "stdout",
     "output_type": "stream",
     "text": [
      "119 ns ± 4.75 ns per loop (mean ± std. dev. of 7 runs, 10000000 loops each)\n",
      "687 ns ± 2.54 ns per loop (mean ± std. dev. of 7 runs, 1000000 loops each)\n"
     ]
    }
   ],
   "source": [
    "%timeit math.tanh(3)\n",
    "# 119 ns ± 4.75 ns per loop (mean ± std. dev. of 7 runs, 10000000 loops each)\n",
    "%timeit np.tanh(3)\n",
    "# 687 ns ± 2.54 ns per loop (mean ± std. dev. of 7 runs, 1000000 loops each)"
   ]
  },
  {
   "cell_type": "code",
   "execution_count": 6,
   "metadata": {},
   "outputs": [
    {
     "name": "stdout",
     "output_type": "stream",
     "text": [
      "85.78\n",
      "85.78\n",
      "[[113.65153106424783], [113.65153106424783], [2], [113.65153106424783], [113.65153106424783], [113.65153106424783], [2], [113.65153106424783], [2], [113.65153106424783]]\n",
      "[[113.65153106424783], [113.65153106424783], [2], [113.65153106424783], [113.65153106424783], [113.65153106424783], [2], [113.65153106424783], [2], [113.65153106424783]]\n"
     ]
    }
   ],
   "source": [
    "from main import * \n",
    "wealth_coordinates = [1/3, 1/3, 1/3]\n",
    "time = 100\n",
    "agents = 10\n",
    "\n",
    "seed = random.randint(0,10)\n",
    "np.random.seed(seed)\n",
    "df,pop = main(\"between\", 'scholl', 'esl.true', False, time, 0, agents, 0, wealth_coordinates, tqdm_display=True, reset_wealth = False)\n",
    "np.random.seed(seed)\n",
    "df2,pop2 = main(\"between\", 'scholl', 'esl.true', False, time, 0, agents, 0, wealth_coordinates, tqdm_display=True, reset_wealth = False)\n",
    "\n",
    "print(df['Price'].iloc[-1])\n",
    "print(df2['Price'].iloc[-1])\n",
    "\n",
    "print(pop)\n",
    "print(pop2)"
   ]
  },
  {
   "cell_type": "code",
   "execution_count": 2,
   "metadata": {},
   "outputs": [
    {
     "name": "stdout",
     "output_type": "stream",
     "text": [
      "50.40008\n",
      "50.46492\n",
      "50.6027\n"
     ]
    }
   ],
   "source": [
    "import time\n",
    "import random\n",
    "import line_profiler\n",
    "profile = line_profiler.LineProfiler()\n",
    "\n",
    "@profile\n",
    "def very_slow_random_generator():\n",
    "    time.sleep(5)\n",
    "    arr = [random.randint(1,100) for i in range(100000)]\n",
    "    return sum(arr) / len(arr)\n",
    "\n",
    "@profile\n",
    "def slow_random_generator():\n",
    "    time.sleep(2)\n",
    "    arr = [random.randint(1,100) for i in range(100000)]\n",
    "    return sum(arr) / len(arr)\n",
    "\n",
    "@profile\n",
    "def fast_random_generator():\n",
    "    time.sleep(1)\n",
    "    arr = [random.randint(1,100) for i in range(100000)]\n",
    "    return sum(arr) / len(arr)\n",
    "\n",
    "@profile\n",
    "def main_func():\n",
    "    result = fast_random_generator()\n",
    "    print(result)\n",
    "\n",
    "    result = slow_random_generator()\n",
    "    print(result)\n",
    "\n",
    "    result = very_slow_random_generator()\n",
    "    print(result)\n",
    "\n",
    "main_func()"
   ]
  },
  {
   "cell_type": "code",
   "execution_count": 4,
   "metadata": {},
   "outputs": [
    {
     "name": "stdout",
     "output_type": "stream",
     "text": [
      "[[100], [100], [2], [100], [2], [2], [100], [100], [2], [2]]\n",
      "<class 'deap.creator.ind'>\n",
      "<class 'int'>\n",
      "<class 'deap.creator.ind'>\n",
      "<class 'int'>\n",
      "<class 'deap.creator.ind'>\n",
      "<class 'int'>\n",
      "<class 'deap.creator.ind'>\n",
      "<class 'int'>\n",
      "<class 'deap.creator.ind'>\n",
      "<class 'int'>\n",
      "<class 'deap.creator.ind'>\n",
      "<class 'int'>\n",
      "<class 'deap.creator.ind'>\n",
      "<class 'int'>\n",
      "<class 'deap.creator.ind'>\n",
      "<class 'int'>\n",
      "<class 'deap.creator.ind'>\n",
      "<class 'int'>\n",
      "<class 'deap.creator.ind'>\n",
      "<class 'int'>\n"
     ]
    }
   ],
   "source": [
    "import creation \n",
    "\n",
    "pop, asset_supply = creation.CreatePop(10, 'scholl', [1/3,1/3,1/3])\n",
    "print(pop)\n",
    "for ind in pop:\n",
    "    print(type(ind))\n",
    "    print(type(ind[0]))"
   ]
  }
 ],
 "metadata": {
  "interpreter": {
   "hash": "04d1ac1ce665b910e7ce9779815cb12d32b65fb6afac4574d56f0a49ce737342"
  },
  "kernelspec": {
   "display_name": "Python 3.9.6 64-bit",
   "language": "python",
   "name": "python3"
  },
  "language_info": {
   "codemirror_mode": {
    "name": "ipython",
    "version": 3
   },
   "file_extension": ".py",
   "mimetype": "text/x-python",
   "name": "python",
   "nbconvert_exporter": "python",
   "pygments_lexer": "ipython3",
   "version": "3.9.6"
  },
  "orig_nbformat": 4
 },
 "nbformat": 4,
 "nbformat_minor": 2
}
