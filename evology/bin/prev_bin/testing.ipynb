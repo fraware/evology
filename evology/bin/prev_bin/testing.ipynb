{
 "cells": [
  {
   "cell_type": "markdown",
   "metadata": {},
   "source": [
    "# Here we test whether main works at all\n"
   ]
  },
  {
   "cell_type": "code",
   "execution_count": null,
   "metadata": {},
   "outputs": [
    {
     "name": "stderr",
     "output_type": "stream",
     "text": [
      "100%|██████████| 3/3 [00:00<00:00, 200.00it/s]"
     ]
    },
    {
     "name": "stdout",
     "output_type": "stream",
     "text": [
      "-----------------------------------------\n",
      "Running demands\n",
      "tf\n",
      "-218461.58324600355\n",
      "vi\n",
      "109232.84322609752\n",
      "nt\n",
      "109234.22534220899\n",
      "Sum of edv is 5.48532230296405\n",
      "order_ratio\n",
      "1.0000251088645493\n",
      "----------------------\n",
      "-----------------------------------------\n",
      "Running demands\n",
      "tf\n",
      "6.894171406514943\n",
      "vi\n",
      "3.9649167279712856\n",
      "nt\n",
      "5.6881304604467005\n",
      "Sum of edv is 16.54721859493293\n",
      "order_ratio\n",
      "0\n",
      "----------------------\n",
      "-----------------------------------------\n",
      "Running demands\n",
      "tf\n",
      "82798.61538462661\n",
      "vi\n",
      "-41396.131305363844\n",
      "nt\n",
      "-41388.51247167424\n",
      "Sum of edv is 13.971607588522602\n",
      "order_ratio\n",
      "1.0001687705225397\n",
      "----------------------\n"
     ]
    },
    {
     "name": "stderr",
     "output_type": "stream",
     "text": [
      "\n"
     ]
    },
    {
     "data": {
      "text/html": [
       "<div>\n",
       "<style scoped>\n",
       "    .dataframe tbody tr th:only-of-type {\n",
       "        vertical-align: middle;\n",
       "    }\n",
       "\n",
       "    .dataframe tbody tr th {\n",
       "        vertical-align: top;\n",
       "    }\n",
       "\n",
       "    .dataframe thead th {\n",
       "        text-align: right;\n",
       "    }\n",
       "</style>\n",
       "<table border=\"1\" class=\"dataframe\">\n",
       "  <thead>\n",
       "    <tr style=\"text-align: right;\">\n",
       "      <th></th>\n",
       "      <th>Gen</th>\n",
       "      <th>Price</th>\n",
       "      <th>Mismatch</th>\n",
       "      <th>Val_NT</th>\n",
       "      <th>Num_TF</th>\n",
       "      <th>Num_VI</th>\n",
       "      <th>Num_NT</th>\n",
       "      <th>Mean_TF</th>\n",
       "      <th>Mean_VI</th>\n",
       "      <th>Mean_NT</th>\n",
       "      <th>Div</th>\n",
       "      <th>RDiv</th>\n",
       "      <th>WShare_TF</th>\n",
       "      <th>WShare_VI</th>\n",
       "      <th>WShare_NT</th>\n",
       "      <th>Pos+</th>\n",
       "      <th>Pos-</th>\n",
       "      <th>Rep</th>\n",
       "    </tr>\n",
       "  </thead>\n",
       "  <tbody>\n",
       "    <tr>\n",
       "      <th>0</th>\n",
       "      <td>0.0</td>\n",
       "      <td>164.14</td>\n",
       "      <td>5.485322</td>\n",
       "      <td>12191.0</td>\n",
       "      <td>1.0</td>\n",
       "      <td>1.0</td>\n",
       "      <td>1.0</td>\n",
       "      <td>2.0</td>\n",
       "      <td>10000.0</td>\n",
       "      <td>10000.0</td>\n",
       "      <td>0.000039</td>\n",
       "      <td>-0.550657</td>\n",
       "      <td>33.333333</td>\n",
       "      <td>33.333333</td>\n",
       "      <td>33.333333</td>\n",
       "      <td>1500000.0</td>\n",
       "      <td>0.0</td>\n",
       "      <td>0.0</td>\n",
       "    </tr>\n",
       "    <tr>\n",
       "      <th>1</th>\n",
       "      <td>1.0</td>\n",
       "      <td>216.78</td>\n",
       "      <td>16.547219</td>\n",
       "      <td>12213.0</td>\n",
       "      <td>1.0</td>\n",
       "      <td>1.0</td>\n",
       "      <td>1.0</td>\n",
       "      <td>2.0</td>\n",
       "      <td>10000.0</td>\n",
       "      <td>10000.0</td>\n",
       "      <td>0.000039</td>\n",
       "      <td>0.179766</td>\n",
       "      <td>33.333690</td>\n",
       "      <td>33.333155</td>\n",
       "      <td>33.333155</td>\n",
       "      <td>1500000.0</td>\n",
       "      <td>0.0</td>\n",
       "      <td>0.0</td>\n",
       "    </tr>\n",
       "    <tr>\n",
       "      <th>2</th>\n",
       "      <td>2.0</td>\n",
       "      <td>289.06</td>\n",
       "      <td>13.971608</td>\n",
       "      <td>13481.0</td>\n",
       "      <td>1.0</td>\n",
       "      <td>1.0</td>\n",
       "      <td>1.0</td>\n",
       "      <td>2.0</td>\n",
       "      <td>10000.0</td>\n",
       "      <td>10000.0</td>\n",
       "      <td>0.000039</td>\n",
       "      <td>0.228729</td>\n",
       "      <td>30.913842</td>\n",
       "      <td>34.543071</td>\n",
       "      <td>34.543087</td>\n",
       "      <td>1500000.0</td>\n",
       "      <td>0.0</td>\n",
       "      <td>0.0</td>\n",
       "    </tr>\n",
       "  </tbody>\n",
       "</table>\n",
       "</div>"
      ],
      "text/plain": [
       "   Gen   Price   Mismatch   Val_NT  Num_TF  Num_VI  Num_NT  Mean_TF  Mean_VI  \\\n",
       "0  0.0  164.14   5.485322  12191.0     1.0     1.0     1.0      2.0  10000.0   \n",
       "1  1.0  216.78  16.547219  12213.0     1.0     1.0     1.0      2.0  10000.0   \n",
       "2  2.0  289.06  13.971608  13481.0     1.0     1.0     1.0      2.0  10000.0   \n",
       "\n",
       "   Mean_NT       Div      RDiv  WShare_TF  WShare_VI  WShare_NT       Pos+  \\\n",
       "0  10000.0  0.000039 -0.550657  33.333333  33.333333  33.333333  1500000.0   \n",
       "1  10000.0  0.000039  0.179766  33.333690  33.333155  33.333155  1500000.0   \n",
       "2  10000.0  0.000039  0.228729  30.913842  34.543071  34.543087  1500000.0   \n",
       "\n",
       "   Pos-  Rep  \n",
       "0   0.0  0.0  \n",
       "1   0.0  0.0  \n",
       "2   0.0  0.0  "
      ]
     },
     "execution_count": 3,
     "metadata": {},
     "output_type": "execute_result"
    }
   ],
   "source": [
    "import main\n",
    "main.main(\"between\", 3, 0, 3, 0, 0)"
   ]
  },
  {
   "cell_type": "markdown",
   "metadata": {},
   "source": [
    "# Here we test whether the trading signal and excess demand functions/values work well\n"
   ]
  },
  {
   "cell_type": "code",
   "execution_count": null,
   "metadata": {},
   "outputs": [
    {
     "name": "stdout",
     "output_type": "stream",
     "text": [
      "[[2], [10000.0], [10000.0]]\n",
      "tf\n",
      "-285407.7253218884\n",
      "vi\n",
      "143760.11887624383\n",
      "nt\n",
      "143753.2902227376\n",
      "2105.683777093014\n"
     ]
    }
   ],
   "source": [
    "import sampling\n",
    "import balance_sheet as bs\n",
    "pop = sampling.create_pop(\"between\", 3)\n",
    "print(pop)\n",
    "price_history = [100, 100]\n",
    "current_price = 100\n",
    "bs.calculate_wealth(pop, current_price)\n",
    "bs.determine_edf(pop, price_history)\n",
    "# Under simulations for market clearing in Colab, we obtain that the clearing price is 5312.95\n",
    "\"\"\" def func1(asset_key, price): #value investor\n",
    "  return ((50_000_000 + 500_000 * float(initial_price)) / price) * (np.tanh(np.log2(10000) - np.log2(price)) + 0.5) - 500_000\n",
    "\n",
    "def func2(asset_key, price): #noise trader\n",
    "  return ((50_000_000 + 500_000 * float(initial_price)) / price) * (np.tanh(np.log2(10000) - np.log2(price)) + 0.5) - 500_000\n",
    "\n",
    "def func3(asset_key, price): #trend follower\n",
    "  return ((50_000_000 + 500_000 * float(initial_price)) / price) * (np.tanh(0) + 0.5) - 500_000\n",
    "\n",
    "\"\"\"\n",
    "current_price = 233\n",
    "bs.calculate_edv(pop, current_price)\n",
    "\n",
    "true_value_tf = -285711\n",
    "true_value_vi = 142849\n",
    "true_value_nt = 142849\n",
    "\n",
    "for ind in pop:\n",
    "    print(ind.type)\n",
    "    print(ind.edv)\n",
    "\n",
    "# Result: TF and VI are exact. NT is only marginally wrong (due to ind.process being 1 in the Colab reference)\n",
    "# Hence: the EDV functions well.\n",
    "\n",
    "print(bs.calculate_total_edv(pop))\n",
    "# THe deviation is understandable with regards to the NT randomness factor."
   ]
  },
  {
   "cell_type": "markdown",
   "metadata": {},
   "source": [
    "# Testing whether wealth earnings profit can be imported\n"
   ]
  },
  {
   "cell_type": "code",
   "execution_count": null,
   "metadata": {},
   "outputs": [
    {
     "data": {
      "text/plain": [
       "([[2], [10000.0], [10000.0]], 0.9977060218238474, -0.6173766483997932)"
      ]
     },
     "execution_count": 2,
     "metadata": {},
     "output_type": "execute_result"
    }
   ],
   "source": [
    "import balance_sheet as bs\n",
    "import sampling\n",
    "pop = sampling.create_pop(\"between\", 3)\n",
    "bs.wealth_earnings_profit(pop, 1, 10)"
   ]
  },
  {
   "cell_type": "markdown",
   "metadata": {},
   "source": [
    "# Here we test whether market aggregate_edf works as expected"
   ]
  },
  {
   "cell_type": "code",
   "execution_count": null,
   "metadata": {},
   "outputs": [
    {
     "name": "stdout",
     "output_type": "stream",
     "text": [
      "Process identified 0.9873329030372872\n",
      "Real result (1): 348499999.998829\n",
      "Function result (1): 348499999.998829\n",
      "Real result (10): 33499999.91006049\n",
      "Function result (10): 33499999.91006049\n"
     ]
    }
   ],
   "source": [
    "import sampling as sampling\n",
    "import numpy as np\n",
    "import balance_sheet as bs\n",
    "pop = sampling.create_pop(\"between\", 3)\n",
    "price_history = []\n",
    "current_price = 100\n",
    "bs.calculate_wealth(pop, current_price)\n",
    "bs.determine_edf(pop, price_history)\n",
    "\n",
    "# Define aggregate demand function\n",
    "def squared_agg_ed(p): \n",
    "    result = 0\n",
    "    for ind in pop:\n",
    "        result += ind.edf(p)\n",
    "    return result\n",
    "\n",
    "for ind in pop:\n",
    "    if ind.type == \"nt\":\n",
    "        process = ind.process\n",
    "        print(\"Process identified \" + str(process))\n",
    "\n",
    "def func1(price): #value investor\n",
    "  return ((50_000_000 + 500_000 * float(current_price)) / price) * (np.tanh(np.log2(10000) - np.log2(price)) + 0.5) - 500_000\n",
    "\n",
    "def func2(price): #noise trader\n",
    "  return ((50_000_000 + 500_000 * float(current_price)) / price) * (np.tanh(np.log2(10000 * process) - np.log2(price)) + 0.5) - 500_000\n",
    "\n",
    "def func3(price): #trend follower\n",
    "  return ((50_000_000 + 500_000 * float(current_price)) / price) * (np.tanh(0) + 0.5) - 500_000\n",
    "\n",
    "print(\"Real result (1): \" + str(func1(1) + func2(1) + func3(1)))\n",
    "print(\"Function result (1): \" + str(squared_agg_ed(1)) )\n",
    "\n",
    "print(\"Real result (10): \" + str(func1(10) + func2(10) + func3(10)))\n",
    "print(\"Function result (10): \" + str(squared_agg_ed(10)) )\n",
    "\n",
    "# They are the same. squared_agg_ed in leap_mc works well.\n"
   ]
  },
  {
   "cell_type": "markdown",
   "metadata": {},
   "source": [
    "# Here we test what happens with determine edf"
   ]
  },
  {
   "cell_type": "code",
   "execution_count": null,
   "metadata": {},
   "outputs": [
    {
     "name": "stdout",
     "output_type": "stream",
     "text": [
      "4121171.5726000974\n",
      "9499999.983760776\n",
      "9499999.974743797\n",
      "4121171.5726000974\n",
      "9499999.983760776\n",
      "9499999.974743797\n"
     ]
    }
   ],
   "source": [
    "import sampling as sampling\n",
    "import numpy as np\n",
    "import balance_sheet as bs\n",
    "import random as random\n",
    "pop = sampling.create_pop(\"between\", 3)\n",
    "price_history = []\n",
    "current_price = 100\n",
    "bs.calculate_wealth(pop, current_price)\n",
    "bs.determine_edf(pop, price_history)\n",
    "for ind in pop:\n",
    "    print(ind.edf(10))\n",
    "for ind in pop:\n",
    "    if type == \"tf\":\n",
    "        ind.wealth += 598498392\n",
    "for ind in pop:\n",
    "    print(ind.edf(10))"
   ]
  },
  {
   "cell_type": "markdown",
   "metadata": {},
   "source": [
    "# TEsting esl market clearing"
   ]
  },
  {
   "cell_type": "code",
   "execution_count": null,
   "metadata": {},
   "outputs": [
    {
     "name": "stdout",
     "output_type": "stream",
     "text": [
      "[USD(164.14)]\n",
      "164.14\n",
      "109232.84322609752\n",
      "109232.84322609752\n",
      "-218461.58324600355\n",
      "[USD(164.14)]\n",
      "164.14\n",
      "109232.84322609752\n",
      "109232.84322609752\n",
      "-218461.58324600355\n"
     ]
    }
   ],
   "source": [
    "from esl_market_clearing import *\n",
    "\n",
    "def func1(asset_key, price): #value investor\n",
    "  return ((50_000_000 + 500_000 * float(initial_price)) / price ) * (np.tanh(np.log2(10000) - np.log2(price) + 0.5)) - 500_000\n",
    "\n",
    "def func2(asset_key, price): #noise trader\n",
    "  return ((50_000_000 + 500_000 * float(initial_price)) / price) * (np.tanh(np.log2(10000) - np.log2(price) + 0.5)) - 500_000\n",
    "\n",
    "def func3(asset_key, price): #trend follower\n",
    "  return ((50_000_000 + 500_000 * float(initial_price)) / price ) * (np.tanh(0 + 0.5)) - 500_000 \n",
    "\n",
    "\n",
    "current_price = 100\n",
    "functions = [func1, func2, func3]\n",
    "initial_price = price(int(current_price * 100), currencies.USD)\n",
    "new_price = solve(functions, 100)\n",
    "print(new_price)\n",
    "print(float(new_price[0]))\n",
    "print(func1(i, float(new_price[0])))\n",
    "print(func2(i, float(new_price[0])))\n",
    "print(func3(i, float(new_price[0])))\n",
    "\n",
    "\n",
    "# new_price = solve(functions, 164.14)\n",
    "# print(new_price)\n",
    "# print(float(new_price[0]))\n",
    "# print(func1(i, float(new_price[0])))\n",
    "# print(func2(i, float(new_price[0])))\n",
    "# print(func3(i, float(new_price[0])))"
   ]
  }
 ],
 "metadata": {
  "interpreter": {
   "hash": "aee8b7b246df8f9039afb4144a1f6fd8d2ca17a180786b69acc140d282b71a49"
  },
  "kernelspec": {
   "display_name": "Python 3.9.6 64-bit",
   "name": "python3"
  },
  "language_info": {
   "codemirror_mode": {
    "name": "ipython",
    "version": 3
   },
   "file_extension": ".py",
   "mimetype": "text/x-python",
   "name": "python",
   "nbconvert_exporter": "python",
   "pygments_lexer": "ipython3",
   "version": "3.9.6"
  },
  "orig_nbformat": 4
 },
 "nbformat": 4,
 "nbformat_minor": 2
}
