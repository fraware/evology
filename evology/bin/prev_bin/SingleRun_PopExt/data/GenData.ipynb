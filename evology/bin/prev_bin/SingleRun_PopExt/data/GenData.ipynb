{
 "cells": [
  {
   "cell_type": "code",
   "execution_count": 2,
   "metadata": {},
   "outputs": [
    {
     "name": "stderr",
     "output_type": "stream",
     "text": [
      "  0%|          | 0/15000 [00:00<?, ?it/s]/Users/aymericvie/Documents/GitHub/evology/evology/code/balance_sheet.py:730: UserWarning: Wealth adjustement not perfect after MAX_ATTEMPTS.\n",
      "  warnings.warn('Wealth adjustement not perfect after MAX_ATTEMPTS.')\n",
      "100%|██████████| 15000/15000 [00:04<00:00, 3516.47it/s]\n",
      "100%|██████████| 15000/15000 [00:28<00:00, 527.49it/s] \n",
      "100%|██████████| 15000/15000 [00:44<00:00, 339.84it/s]\n"
     ]
    }
   ],
   "source": [
    "import sys\n",
    "sys.path.insert(0, '/Users/aymericvie/Documents/GitHub/evology/evology/code/')\n",
    "from main import *\n",
    "time = 15_000\n",
    "from parameters import *\n",
    "wealth_coordinates = [0.42, 0.33, 0.25]\n",
    "\n",
    "SmallPop = main(\"static\", time, 0, 3, 0, 0, wealth_coordinates, False)\n",
    "SmallPop.to_csv(\"small_15k.csv\")\n",
    "\n",
    "MedPop = main(\"static\", time, 0, 10, 0, 0, wealth_coordinates, False)\n",
    "MedPop.to_csv(\"medium_15k.csv\")\n",
    "\n",
    "BigPop = main(\"static\", time, 0, 100, 0, 0, wealth_coordinates, False)\n",
    "BigPop.to_csv(\"big_15k.csv\")"
   ]
  }
 ],
 "metadata": {
  "interpreter": {
   "hash": "aee8b7b246df8f9039afb4144a1f6fd8d2ca17a180786b69acc140d282b71a49"
  },
  "kernelspec": {
   "display_name": "Python 3.9.6 64-bit",
   "name": "python3"
  },
  "language_info": {
   "codemirror_mode": {
    "name": "ipython",
    "version": 3
   },
   "file_extension": ".py",
   "mimetype": "text/x-python",
   "name": "python",
   "nbconvert_exporter": "python",
   "pygments_lexer": "ipython3",
   "version": "3.9.6"
  },
  "orig_nbformat": 4
 },
 "nbformat": 4,
 "nbformat_minor": 2
}
