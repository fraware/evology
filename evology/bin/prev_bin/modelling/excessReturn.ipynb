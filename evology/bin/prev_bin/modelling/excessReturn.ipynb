{
 "cells": [
  {
   "cell_type": "code",
   "execution_count": 15,
   "metadata": {},
   "outputs": [
    {
     "name": "stdout",
     "output_type": "stream",
     "text": [
      "[0.01, 0.98, 0.01]\n"
     ]
    },
    {
     "name": "stderr",
     "output_type": "stream",
     "text": [
      "100%|██████████| 50000/50000 [00:18<00:00, 2734.06it/s]\n"
     ]
    },
    {
     "name": "stdout",
     "output_type": "stream",
     "text": [
      "[0.01, 0.905, 0.08499999999999999]\n"
     ]
    },
    {
     "name": "stderr",
     "output_type": "stream",
     "text": [
      "  0%|          | 0/50000 [00:00<?, ?it/s]/Users/aymericvie/Documents/GitHub/evology/evology/code/balance_sheet.py:723: RuntimeWarning: invalid value encountered in log\n",
      "  ind.DailyReturn = np.log(ind.wealth / ind.prev_wealth)\n",
      "100%|██████████| 50000/50000 [00:18<00:00, 2652.83it/s]\n"
     ]
    },
    {
     "name": "stdout",
     "output_type": "stream",
     "text": [
      "[0.01, 0.8300000000000001, 0.15999999999999998]\n"
     ]
    },
    {
     "name": "stderr",
     "output_type": "stream",
     "text": [
      "100%|██████████| 50000/50000 [00:18<00:00, 2653.45it/s]\n"
     ]
    },
    {
     "name": "stdout",
     "output_type": "stream",
     "text": [
      "[0.01, 0.7550000000000001, 0.235]\n"
     ]
    },
    {
     "name": "stderr",
     "output_type": "stream",
     "text": [
      "100%|██████████| 50000/50000 [00:20<00:00, 2433.22it/s]\n"
     ]
    },
    {
     "name": "stdout",
     "output_type": "stream",
     "text": [
      "[0.01, 0.6800000000000002, 0.31]\n"
     ]
    },
    {
     "name": "stderr",
     "output_type": "stream",
     "text": [
      "100%|██████████| 50000/50000 [00:18<00:00, 2671.81it/s]\n"
     ]
    },
    {
     "name": "stdout",
     "output_type": "stream",
     "text": [
      "[0.01, 0.6050000000000002, 0.385]\n"
     ]
    },
    {
     "name": "stderr",
     "output_type": "stream",
     "text": [
      "100%|██████████| 50000/50000 [00:18<00:00, 2692.92it/s]\n"
     ]
    },
    {
     "name": "stdout",
     "output_type": "stream",
     "text": [
      "[0.01, 0.5300000000000002, 0.46]\n"
     ]
    },
    {
     "name": "stderr",
     "output_type": "stream",
     "text": [
      "100%|██████████| 50000/50000 [00:19<00:00, 2584.36it/s]\n"
     ]
    },
    {
     "name": "stdout",
     "output_type": "stream",
     "text": [
      "[0.01, 0.45500000000000024, 0.535]\n"
     ]
    },
    {
     "name": "stderr",
     "output_type": "stream",
     "text": [
      "  7%|▋         | 3571/50000 [00:01<00:19, 2337.59it/s]/Users/aymericvie/Documents/GitHub/evology/evology/code/data.py:131: RuntimeWarning: Mean of empty slice\n",
      "  results[current, 56] = np.nanmean(DailyTFReturns)\n",
      "100%|██████████| 50000/50000 [00:19<00:00, 2556.67it/s]\n"
     ]
    },
    {
     "name": "stdout",
     "output_type": "stream",
     "text": [
      "[0.01, 0.3800000000000002, 0.61]\n"
     ]
    },
    {
     "name": "stderr",
     "output_type": "stream",
     "text": [
      "100%|██████████| 50000/50000 [00:18<00:00, 2705.88it/s]\n"
     ]
    },
    {
     "name": "stdout",
     "output_type": "stream",
     "text": [
      "[0.01, 0.3050000000000002, 0.6849999999999999]\n"
     ]
    },
    {
     "name": "stderr",
     "output_type": "stream",
     "text": [
      "100%|██████████| 50000/50000 [00:17<00:00, 2865.91it/s]\n"
     ]
    },
    {
     "name": "stdout",
     "output_type": "stream",
     "text": [
      "[0.01, 0.2300000000000002, 0.7599999999999999]\n"
     ]
    },
    {
     "name": "stderr",
     "output_type": "stream",
     "text": [
      "  0%|          | 0/50000 [00:00<?, ?it/s]/Users/aymericvie/Documents/GitHub/evology/evology/code/data.py:130: RuntimeWarning: Mean of empty slice\n",
      "  results[current, 55] = np.nanmean(DailyVIReturns)\n",
      "100%|██████████| 50000/50000 [00:17<00:00, 2831.28it/s]\n"
     ]
    },
    {
     "name": "stdout",
     "output_type": "stream",
     "text": [
      "[0.01, 0.1550000000000002, 0.8349999999999999]\n"
     ]
    },
    {
     "name": "stderr",
     "output_type": "stream",
     "text": [
      " 93%|█████████▎| 46484/50000 [00:16<00:01, 2647.34it/s]/Users/aymericvie/Documents/GitHub/evology/evology/code/balance_sheet.py:153: RuntimeWarning: invalid value encountered in log2\n",
      "  return (LeverageNT * ind.wealth / p) * np.tanh(SCALE_NT * (math.log2(ind[0] * ind.process) - np.log2(p))) - ind.asset\n",
      "/Users/aymericvie/Documents/GitHub/evology/evology/code/balance_sheet.py:136: RuntimeWarning: invalid value encountered in log2\n",
      "  return (LeverageVI * ind.wealth / p) * np.tanh(SCALE_VI * (math.log2(ind[0]) - np.log2(p))) - ind.asset\n",
      "100%|██████████| 50000/50000 [00:18<00:00, 2744.14it/s]\n"
     ]
    },
    {
     "name": "stdout",
     "output_type": "stream",
     "text": [
      "[0.01, 0.0800000000000002, 0.9099999999999998]\n"
     ]
    },
    {
     "name": "stderr",
     "output_type": "stream",
     "text": [
      "100%|██████████| 50000/50000 [00:20<00:00, 2484.80it/s]\n"
     ]
    }
   ],
   "source": [
    "#!/usr/bin/env python3\n",
    "import sys\n",
    "sys.path.insert(0, '/Users/aymericvie/Documents/GitHub/evology/evology/code/')\n",
    "from main import *\n",
    "from parameters import *\n",
    "import matplotlib\n",
    "import matplotlib.pyplot as plt\n",
    "\n",
    "increment = 0.075\n",
    "time = 50000\n",
    "agents = 3\n",
    "\n",
    "wealth_coordinates = [0.01, 0.98, 0.01]\n",
    "\n",
    "exrNT, exrVI, exrTF, exrAVG = [], [], [], []\n",
    "stratf, stratv, stratn = [], [], []\n",
    "\n",
    "while wealth_coordinates[2] <= (1-wealth_coordinates[0]- 0.01):\n",
    "    print(wealth_coordinates)\n",
    "    df = main(\"static\", time, 0, agents, 0, wealth_coordinates, tqdm_display = False, reset_wealth = True)\n",
    "    \n",
    "\n",
    "    # print(df['TF_DayReturns'])\n",
    "\n",
    "    exrNT.append(np.nanmean(df['NT_DayReturns'] / np.nanstd(df['NT_DayReturns'])))\n",
    "    exrVI.append(np.nanmean(df['VI_DayReturns'] / np.nanstd(df['VI_DayReturns'])))\n",
    "    exrTF.append(np.nanmean(df['TF_DayReturns'] / np.nanstd(df['TF_DayReturns'])))\n",
    "    exrAVG.append(np.nanmean(df['AvgDayReturn'] / np.nanstd(df['AvgDayReturn'])))\n",
    "\n",
    "    stratn.append(wealth_coordinates[0])\n",
    "    stratv.append(wealth_coordinates[1])\n",
    "    stratf.append(wealth_coordinates[2])\n",
    "\n",
    "    wealth_coordinates[1] -= increment\n",
    "    wealth_coordinates[2] += increment\n",
    "\n",
    "\n",
    "\n"
   ]
  },
  {
   "cell_type": "code",
   "execution_count": 18,
   "metadata": {},
   "outputs": [
    {
     "name": "stdout",
     "output_type": "stream",
     "text": [
      "TF\n"
     ]
    },
    {
     "data": {
      "image/png": "[encoded data removed]",
      "text/plain": [
       "<Figure size 432x288 with 1 Axes>"
      ]
     },
     "metadata": {
      "needs_background": "light"
     },
     "output_type": "display_data"
    },
    {
     "data": {
      "image/png": "[encoded data removed]",
      "text/plain": [
       "<Figure size 432x288 with 1 Axes>"
      ]
     },
     "metadata": {
      "needs_background": "light"
     },
     "output_type": "display_data"
    },
    {
     "name": "stdout",
     "output_type": "stream",
     "text": [
      "VI\n"
     ]
    },
    {
     "data": {
      "image/png": "[encoded data removed]",
      "text/plain": [
       "<Figure size 432x288 with 1 Axes>"
      ]
     },
     "metadata": {
      "needs_background": "light"
     },
     "output_type": "display_data"
    },
    {
     "data": {
      "image/png": "[encoded data removed]",
      "text/plain": [
       "<Figure size 432x288 with 1 Axes>"
      ]
     },
     "metadata": {
      "needs_background": "light"
     },
     "output_type": "display_data"
    },
    {
     "name": "stdout",
     "output_type": "stream",
     "text": [
      "NT\n"
     ]
    },
    {
     "data": {
      "image/png": "[encoded data removed]",
      "text/plain": [
       "<Figure size 432x288 with 1 Axes>"
      ]
     },
     "metadata": {
      "needs_background": "light"
     },
     "output_type": "display_data"
    },
    {
     "data": {
      "image/png": "[encoded data removed]",
      "text/plain": [
       "<Figure size 432x288 with 1 Axes>"
      ]
     },
     "metadata": {
      "needs_background": "light"
     },
     "output_type": "display_data"
    }
   ],
   "source": [
    "# print(stratf)\n",
    "# print(exrTF)\n",
    "\n",
    "print('TF')\n",
    "\n",
    "plt.plot(stratf, exrTF)\n",
    "plt.show()\n",
    "\n",
    "exrTF_net = np.subtract(exrTF, exrAVG)\n",
    "plt.plot(stratf, exrTF_net)\n",
    "plt.show()\n",
    "\n",
    "print('VI')\n",
    "\n",
    "plt.plot(stratv, exrVI)\n",
    "plt.show()\n",
    "\n",
    "exrVI_net = np.subtract(exrVI, exrAVG)\n",
    "plt.plot(stratv, exrVI_net)\n",
    "plt.show()\n",
    "\n",
    "print('NT')\n",
    "\n",
    "plt.plot(stratn, exrNT)\n",
    "plt.show()\n",
    "\n",
    "exrNT_net = np.subtract(exrNT, exrAVG)\n",
    "plt.plot(stratn, exrNT_net)\n",
    "plt.show()\n",
    "\n",
    "\n"
   ]
  }
 ],
 "metadata": {
  "interpreter": {
   "hash": "aee8b7b246df8f9039afb4144a1f6fd8d2ca17a180786b69acc140d282b71a49"
  },
  "kernelspec": {
   "display_name": "Python 3.9.6 64-bit",
   "language": "python",
   "name": "python3"
  },
  "language_info": {
   "codemirror_mode": {
    "name": "ipython",
    "version": 3
   },
   "file_extension": ".py",
   "mimetype": "text/x-python",
   "name": "python",
   "nbconvert_exporter": "python",
   "pygments_lexer": "ipython3",
   "version": "3.9.6"
  },
  "orig_nbformat": 4
 },
 "nbformat": 4,
 "nbformat_minor": 2
}
