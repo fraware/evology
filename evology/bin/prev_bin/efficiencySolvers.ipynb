{
 "cells": [
  {
   "cell_type": "code",
   "execution_count": 1,
   "metadata": {},
   "outputs": [],
   "source": [
    "import sys\n",
    "import pandas as pd\n",
    "sys.path.insert(0, '/Users/aymericvie/Documents/GitHub/evology/evology/code/')\n",
    "from main import *\n",
    "reps = 10\n",
    "time = 10000"
   ]
  },
  {
   "cell_type": "code",
   "execution_count": 6,
   "metadata": {},
   "outputs": [
    {
     "name": "stderr",
     "output_type": "stream",
     "text": [
      "100%|██████████| 10000/10000 [00:34<00:00, 287.69it/s]\n",
      "100%|██████████| 10000/10000 [00:33<00:00, 296.23it/s]\n",
      "100%|██████████| 10000/10000 [00:36<00:00, 276.87it/s]\n",
      "100%|██████████| 10000/10000 [00:31<00:00, 319.17it/s]\n",
      "100%|██████████| 10000/10000 [00:33<00:00, 297.59it/s]\n",
      "100%|██████████| 10000/10000 [00:31<00:00, 313.83it/s]\n",
      "100%|██████████| 10000/10000 [00:32<00:00, 310.79it/s]\n",
      "100%|██████████| 10000/10000 [00:33<00:00, 296.77it/s]\n",
      "100%|██████████| 10000/10000 [00:37<00:00, 269.49it/s]\n",
      "100%|██████████| 10000/10000 [00:31<00:00, 317.34it/s]\n",
      "100%|██████████| 10/10 [05:36<00:00, 33.60s/it]\n",
      "100%|██████████| 10000/10000 [00:22<00:00, 435.32it/s]\n",
      " 10%|█         | 1/10 [00:22<03:26, 22.98s/it]/Users/aymericvie/Documents/GitHub/evology/evology/code/data.py:137: RuntimeWarning: Mean of empty slice\n",
      "  results[current, 56] = np.nanmean(DailyTFReturns)\n",
      "100%|██████████| 10000/10000 [00:28<00:00, 347.36it/s]\n",
      " 20%|██        | 2/10 [00:51<03:31, 26.40s/it]/Users/aymericvie/Documents/GitHub/evology/evology/code/data.py:136: RuntimeWarning: Mean of empty slice\n",
      "  results[current, 55] = np.nanmean(DailyVIReturns)\n",
      "100%|██████████| 10000/10000 [00:28<00:00, 347.67it/s]\n",
      "100%|██████████| 10000/10000 [00:25<00:00, 388.17it/s]\n",
      "100%|██████████| 10000/10000 [00:23<00:00, 423.90it/s]\n",
      "100%|██████████| 10000/10000 [00:25<00:00, 396.73it/s]\n",
      "100%|██████████| 10000/10000 [00:25<00:00, 399.75it/s]\n",
      "100%|██████████| 10000/10000 [00:25<00:00, 388.77it/s]\n",
      "100%|██████████| 10000/10000 [00:25<00:00, 396.06it/s]\n",
      "100%|██████████| 10000/10000 [00:23<00:00, 430.13it/s]\n",
      "100%|██████████| 10/10 [04:14<00:00, 25.44s/it]"
     ]
    },
    {
     "name": "stdout",
     "output_type": "stream",
     "text": [
      "ESL: 0.0017245830323336885\n",
      "Newton: 0.0008297492320920589\n"
     ]
    },
    {
     "name": "stderr",
     "output_type": "stream",
     "text": [
      "\n"
     ]
    }
   ],
   "source": [
    "# esl_times = []\n",
    "# for i in tqdm(range(reps)):\n",
    "#     df,pop = main(\"static\", 'scholl', 'esl', False, time, 0, 100, 0, [1/3, 1/3, 1/3], False, False)\n",
    "#     esl_times.append(df['TimeE'].mean())\n",
    "\n",
    "# \n",
    "# print('ESL: ' + str(np.mean(esl_times)))\n",
    "# 0.0017245830323336885\n",
    "# print('ESL: ' + str(1000 * sum(esl_times)))\n",
    "# 17.245830323336882\n"
   ]
  },
  {
   "cell_type": "code",
   "execution_count": 2,
   "metadata": {},
   "outputs": [
    {
     "name": "stderr",
     "output_type": "stream",
     "text": [
      "100%|██████████| 10000/10000 [00:22<00:00, 440.19it/s]\n",
      " 79%|███████▉  | 7905/10000 [00:25<00:06, 307.09it/s]\n",
      " 10%|█         | 1/10 [00:48<07:16, 48.48s/it]\n"
     ]
    },
    {
     "ename": "KeyboardInterrupt",
     "evalue": "",
     "output_type": "error",
     "traceback": [
      "\u001b[0;31m---------------------------------------------------------------------------\u001b[0m",
      "\u001b[0;31mKeyboardInterrupt\u001b[0m                         Traceback (most recent call last)",
      "\u001b[0;32m/var/folders/vt/cnvcr__n5pn60jkl8nh7fzrw0000gn/T/ipykernel_3164/1633059368.py\u001b[0m in \u001b[0;36m<module>\u001b[0;34m\u001b[0m\n\u001b[1;32m      1\u001b[0m \u001b[0mnewton_times\u001b[0m \u001b[0;34m=\u001b[0m \u001b[0;34m[\u001b[0m\u001b[0;34m]\u001b[0m\u001b[0;34m\u001b[0m\u001b[0;34m\u001b[0m\u001b[0m\n\u001b[1;32m      2\u001b[0m \u001b[0;32mfor\u001b[0m \u001b[0mi\u001b[0m \u001b[0;32min\u001b[0m \u001b[0mtqdm\u001b[0m\u001b[0;34m(\u001b[0m\u001b[0mrange\u001b[0m\u001b[0;34m(\u001b[0m\u001b[0mreps\u001b[0m\u001b[0;34m)\u001b[0m\u001b[0;34m)\u001b[0m\u001b[0;34m:\u001b[0m\u001b[0;34m\u001b[0m\u001b[0;34m\u001b[0m\u001b[0m\n\u001b[0;32m----> 3\u001b[0;31m     \u001b[0mdf\u001b[0m\u001b[0;34m,\u001b[0m\u001b[0mpop\u001b[0m \u001b[0;34m=\u001b[0m \u001b[0mmain\u001b[0m\u001b[0;34m(\u001b[0m\u001b[0;34m\"static\"\u001b[0m\u001b[0;34m,\u001b[0m \u001b[0;34m'scholl'\u001b[0m\u001b[0;34m,\u001b[0m \u001b[0;34m'newton'\u001b[0m\u001b[0;34m,\u001b[0m \u001b[0;32mFalse\u001b[0m\u001b[0;34m,\u001b[0m \u001b[0mtime\u001b[0m\u001b[0;34m,\u001b[0m \u001b[0;36m0\u001b[0m\u001b[0;34m,\u001b[0m \u001b[0;36m100\u001b[0m\u001b[0;34m,\u001b[0m \u001b[0;36m0\u001b[0m\u001b[0;34m,\u001b[0m \u001b[0;34m[\u001b[0m\u001b[0;36m1\u001b[0m\u001b[0;34m/\u001b[0m\u001b[0;36m3\u001b[0m\u001b[0;34m,\u001b[0m \u001b[0;36m1\u001b[0m\u001b[0;34m/\u001b[0m\u001b[0;36m3\u001b[0m\u001b[0;34m,\u001b[0m \u001b[0;36m1\u001b[0m\u001b[0;34m/\u001b[0m\u001b[0;36m3\u001b[0m\u001b[0;34m]\u001b[0m\u001b[0;34m,\u001b[0m \u001b[0;32mFalse\u001b[0m\u001b[0;34m,\u001b[0m \u001b[0;32mFalse\u001b[0m\u001b[0;34m)\u001b[0m\u001b[0;34m\u001b[0m\u001b[0;34m\u001b[0m\u001b[0m\n\u001b[0m\u001b[1;32m      4\u001b[0m     \u001b[0mnewton_times\u001b[0m\u001b[0;34m.\u001b[0m\u001b[0mappend\u001b[0m\u001b[0;34m(\u001b[0m\u001b[0mdf\u001b[0m\u001b[0;34m[\u001b[0m\u001b[0;34m'TimeE'\u001b[0m\u001b[0;34m]\u001b[0m\u001b[0;34m.\u001b[0m\u001b[0mmean\u001b[0m\u001b[0;34m(\u001b[0m\u001b[0;34m)\u001b[0m\u001b[0;34m)\u001b[0m\u001b[0;34m\u001b[0m\u001b[0;34m\u001b[0m\u001b[0m\n\u001b[1;32m      5\u001b[0m \u001b[0mprint\u001b[0m\u001b[0;34m(\u001b[0m\u001b[0;34m'Newton: '\u001b[0m \u001b[0;34m+\u001b[0m \u001b[0mstr\u001b[0m\u001b[0;34m(\u001b[0m\u001b[0mnp\u001b[0m\u001b[0;34m.\u001b[0m\u001b[0mmean\u001b[0m\u001b[0;34m(\u001b[0m\u001b[0mnewton_times\u001b[0m\u001b[0;34m)\u001b[0m\u001b[0;34m)\u001b[0m\u001b[0;34m)\u001b[0m\u001b[0;34m\u001b[0m\u001b[0;34m\u001b[0m\u001b[0m\n",
      "\u001b[0;32m~/Documents/GitHub/evology/evology/code/main.py\u001b[0m in \u001b[0;36mmain\u001b[0;34m(mode, space, solver, circuit, MAX_GENERATIONS, PROBA_SELECTION, POPULATION_SIZE, MUTATION_RATE, wealth_coordinates, tqdm_display, reset_wealth)\u001b[0m\n\u001b[1;32m     43\u001b[0m \u001b[0;34m\u001b[0m\u001b[0m\n\u001b[1;32m     44\u001b[0m         \u001b[0;31m# Record results\u001b[0m\u001b[0;34m\u001b[0m\u001b[0;34m\u001b[0m\u001b[0;34m\u001b[0m\u001b[0m\n\u001b[0;32m---> 45\u001b[0;31m         results, ReturnsNT, ReturnsVI, ReturnsTF = data.record_results(results, generation, CurrentPrice, mismatch, \n\u001b[0m\u001b[1;32m     46\u001b[0m         \u001b[0mdividend\u001b[0m\u001b[0;34m,\u001b[0m \u001b[0mrandom_dividend\u001b[0m\u001b[0;34m,\u001b[0m \u001b[0mvolume\u001b[0m\u001b[0;34m,\u001b[0m \u001b[0mreplacements\u001b[0m\u001b[0;34m,\u001b[0m \u001b[0mpop\u001b[0m\u001b[0;34m,\u001b[0m \u001b[0mprice_history\u001b[0m\u001b[0;34m,\u001b[0m \u001b[0mspoils\u001b[0m\u001b[0;34m,\u001b[0m\u001b[0;34m\u001b[0m\u001b[0;34m\u001b[0m\u001b[0m\n\u001b[1;32m     47\u001b[0m         \u001b[0masset_supply\u001b[0m\u001b[0;34m,\u001b[0m \u001b[0mtimeA\u001b[0m\u001b[0;34m,\u001b[0m \u001b[0mtimeB\u001b[0m\u001b[0;34m,\u001b[0m \u001b[0mtimeC\u001b[0m\u001b[0;34m,\u001b[0m \u001b[0mtimeD\u001b[0m\u001b[0;34m,\u001b[0m \u001b[0mtimeE\u001b[0m\u001b[0;34m,\u001b[0m \u001b[0mtimeF\u001b[0m\u001b[0;34m,\u001b[0m \u001b[0mReturnsNT\u001b[0m\u001b[0;34m,\u001b[0m \u001b[0mReturnsVI\u001b[0m\u001b[0;34m,\u001b[0m \u001b[0mReturnsTF\u001b[0m\u001b[0;34m,\u001b[0m\u001b[0;34m\u001b[0m\u001b[0;34m\u001b[0m\u001b[0m\n",
      "\u001b[0;32m~/Documents/GitHub/evology/evology/code/data.py\u001b[0m in \u001b[0;36mrecord_results\u001b[0;34m(results, generation, current_price, mismatch, dividend, random_dividend, volume, replacements, pop, price_history, spoils, asset_supply, timeA, timeB, timeC, timeD, timeE, timeF, ReturnsNT, ReturnsVI, ReturnsTF, CountSelected, CountMutated, CountCrossed, StratFlow)\u001b[0m\n\u001b[1;32m     82\u001b[0m         \u001b[0mresults\u001b[0m\u001b[0;34m[\u001b[0m\u001b[0mcurrent\u001b[0m\u001b[0;34m,\u001b[0m \u001b[0;36m16\u001b[0m\u001b[0;34m]\u001b[0m \u001b[0;34m=\u001b[0m \u001b[0mbs\u001b[0m\u001b[0;34m.\u001b[0m\u001b[0mWealthShare\u001b[0m\u001b[0;34m(\u001b[0m\u001b[0mpop\u001b[0m\u001b[0;34m,\u001b[0m \u001b[0;34m'nt'\u001b[0m\u001b[0;34m)\u001b[0m\u001b[0;34m\u001b[0m\u001b[0;34m\u001b[0m\u001b[0m\n\u001b[1;32m     83\u001b[0m         \u001b[0mresults\u001b[0m\u001b[0;34m[\u001b[0m\u001b[0mcurrent\u001b[0m\u001b[0;34m,\u001b[0m \u001b[0;36m17\u001b[0m\u001b[0;34m]\u001b[0m \u001b[0;34m=\u001b[0m \u001b[0mbs\u001b[0m\u001b[0;34m.\u001b[0m\u001b[0mWealthShare\u001b[0m\u001b[0;34m(\u001b[0m\u001b[0mpop\u001b[0m\u001b[0;34m,\u001b[0m \u001b[0;34m'vi'\u001b[0m\u001b[0;34m)\u001b[0m\u001b[0;34m\u001b[0m\u001b[0;34m\u001b[0m\u001b[0m\n\u001b[0;32m---> 84\u001b[0;31m         \u001b[0mresults\u001b[0m\u001b[0;34m[\u001b[0m\u001b[0mcurrent\u001b[0m\u001b[0;34m,\u001b[0m \u001b[0;36m18\u001b[0m\u001b[0;34m]\u001b[0m \u001b[0;34m=\u001b[0m \u001b[0mbs\u001b[0m\u001b[0;34m.\u001b[0m\u001b[0mWealthShare\u001b[0m\u001b[0;34m(\u001b[0m\u001b[0mpop\u001b[0m\u001b[0;34m,\u001b[0m \u001b[0;34m'tf'\u001b[0m\u001b[0;34m)\u001b[0m\u001b[0;34m\u001b[0m\u001b[0;34m\u001b[0m\u001b[0m\n\u001b[0m\u001b[1;32m     85\u001b[0m \u001b[0;34m\u001b[0m\u001b[0m\n\u001b[1;32m     86\u001b[0m \u001b[0;34m\u001b[0m\u001b[0m\n",
      "\u001b[0;32m~/Documents/GitHub/evology/evology/code/balance_sheet.py\u001b[0m in \u001b[0;36mWealthShare\u001b[0;34m(pop, strat)\u001b[0m\n\u001b[1;32m    301\u001b[0m \u001b[0;34m\u001b[0m\u001b[0m\n\u001b[1;32m    302\u001b[0m \u001b[0;32mdef\u001b[0m \u001b[0mWealthShare\u001b[0m\u001b[0;34m(\u001b[0m\u001b[0mpop\u001b[0m\u001b[0;34m,\u001b[0m \u001b[0mstrat\u001b[0m\u001b[0;34m)\u001b[0m\u001b[0;34m:\u001b[0m\u001b[0;34m\u001b[0m\u001b[0;34m\u001b[0m\u001b[0m\n\u001b[0;32m--> 303\u001b[0;31m     \u001b[0mTotalW\u001b[0m \u001b[0;34m=\u001b[0m \u001b[0mTotalWealth\u001b[0m\u001b[0;34m(\u001b[0m\u001b[0mpop\u001b[0m\u001b[0;34m)\u001b[0m\u001b[0;34m\u001b[0m\u001b[0;34m\u001b[0m\u001b[0m\n\u001b[0m\u001b[1;32m    304\u001b[0m     \u001b[0mStratWealth\u001b[0m \u001b[0;34m=\u001b[0m \u001b[0;36m0\u001b[0m\u001b[0;34m\u001b[0m\u001b[0;34m\u001b[0m\u001b[0m\n\u001b[1;32m    305\u001b[0m     \u001b[0;32mfor\u001b[0m \u001b[0mind\u001b[0m \u001b[0;32min\u001b[0m \u001b[0mpop\u001b[0m\u001b[0;34m:\u001b[0m\u001b[0;34m\u001b[0m\u001b[0;34m\u001b[0m\u001b[0m\n",
      "\u001b[0;32m~/Documents/GitHub/evology/evology/code/balance_sheet.py\u001b[0m in \u001b[0;36mTotalWealth\u001b[0;34m(pop)\u001b[0m\n\u001b[1;32m    296\u001b[0m     \u001b[0mWealth\u001b[0m \u001b[0;34m=\u001b[0m \u001b[0;36m0\u001b[0m\u001b[0;34m\u001b[0m\u001b[0;34m\u001b[0m\u001b[0m\n\u001b[1;32m    297\u001b[0m     \u001b[0;32mfor\u001b[0m \u001b[0mind\u001b[0m \u001b[0;32min\u001b[0m \u001b[0mpop\u001b[0m\u001b[0;34m:\u001b[0m\u001b[0;34m\u001b[0m\u001b[0;34m\u001b[0m\u001b[0m\n\u001b[0;32m--> 298\u001b[0;31m         \u001b[0;32mif\u001b[0m \u001b[0mind\u001b[0m\u001b[0;34m.\u001b[0m\u001b[0mwealth\u001b[0m \u001b[0;34m>\u001b[0m \u001b[0;36m0\u001b[0m\u001b[0;34m:\u001b[0m\u001b[0;34m\u001b[0m\u001b[0;34m\u001b[0m\u001b[0m\n\u001b[0m\u001b[1;32m    299\u001b[0m             \u001b[0mWealth\u001b[0m \u001b[0;34m+=\u001b[0m \u001b[0mind\u001b[0m\u001b[0;34m.\u001b[0m\u001b[0mwealth\u001b[0m\u001b[0;34m\u001b[0m\u001b[0;34m\u001b[0m\u001b[0m\n\u001b[1;32m    300\u001b[0m     \u001b[0;32mreturn\u001b[0m \u001b[0mWealth\u001b[0m\u001b[0;34m\u001b[0m\u001b[0;34m\u001b[0m\u001b[0m\n",
      "\u001b[0;31mKeyboardInterrupt\u001b[0m: "
     ]
    }
   ],
   "source": [
    "newton_times = []\n",
    "for i in tqdm(range(reps)):\n",
    "    df,pop = main(\"static\", 'scholl', 'newton', False, time, 0, 100, 0, [1/3, 1/3, 1/3], False, False)\n",
    "    newton_times.append(df['TimeE'].mean())\n",
    "print('Newton: ' + str(np.mean(newton_times)))"
   ]
  },
  {
   "cell_type": "code",
   "execution_count": 1,
   "metadata": {},
   "outputs": [
    {
     "ename": "NameError",
     "evalue": "name 'np' is not defined",
     "output_type": "error",
     "traceback": [
      "\u001b[0;31m---------------------------------------------------------------------------\u001b[0m",
      "\u001b[0;31mNameError\u001b[0m                                 Traceback (most recent call last)",
      "\u001b[0;32m/var/folders/vt/cnvcr__n5pn60jkl8nh7fzrw0000gn/T/ipykernel_2882/2363985022.py\u001b[0m in \u001b[0;36m<module>\u001b[0;34m\u001b[0m\n\u001b[1;32m      1\u001b[0m \u001b[0;31m# print('ESL: ' + str(np.mean(esl_times)))\u001b[0m\u001b[0;34m\u001b[0m\u001b[0;34m\u001b[0m\u001b[0;34m\u001b[0m\u001b[0m\n\u001b[0;32m----> 2\u001b[0;31m \u001b[0mprint\u001b[0m\u001b[0;34m(\u001b[0m\u001b[0;34m'Newton: '\u001b[0m \u001b[0;34m+\u001b[0m \u001b[0mstr\u001b[0m\u001b[0;34m(\u001b[0m\u001b[0mnp\u001b[0m\u001b[0;34m.\u001b[0m\u001b[0mmean\u001b[0m\u001b[0;34m(\u001b[0m\u001b[0mnewton_times\u001b[0m\u001b[0;34m)\u001b[0m\u001b[0;34m)\u001b[0m\u001b[0;34m)\u001b[0m\u001b[0;34m\u001b[0m\u001b[0;34m\u001b[0m\u001b[0m\n\u001b[0m",
      "\u001b[0;31mNameError\u001b[0m: name 'np' is not defined"
     ]
    }
   ],
   "source": [
    "\n",
    "# print('ESL: ' + str(np.mean(esl_times)))\n",
    "print('Newton: ' + str(np.mean(newton_times)))"
   ]
  },
  {
   "cell_type": "code",
   "execution_count": 9,
   "metadata": {},
   "outputs": [
    {
     "name": "stdout",
     "output_type": "stream",
     "text": [
      "Time spent during a single run on market clearing\n",
      "ESL: 17.245830323336882\n",
      "Newton: 8.297492320920588\n"
     ]
    }
   ],
   "source": [
    "print('Time spent during a single run on market clearing')\n",
    "# print('ESL: ' + str(1000 * sum(esl_times)))\n",
    "print('Newton: ' + str(1000 * sum(newton_times)))"
   ]
  }
 ],
 "metadata": {
  "interpreter": {
   "hash": "aee8b7b246df8f9039afb4144a1f6fd8d2ca17a180786b69acc140d282b71a49"
  },
  "kernelspec": {
   "display_name": "Python 3.9.6 64-bit",
   "language": "python",
   "name": "python3"
  },
  "language_info": {
   "codemirror_mode": {
    "name": "ipython",
    "version": 3
   },
   "file_extension": ".py",
   "mimetype": "text/x-python",
   "name": "python",
   "nbconvert_exporter": "python",
   "pygments_lexer": "ipython3",
   "version": "3.9.6"
  },
  "orig_nbformat": 4
 },
 "nbformat": 4,
 "nbformat_minor": 2
}
