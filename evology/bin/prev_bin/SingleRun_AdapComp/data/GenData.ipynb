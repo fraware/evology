{
 "cells": [
  {
   "cell_type": "code",
   "execution_count": 1,
   "metadata": {},
   "outputs": [
    {
     "name": "stderr",
     "output_type": "stream",
     "text": [
      "100%|██████████| 50000/50000 [03:16<00:00, 254.58it/s]\n",
      "100%|██████████| 50000/50000 [03:16<00:00, 254.18it/s]\n",
      "100%|██████████| 50000/50000 [03:15<00:00, 256.27it/s]\n"
     ]
    }
   ],
   "source": [
    "#!/usr/bin/env python3\n",
    "import sys\n",
    "sys.path.insert(0, '/Users/aymericvie/Documents/GitHub/evology/evology/code/')\n",
    "from main import *\n",
    "time = 50_000\n",
    "from parameters import *\n",
    "# wealth_coordinates = [0.42, 0.33, 0.25]\n",
    "wealth_coordinates = [1/3, 1/3, 1/3]\n",
    "\n",
    "# def main(mode, MAX_GENERATIONS, PROBA_SELECTION, POPULATION_SIZE, CROSSOVER_RATE, MUTATION_RATE, wealth_coordinates, tqdm_display):\n",
    "\n",
    "RdSearch = main(\"between\", time, 0, 100, 0, MUTATION_RATE, wealth_coordinates, False)\n",
    "RdSearch.to_csv(\"rdsearch.csv\")\n",
    "\n",
    "ProfAdapt = main(\"between\", time, PROBA_SELECTION, 100, 0, 0, wealth_coordinates, False)\n",
    "ProfAdapt.to_csv(\"profadapt.csv\")\n",
    "\n",
    "\n",
    "\n",
    "Static = main(\"static\", time, 0, 100, 0, 0, wealth_coordinates, False)\n",
    "Static.to_csv(\"static.csv\")\n"
   ]
  },
  {
   "cell_type": "code",
   "execution_count": 2,
   "metadata": {},
   "outputs": [
    {
     "name": "stderr",
     "output_type": "stream",
     "text": [
      " 66%|██████▌   | 32910/50000 [02:09<01:07, 251.89it/s]/Users/aymericvie/Documents/GitHub/evology/evology/code/balance_sheet.py:130: UserWarning: NT Error\n",
      "  warnings.warn('NT Error')\n",
      "/Users/aymericvie/Documents/GitHub/evology/evology/code/balance_sheet.py:120: UserWarning: VI Error\n",
      "  warnings.warn('VI Error')\n",
      " 66%|██████▌   | 32960/50000 [02:09<01:16, 221.93it/s]"
     ]
    },
    {
     "name": "stdout",
     "output_type": "stream",
     "text": [
      "Replacing // Gen 32930 // Type: nt, C: 81824, S+: -1160, L: 1071339, M: 949579, W: -1939095\n",
      "Replacing // Gen 32930 // Type: vi, C: 81824, S+: -841, L: 703168, M: 688525, W: -1309869\n",
      "Replacing // Gen 32930 // Type: vi, C: 81824, S+: -738, L: 627305, M: 604460, W: -1149941\n",
      "Replacing // Gen 32930 // Type: nt, C: 1192712648, S+: -1469827, L: 0, M: 1202671912, W: -9959264\n",
      "Replacing // Gen 32930 // Type: vi, C: 81824, S+: -909, L: 753692, M: 744512, W: -1416381\n",
      "Replacing // Gen 32930 // Type: nt, C: 81824, S+: -922, L: 408022, M: 755183, W: -1081381\n",
      "Replacing // Gen 32930 // Type: nt, C: 81824, S+: -771, L: 583393, M: 631232, W: -1132802\n",
      "Replacing // Gen 32930 // Type: vi, C: 81824, S+: -710, L: 606404, M: 581299, W: -1105880\n",
      "Replacing // Gen 32930 // Type: vi, C: 81824, S+: -2279, L: 1765273, M: 1865468, W: -3548918\n",
      "Replacing // Gen 32930 // Type: vi, C: 81824, S+: -728, L: 619620, M: 595944, W: -1133741\n",
      "Replacing // Gen 32930 // Type: vi, C: 81824, S+: -867, L: 722576, M: 710031, W: -1350784\n",
      "Replacing // Gen 32930 // Type: vi, C: 81824, S+: -697, L: 596813, M: 570671, W: -1085660\n",
      "Replacing // Gen 32930 // Type: nt, C: 81824, S+: -1451, L: 363190, M: 1187992, W: -1469359\n",
      "Replacing // Gen 32930 // Type: vi, C: 81824, S+: -886, L: 736371, M: 725318, W: -1379866\n",
      "Replacing // Gen 32930 // Type: vi, C: 81824, S+: -1399, L: 1115585, M: 1145534, W: -2179296\n",
      "Replacing // Gen 32930 // Type: vi, C: 81824, S+: -442, L: 408665, M: 362179, W: -689021\n",
      "Replacing // Gen 32930 // Type: vi, C: 81824, S+: -314, L: 314054, M: 257339, W: -489569\n",
      "Replacing // Gen 32930 // Type: vi, C: 81824, S+: -1422, L: 1132014, M: 1163740, W: -2213931\n",
      "Replacing // Gen 32930 // Type: vi, C: 81824, S+: -2080, L: 1617859, M: 1702115, W: -3238150\n",
      "Replacing // Gen 32930 // Type: vi, C: 81824, S+: -1677, L: 1320587, M: 1372701, W: -2611465\n",
      "Replacing // Gen 32930 // Type: vi, C: 81824, S+: -523, L: 468435, M: 428413, W: -815024\n",
      "Replacing // Gen 32930 // Type: vi, C: 81824, S+: -474, L: 432245, M: 388309, W: -738730\n",
      "Replacing // Gen 32930 // Type: vi, C: 81824, S+: -299, L: 303329, M: 245454, W: -466959\n",
      "Replacing // Gen 32930 // Type: nt, C: 81824, S+: -310, L: 675331, M: 253725, W: -847233\n",
      "Replacing // Gen 32930 // Type: nt, C: 81824, S+: -670, L: 689975, M: 548894, W: -1157045\n",
      "Replacing // Gen 32930 // Type: vi, C: 81824, S+: -802, L: 674407, M: 656655, W: -1249239\n",
      "Replacing // Gen 32930 // Type: vi, C: 81824, S+: -704, L: 602316, M: 576769, W: -1097262\n",
      "Replacing // Gen 32930 // Type: vi, C: 81824, S+: -845, L: 706339, M: 692040, W: -1316556\n",
      "Replacing // Gen 32930 // Type: vi, C: 81824, S+: -941, L: 777291, M: 770662, W: -1466129\n",
      "Replacing // Gen 32930 // Type: nt, C: 81824, S+: -271, L: 386421, M: 222369, W: -526966\n",
      "Replacing // Gen 32930 // Type: nt, C: 81824, S+: -360, L: 579428, M: 294809, W: -792413\n",
      "Replacing // Gen 32930 // Type: nt, C: 81824, S+: -1642, L: 38603, M: 1343958, W: -1300738\n",
      "Replacing // Gen 32930 // Type: vi, C: 81824, S+: -955, L: 787127, M: 781563, W: -1486866\n",
      "Replacing // Gen 32930 // Type: nt, C: 81824, S+: -457, L: 554433, M: 374551, W: -847160\n",
      "Replacing // Gen 32930 // Type: nt, C: 81824, S+: -2778, L: 863805, M: 2273875, W: -3055857\n",
      "Replacing // Gen 32930 // Type: vi, C: 81824, S+: -745, L: 632523, M: 610242, W: -1160942\n",
      "Replacing // Gen 32930 // Type: vi, C: 81824, S+: -626, L: 544792, M: 513026, W: -975994\n",
      "Replacing // Gen 32930 // Type: vi, C: 81824, S+: -1431, L: 1138838, M: 1171301, W: -2228316\n",
      "Replacing // Gen 32934 // Type: nt, C: 553529563, S+: -3076002, L: 0, M: 1044456580, W: -490927016\n",
      "Replacing // Gen 32957 // Type: vi, C: 2421027542, S+: -5146131, L: 0, M: 3325944608, W: -904917065\n",
      "Replacing // Gen 32965 // Type: nt, C: 40903040, S+: -98281, L: 0, M: 41291814, W: -388774\n",
      "Replacing // Gen 32965 // Type: nt, C: 42014, S+: -4398, L: 3807200, M: 1847856, W: -5613042\n",
      "Replacing // Gen 32965 // Type: nt, C: 42014, S+: -4853, L: 2949671, M: 2039252, W: -4946910\n",
      "Replacing // Gen 32965 // Type: nt, C: 42014, S+: -12983, L: 6413319, M: 5455047, W: -11826353\n",
      "Replacing // Gen 32965 // Type: nt, C: 5239167, S+: -14107, L: 0, M: 5927110, W: -687943\n"
     ]
    },
    {
     "name": "stderr",
     "output_type": "stream",
     "text": [
      " 66%|██████▌   | 33005/50000 [02:09<01:22, 205.28it/s]"
     ]
    },
    {
     "name": "stdout",
     "output_type": "stream",
     "text": [
      "Replacing // Gen 32977 // Type: nt, C: 1324068961, S+: -1743296, L: 0, M: 1694274725, W: -370205763\n",
      "Replacing // Gen 32985 // Type: nt, C: 62121, S+: -17001, L: 48767345, M: 10561501, W: -59266726\n",
      "Replacing // Gen 32985 // Type: nt, C: 62121, S+: -18119, L: 65077014, M: 11255740, W: -76270633\n",
      "Replacing // Gen 32985 // Type: nt, C: 62121, S+: -21894, L: 68417891, M: 13601158, W: -81956929\n",
      "Replacing // Gen 32985 // Type: vi, C: 62121, S+: -22388, L: 81587206, M: 13907688, W: -95432774\n",
      "Replacing // Gen 32985 // Type: nt, C: 62121, S+: -3676, L: 24171371, M: 2283739, W: -26392989\n",
      "Replacing // Gen 32985 // Type: nt, C: 62121, S+: -19955, L: 70170300, M: 12396673, W: -82504852\n",
      "Replacing // Gen 32985 // Type: vi, C: 62121, S+: -12923, L: 48469815, M: 8028414, W: -56436108\n",
      "Replacing // Gen 32985 // Type: vi, C: 62121, S+: -22388, L: 81587206, M: 13907688, W: -95432774\n",
      "Replacing // Gen 32985 // Type: vi, C: 62121, S+: -22388, L: 81587206, M: 13907688, W: -95432774\n",
      "Replacing // Gen 32985 // Type: vi, C: 62121, S+: -22388, L: 81587206, M: 13907688, W: -95432774\n",
      "Replacing // Gen 32985 // Type: nt, C: 62121, S+: -18391, L: 67349085, M: 11425285, W: -78712250\n",
      "Replacing // Gen 32985 // Type: nt, C: 62121, S+: -21437, L: 72372615, M: 13317345, W: -85627839\n",
      "Replacing // Gen 32985 // Type: vi, C: 62121, S+: -22388, L: 81587206, M: 13907688, W: -95432774\n",
      "Replacing // Gen 32985 // Type: vi, C: 62121, S+: -79566, L: 289277606, M: 49427490, W: -338642976\n",
      "Replacing // Gen 32985 // Type: nt, C: 62121, S+: -17769, L: 61975029, M: 11038326, W: -72951235\n",
      "Replacing // Gen 32985 // Type: nt, C: 62121, S+: -25922, L: 110318713, M: 16103169, W: -126359762\n",
      "Replacing // Gen 32985 // Type: nt, C: 62121, S+: -20418, L: 53105833, M: 12683936, W: -65727649\n",
      "Replacing // Gen 32985 // Type: vi, C: 62121, S+: -22388, L: 81587206, M: 13907688, W: -95432774\n",
      "Replacing // Gen 32985 // Type: nt, C: 62121, S+: -28469, L: 102257604, M: 17685672, W: -119881156\n",
      "Replacing // Gen 32985 // Type: nt, C: 62121, S+: -13516, L: 45712049, M: 8396877, W: -54046805\n",
      "Replacing // Gen 32985 // Type: vi, C: 62121, S+: -22388, L: 81587206, M: 13907688, W: -95432774\n",
      "Replacing // Gen 32985 // Type: vi, C: 62121, S+: -22388, L: 81587206, M: 13907688, W: -95432774\n",
      "Replacing // Gen 32985 // Type: vi, C: 62121, S+: -22388, L: 81587206, M: 13907688, W: -95432774\n",
      "Replacing // Gen 32985 // Type: nt, C: 62121, S+: -26362, L: 135539845, M: 16376859, W: -151854583\n",
      "Replacing // Gen 32985 // Type: nt, C: 62121, S+: -29332, L: 90755739, M: 18221369, W: -108914988\n",
      "Replacing // Gen 32985 // Type: vi, C: 62121, S+: -6097, L: 22224727, M: 3787711, W: -25950318\n",
      "Replacing // Gen 32985 // Type: vi, C: 62121, S+: -10969, L: 44873634, M: 6814117, W: -51625631\n",
      "Replacing // Gen 32997 // Type: vi, C: 81112, S+: -2595, L: 7249583, M: 2105288, W: -9273760\n",
      "Replacing // Gen 32997 // Type: vi, C: 81112, S+: -2595, L: 7249583, M: 2105288, W: -9273760\n",
      "Replacing // Gen 32997 // Type: nt, C: 81112, S+: -2626, L: 7222167, M: 2130501, W: -9271557\n",
      "Replacing // Gen 32997 // Type: vi, C: 81112, S+: -2595, L: 7249583, M: 2105288, W: -9273760\n",
      "Replacing // Gen 32997 // Type: vi, C: 81112, S+: -2595, L: 7249583, M: 2105288, W: -9273760\n",
      "Replacing // Gen 32997 // Type: vi, C: 81112, S+: -2595, L: 7249583, M: 2105288, W: -9273760\n",
      "Replacing // Gen 32997 // Type: nt, C: 81112, S+: -2707, L: 7147638, M: 2195935, W: -9262462\n",
      "Replacing // Gen 32997 // Type: vi, C: 81112, S+: -2595, L: 7249583, M: 2105288, W: -9273760\n",
      "Replacing // Gen 32997 // Type: vi, C: 81112, S+: -2595, L: 7249583, M: 2105288, W: -9273760\n",
      "Replacing // Gen 32997 // Type: nt, C: 81112, S+: -2151, L: 7647093, M: 1744974, W: -9310956\n",
      "Replacing // Gen 32997 // Type: vi, C: 81112, S+: -2595, L: 7249583, M: 2105288, W: -9273760\n",
      "Replacing // Gen 32997 // Type: vi, C: 81112, S+: -2595, L: 7249583, M: 2105288, W: -9273760\n",
      "Replacing // Gen 32997 // Type: nt, C: 81112, S+: -2576, L: 7268280, M: 2089539, W: -9276707\n",
      "Replacing // Gen 32997 // Type: nt, C: 81112, S+: -2353, L: 7464789, M: 1908768, W: -9292445\n",
      "Replacing // Gen 32997 // Type: vi, C: 81112, S+: -2595, L: 7249583, M: 2105288, W: -9273760\n",
      "Replacing // Gen 32997 // Type: nt, C: 81112, S+: -2608, L: 7237738, M: 2115741, W: -9272367\n",
      "Replacing // Gen 32997 // Type: nt, C: 81112, S+: -2927, L: 6944106, M: 2374664, W: -9237659\n",
      "Replacing // Gen 33003 // Type: nt, C: 1039101543, S+: -2024785, L: 0, M: 1199219687, W: -160118143\n",
      "Replacing // Gen 33007 // Type: nt, C: 70037, S+: -14791, L: 139552277, M: 10359205, W: -149841446\n",
      "Replacing // Gen 33007 // Type: vi, C: 70037, S+: -16070, L: 137569985, M: 11254980, W: -148754929\n",
      "Replacing // Gen 33007 // Type: vi, C: 70037, S+: -16070, L: 137569985, M: 11254980, W: -148754929\n",
      "Replacing // Gen 33007 // Type: vi, C: 70037, S+: -16070, L: 137569985, M: 11254980, W: -148754929\n",
      "Replacing // Gen 33007 // Type: vi, C: 70037, S+: -415696, L: 3744001675, M: 291141260, W: -4035072898\n",
      "Replacing // Gen 33007 // Type: nt, C: 70037, S+: -17846, L: 134925252, M: 12498897, W: -147354112\n",
      "Replacing // Gen 33007 // Type: vi, C: 70037, S+: -16070, L: 137569985, M: 11254980, W: -148754929\n",
      "Replacing // Gen 33007 // Type: vi, C: 70037, S+: -16070, L: 137569985, M: 11254980, W: -148754929\n",
      "Replacing // Gen 33007 // Type: nt, C: 70037, S+: -16386, L: 137036974, M: 11476644, W: -148443581\n",
      "Replacing // Gen 33007 // Type: vi, C: 70037, S+: -16070, L: 137569985, M: 11254980, W: -148754929\n",
      "Replacing // Gen 33007 // Type: vi, C: 70037, S+: -222695, L: 512513695, M: 155969056, W: -668412715\n",
      "Replacing // Gen 33008 // Type: nt, C: 33690396, S+: -24097, L: 0, M: 33805251, W: -114854\n",
      "Replacing // Gen 33015 // Type: vi, C: 68992369, S+: -94780, L: 0, M: 76892359, W: -7899990\n"
     ]
    },
    {
     "name": "stderr",
     "output_type": "stream",
     "text": [
      " 66%|██████▌   | 33047/50000 [02:09<01:25, 198.81it/s]"
     ]
    },
    {
     "name": "stdout",
     "output_type": "stream",
     "text": [
      "Replacing // Gen 33019 // Type: nt, C: 103870, S+: -1291, L: 10815594, M: 1341096, W: -12052821\n",
      "Replacing // Gen 33019 // Type: vi, C: 103870, S+: -1151, L: 10978607, M: 1196394, W: -12071132\n",
      "Replacing // Gen 33019 // Type: vi, C: 103870, S+: -1151, L: 10978607, M: 1196394, W: -12071132\n",
      "Replacing // Gen 33019 // Type: vi, C: 103870, S+: -1151, L: 10978607, M: 1196394, W: -12071132\n",
      "Replacing // Gen 33019 // Type: vi, C: 103870, S+: -1151, L: 10978607, M: 1196394, W: -12071132\n",
      "Replacing // Gen 33039 // Type: nt, C: 117560, S+: -1281, L: 20661974, M: 1506810, W: -22051223\n",
      "Replacing // Gen 33039 // Type: nt, C: 117560, S+: -2262, L: 67229767, M: 2659505, W: -69771712\n",
      "Replacing // Gen 33039 // Type: vi, C: 117560, S+: -2028, L: 67883011, M: 2384974, W: -70150425\n",
      "Replacing // Gen 33039 // Type: nt, C: 117560, S+: -2379, L: 67170856, M: 2796837, W: -69850132\n",
      "Replacing // Gen 33053 // Type: nt, C: 1741884744, S+: -1913907, L: 0, M: 2406910588, W: -665025844\n",
      "Replacing // Gen 33057 // Type: vi, C: 1748134639, S+: -2542514, L: 0, M: 1949956447, W: -201821808\n"
     ]
    },
    {
     "name": "stderr",
     "output_type": "stream",
     "text": [
      " 66%|██████▌   | 33087/50000 [02:09<01:25, 198.03it/s]"
     ]
    },
    {
     "name": "stdout",
     "output_type": "stream",
     "text": [
      "Replacing // Gen 33061 // Type: nt, C: 99889, S+: -2558, L: 52814677, M: 2555489, W: -55270278\n",
      "Replacing // Gen 33061 // Type: vi, C: 99889, S+: -3109, L: 51873368, M: 3106244, W: -54879724\n",
      "Replacing // Gen 33061 // Type: nt, C: 99889, S+: -5034, L: 16611084, M: 5028976, W: -21540172\n",
      "Replacing // Gen 33061 // Type: nt, C: 99889, S+: -2909, L: 52172008, M: 2906275, W: -54978395\n",
      "Replacing // Gen 33061 // Type: vi, C: 99889, S+: -1191, L: 9813345, M: 1190638, W: -10904095\n",
      "Replacing // Gen 33061 // Type: nt, C: 99889, S+: -1023, L: 17693471, M: 1022299, W: -18615882\n",
      "Replacing // Gen 33081 // Type: nt, C: 109578, S+: -2066, L: 24919461, M: 2264972, W: -27074855\n",
      "Replacing // Gen 33081 // Type: vi, C: 109578, S+: -2247, L: 24739627, M: 2462614, W: -27092663\n",
      "Replacing // Gen 33081 // Type: nt, C: 109578, S+: -1962, L: 25272080, M: 2150692, W: -27313194\n",
      "Replacing // Gen 33097 // Type: vi, C: 55895549, S+: -65644, L: 0, M: 61770621, W: -5875071\n"
     ]
    },
    {
     "name": "stderr",
     "output_type": "stream",
     "text": [
      " 66%|██████▋   | 33129/50000 [02:10<01:24, 199.57it/s]"
     ]
    },
    {
     "name": "stdout",
     "output_type": "stream",
     "text": [
      "Replacing // Gen 33107 // Type: nt, C: 36608714, S+: -41714, L: 0, M: 40226143, W: -3617428\n",
      "Replacing // Gen 33121 // Type: nt, C: 131777, S+: -6377, L: 160235842, M: 8403862, W: -168507927\n",
      "Replacing // Gen 33121 // Type: vi, C: 131777, S+: -688, L: 11847150, M: 907128, W: -12622501\n",
      "Replacing // Gen 33134 // Type: nt, C: 88474643, S+: -38191, L: 0, M: 94443321, W: -5968677\n",
      "Replacing // Gen 33137 // Type: vi, C: 41772402, S+: -42521, L: 0, M: 45261228, W: -3488826\n",
      "Replacing // Gen 33138 // Type: vi, C: 1061293156, S+: -2606699, L: 0, M: 1381811514, W: -320518357\n",
      "Replacing // Gen 33138 // Type: vi, C: 134656063, S+: -330736, L: 0, M: 175323187, W: -40667124\n",
      "Replacing // Gen 33147 // Type: nt, C: 120486562, S+: -125654, L: 0, M: 138052437, W: -17565874\n"
     ]
    },
    {
     "name": "stderr",
     "output_type": "stream",
     "text": [
      " 66%|██████▋   | 33192/50000 [02:10<01:23, 201.37it/s]"
     ]
    },
    {
     "name": "stdout",
     "output_type": "stream",
     "text": [
      "Replacing // Gen 33151 // Type: vi, C: 141555, S+: -471, L: 50304644, M: 668032, W: -50831121\n",
      "Replacing // Gen 33151 // Type: vi, C: 141555, S+: -457, L: 47160091, M: 647172, W: -47665708\n",
      "Replacing // Gen 33151 // Type: vi, C: 141555, S+: -2379, L: 252185297, M: 3368731, W: -255412474\n",
      "Replacing // Gen 33151 // Type: vi, C: 141555, S+: -471, L: 50304644, M: 668032, W: -50831121\n",
      "Replacing // Gen 33157 // Type: vi, C: 49269165, S+: -52036, L: 0, M: 52392396, W: -3123231\n",
      "Replacing // Gen 33183 // Type: vi, C: 124923, S+: -3096, L: 179239061, M: 3868033, W: -182982171\n",
      "Replacing // Gen 33183 // Type: vi, C: 124923, S+: -3101, L: 179740173, M: 3874624, W: -183489875\n",
      "Replacing // Gen 33183 // Type: vi, C: 124923, S+: -734, L: 22860026, M: 917452, W: -23652555\n",
      "Replacing // Gen 33183 // Type: nt, C: 124923, S+: -415136, L: 725086086, M: 518600734, W: -1243561898\n",
      "Replacing // Gen 33183 // Type: nt, C: 124923, S+: -1549, L: 30983483, M: 1936192, W: -32794753\n",
      "Replacing // Gen 33183 // Type: nt, C: 124923, S+: -2707, L: 133202495, M: 3382381, W: -136459954\n",
      "Replacing // Gen 33183 // Type: vi, C: 124923, S+: -3101, L: 179740173, M: 3874624, W: -183489875\n",
      "Replacing // Gen 33183 // Type: vi, C: 124923, S+: -1478, L: 85849654, M: 1846876, W: -87571607\n",
      "Replacing // Gen 33189 // Type: nt, C: 66728062, S+: -74611, L: 0, M: 77438862, W: -10710799\n",
      "Replacing // Gen 33189 // Type: vi, C: 76957501, S+: -86046, L: 0, M: 89307422, W: -12349920\n"
     ]
    },
    {
     "name": "stderr",
     "output_type": "stream",
     "text": [
      " 66%|██████▋   | 33234/50000 [02:10<01:23, 200.25it/s]"
     ]
    },
    {
     "name": "stdout",
     "output_type": "stream",
     "text": [
      "Replacing // Gen 33199 // Type: nt, C: 264876834, S+: -184577, L: 0, M: 332654755, W: -67777921\n",
      "Replacing // Gen 33199 // Type: nt, C: 107628144, S+: -75002, L: 0, M: 135173629, W: -27545485\n",
      "Replacing // Gen 33205 // Type: nt, C: 2663191157, S+: -4388737, L: 0, M: 2996366729, W: -333175571\n",
      "Replacing // Gen 33220 // Type: vi, C: 1684275260, S+: -2130151, L: 0, M: 1875683722, W: -191408461\n",
      "Replacing // Gen 33224 // Type: vi, C: 107117, S+: -113170, L: 3586026136, M: 121225215, W: -3707144234\n",
      "Replacing // Gen 33224 // Type: nt, C: 107117, S+: -7090, L: 217991604, M: 7595514, W: -225480001\n",
      "Replacing // Gen 33224 // Type: nt, C: 107117, S+: -2084, L: 74000755, M: 2232896, W: -76126535\n",
      "Replacing // Gen 33224 // Type: nt, C: 107117, S+: -16637, L: 379427650, M: 17821543, W: -397142076\n",
      "Replacing // Gen 33224 // Type: vi, C: 107117, S+: -2592, L: 41100359, M: 2777142, W: -43770384\n",
      "Replacing // Gen 33224 // Type: nt, C: 107117, S+: -3548, L: 134538090, M: 3800916, W: -138231889\n",
      "Replacing // Gen 33224 // Type: vi, C: 107117, S+: -2636, L: 92073146, M: 2823872, W: -94789902\n",
      "Replacing // Gen 33224 // Type: vi, C: 107117, S+: -6402, L: 222068044, M: 6858269, W: -228819197\n",
      "Replacing // Gen 33224 // Type: vi, C: 107117, S+: -131429, L: 2917187227, M: 140783416, W: -3057863526\n",
      "Replacing // Gen 33224 // Type: vi, C: 107117, S+: -6402, L: 222068044, M: 6858269, W: -228819197\n",
      "Replacing // Gen 33224 // Type: vi, C: 107117, S+: -6402, L: 222068044, M: 6858269, W: -228819197\n",
      "Replacing // Gen 33224 // Type: vi, C: 107117, S+: -8203, L: 275694449, M: 8787400, W: -284374732\n",
      "Replacing // Gen 33224 // Type: nt, C: 107117, S+: -222, L: 5477451, M: 238544, W: -5608878\n",
      "Replacing // Gen 33231 // Type: nt, C: 27961886, S+: -84691, L: 0, M: 50524593, W: -22562707\n",
      "Replacing // Gen 33231 // Type: vi, C: 29185145, S+: -85476, L: 0, M: 50992541, W: -21807396\n",
      "Replacing // Gen 33231 // Type: nt, C: 29203136, S+: -85526, L: 0, M: 51022700, W: -21819564\n",
      "Replacing // Gen 33231 // Type: vi, C: 29185145, S+: -85476, L: 0, M: 50992541, W: -21807396\n",
      "Replacing // Gen 33231 // Type: vi, C: 29185145, S+: -85476, L: 0, M: 50992541, W: -21807396\n",
      "Replacing // Gen 33231 // Type: vi, C: 29185145, S+: -85476, L: 0, M: 50992541, W: -21807396\n",
      "Replacing // Gen 33231 // Type: vi, C: 29185145, S+: -85476, L: 0, M: 50992541, W: -21807396\n",
      "Replacing // Gen 33231 // Type: vi, C: 29185145, S+: -85476, L: 0, M: 50992541, W: -21807396\n",
      "Replacing // Gen 33231 // Type: nt, C: 28582693, S+: -85077, L: 0, M: 50754918, W: -22172225\n",
      "Replacing // Gen 33232 // Type: vi, C: 175601, S+: -346793, L: 1152626526, M: 608973496, W: -1761424422\n",
      "Replacing // Gen 33238 // Type: vi, C: 2985132168, S+: -2865195, L: 0, M: 3270620321, W: -285488153\n",
      "Replacing // Gen 33239 // Type: nt, C: 53755449, S+: -145183, L: 0, M: 73880934, W: -20125485\n"
     ]
    },
    {
     "name": "stderr",
     "output_type": "stream",
     "text": [
      " 67%|██████▋   | 33275/50000 [02:10<01:24, 197.49it/s]"
     ]
    },
    {
     "name": "stdout",
     "output_type": "stream",
     "text": [
      "Replacing // Gen 33249 // Type: vi, C: 78312694, S+: -209130, L: 0, M: 109032035, W: -30719340\n",
      "Replacing // Gen 33262 // Type: vi, C: 159086, S+: -784, L: 61619694, M: 1248009, W: -62708617\n",
      "Replacing // Gen 33262 // Type: nt, C: 159086, S+: -353, L: 28498953, M: 563002, W: -28902869\n",
      "Replacing // Gen 33262 // Type: nt, C: 159086, S+: -1570, L: 107858292, M: 2498207, W: -110197414\n",
      "Replacing // Gen 33262 // Type: nt, C: 159086, S+: -1349, L: 108903332, M: 2146115, W: -110890361\n",
      "Replacing // Gen 33262 // Type: nt, C: 159086, S+: -1323, L: 109126165, M: 2105973, W: -111073053\n",
      "Replacing // Gen 33262 // Type: nt, C: 159086, S+: -1638, L: 107626677, M: 2607142, W: -110074733\n",
      "Replacing // Gen 33262 // Type: nt, C: 159086, S+: -1416, L: 108490455, M: 2253316, W: -110584686\n",
      "Replacing // Gen 33262 // Type: vi, C: 159086, S+: -1374, L: 108825167, M: 2186223, W: -110852305\n",
      "Replacing // Gen 33272 // Type: nt, C: 184651, S+: -216, L: 26690522, M: 400584, W: -26906455\n",
      "Replacing // Gen 33272 // Type: vi, C: 184651, S+: -201, L: 26726996, M: 371943, W: -26914288\n",
      "Replacing // Gen 33272 // Type: vi, C: 184651, S+: -201, L: 26726996, M: 371943, W: -26914288\n",
      "Replacing // Gen 33272 // Type: vi, C: 184651, S+: -201, L: 26726996, M: 371943, W: -26914288\n",
      "Replacing // Gen 33272 // Type: vi, C: 184651, S+: -201, L: 26726996, M: 371943, W: -26914288\n"
     ]
    },
    {
     "name": "stderr",
     "output_type": "stream",
     "text": [
      " 67%|██████▋   | 33316/50000 [02:11<01:24, 197.18it/s]"
     ]
    },
    {
     "name": "stdout",
     "output_type": "stream",
     "text": [
      "Replacing // Gen 33295 // Type: nt, C: 3876818941, S+: -2075654, L: 0, M: 5101169019, W: -1224350078\n",
      "Replacing // Gen 33303 // Type: nt, C: 143980, S+: -1480, L: 155171430, M: 2132276, W: -157159727\n",
      "Replacing // Gen 33303 // Type: vi, C: 143980, S+: -528, L: 67650216, M: 761203, W: -68267440\n",
      "Replacing // Gen 33303 // Type: vi, C: 143980, S+: -1491, L: 150353795, M: 2146889, W: -152356704\n",
      "Replacing // Gen 33303 // Type: nt, C: 143980, S+: -1489, L: 150593532, M: 2144557, W: -152594110\n",
      "Replacing // Gen 33303 // Type: nt, C: 143980, S+: -33822, L: 2135417865, M: 48697335, W: -2183971220\n",
      "Replacing // Gen 33303 // Type: vi, C: 143980, S+: -1491, L: 150353795, M: 2146889, W: -152356704\n",
      "Replacing // Gen 33303 // Type: vi, C: 143980, S+: -95541, L: 6430061570, M: 137561129, W: -6567478719\n",
      "Replacing // Gen 33304 // Type: vi, C: 1149040543, S+: -412539, L: 0, M: 1209956906, W: -60916363\n",
      "Replacing // Gen 33315 // Type: nt, C: 235328, S+: -42, L: 15329284, M: 100875, W: -15194831\n",
      "Replacing // Gen 33315 // Type: nt, C: 235328, S+: -86, L: 19243595, M: 203282, W: -19211549\n",
      "Replacing // Gen 33315 // Type: vi, C: 235328, S+: -88, L: 19238489, M: 207690, W: -19210851\n",
      "Replacing // Gen 33315 // Type: nt, C: 235328, S+: -81, L: 19257874, M: 191667, W: -19214213\n",
      "Replacing // Gen 33315 // Type: vi, C: 235328, S+: -88, L: 19238489, M: 207690, W: -19210851\n",
      "Replacing // Gen 33315 // Type: vi, C: 235328, S+: -88, L: 19238489, M: 207690, W: -19210851\n",
      "Replacing // Gen 33318 // Type: vi, C: 232420592, S+: -82134, L: 0, M: 276475390, W: -44054798\n",
      "Replacing // Gen 33322 // Type: vi, C: 155215, S+: -3063, L: 6957143, M: 4754434, W: -11556362\n",
      "Replacing // Gen 33322 // Type: nt, C: 155215, S+: -5116, L: 3410701, M: 7941989, W: -11197476\n",
      "Replacing // Gen 33322 // Type: vi, C: 155215, S+: -3063, L: 6957143, M: 4754434, W: -11556362\n",
      "Replacing // Gen 33322 // Type: vi, C: 155215, S+: -3063, L: 6957143, M: 4754434, W: -11556362\n",
      "Replacing // Gen 33322 // Type: vi, C: 155215, S+: -730868, L: 456943975, M: 1134417171, W: -1591205932\n",
      "Replacing // Gen 33328 // Type: nt, C: 74572605, S+: -38072, L: 0, M: 93045775, W: -18473169\n",
      "Replacing // Gen 33334 // Type: nt, C: 253296, S+: -80, L: 18317178, M: 203029, W: -18266912\n",
      "Replacing // Gen 33334 // Type: nt, C: 253296, S+: -81, L: 18312989, M: 206601, W: -18266294\n"
     ]
    },
    {
     "name": "stderr",
     "output_type": "stream",
     "text": [
      " 67%|██████▋   | 33377/50000 [02:11<01:23, 199.85it/s]"
     ]
    },
    {
     "name": "stdout",
     "output_type": "stream",
     "text": [
      "Replacing // Gen 33354 // Type: nt, C: 242382, S+: -318, L: 168190404, M: 772658, W: -168720681\n",
      "Replacing // Gen 33354 // Type: vi, C: 242382, S+: -5345, L: 36511331, M: 12955885, W: -49224835\n",
      "Replacing // Gen 33354 // Type: vi, C: 242382, S+: -52885, L: 5998656180, M: 128184343, W: -6126598141\n",
      "Replacing // Gen 33358 // Type: nt, C: 840182311, S+: -368494, L: 0, M: 1196950672, W: -356768360\n",
      "Replacing // Gen 33374 // Type: nt, C: 6124640119, S+: -4089799, L: 0, M: 7209785112, W: -1085144993\n",
      "Replacing // Gen 33376 // Type: nt, C: 50676529, S+: -37142, L: 0, M: 55132448, W: -4455918\n",
      "Replacing // Gen 33388 // Type: vi, C: 6147200255, S+: -5074918, L: 0, M: 7393243073, W: -1246042817\n",
      "Replacing // Gen 33390 // Type: vi, C: 164078977, S+: -150441, L: 0, M: 177627468, W: -13548490\n",
      "Replacing // Gen 33394 // Type: nt, C: 4396311, S+: -3955, L: 0, M: 4917992, W: -521680\n",
      "Replacing // Gen 33394 // Type: nt, C: 124318, S+: -10504, L: 39887224, M: 13058376, W: -52821282\n",
      "Replacing // Gen 33394 // Type: nt, C: 124318, S+: -130185, L: 726905259, M: 161844570, W: -888625511\n",
      "Replacing // Gen 33394 // Type: vi, C: 124318, S+: -765, L: 5202426, M: 951444, W: -6029552\n",
      "Replacing // Gen 33394 // Type: nt, C: 124318, S+: -2129, L: 5051790, M: 2647222, W: -7574694\n",
      "Replacing // Gen 33394 // Type: vi, C: 124318, S+: -463, L: 2648459, M: 576364, W: -3100505\n",
      "Replacing // Gen 33394 // Type: vi, C: 124318, S+: -1332, L: 4746296, M: 1656589, W: -6278567\n",
      "Replacing // Gen 33394 // Type: vi, C: 124318, S+: -3241, L: 3629881, M: 4029444, W: -7535008\n",
      "Replacing // Gen 33394 // Type: vi, C: 124318, S+: -2750, L: 699127, M: 3419084, W: -3993894\n",
      "Replacing // Gen 33394 // Type: vi, C: 4396628, S+: -3956, L: 0, M: 4918064, W: -521436\n",
      "Replacing // Gen 33395 // Type: vi, C: 7631629, S+: -3081, L: 0, M: 8191754, W: -560124\n",
      "Replacing // Gen 33395 // Type: nt, C: 59482362, S+: -22639, L: 0, M: 60178300, W: -695938\n"
     ]
    },
    {
     "name": "stderr",
     "output_type": "stream",
     "text": [
      " 67%|██████▋   | 33440/50000 [02:11<01:21, 202.13it/s]"
     ]
    },
    {
     "name": "stdout",
     "output_type": "stream",
     "text": [
      "Replacing // Gen 33408 // Type: vi, C: 39638018, S+: -22442, L: 0, M: 46188908, W: -6550889\n",
      "Replacing // Gen 33417 // Type: nt, C: 152971251, S+: -37172, L: 0, M: 155618642, W: -2647391\n",
      "Replacing // Gen 33424 // Type: nt, C: 263028, S+: -154, L: 112522092, M: 407274, W: -112666339\n",
      "Replacing // Gen 33424 // Type: vi, C: 263028, S+: -36, L: 38244620, M: 96040, W: -38077632\n",
      "Replacing // Gen 33424 // Type: vi, C: 263028, S+: -129, L: 112810233, M: 341831, W: -112889037\n",
      "Replacing // Gen 33424 // Type: vi, C: 263028, S+: -129, L: 112810233, M: 341831, W: -112889037\n",
      "Replacing // Gen 33424 // Type: nt, C: 263028, S+: -132, L: 112802547, M: 347861, W: -112887380\n",
      "Replacing // Gen 33424 // Type: vi, C: 263028, S+: -186, L: 160281133, M: 491488, W: -160509593\n",
      "Replacing // Gen 33424 // Type: nt, C: 263028, S+: -120, L: 112939568, M: 318250, W: -112994791\n",
      "Replacing // Gen 33424 // Type: vi, C: 263028, S+: -166, L: 99038933, M: 437238, W: -99213143\n",
      "Replacing // Gen 33424 // Type: nt, C: 263028, S+: -89, L: 73075762, M: 236484, W: -73049219\n",
      "Replacing // Gen 33424 // Type: vi, C: 263028, S+: -129, L: 112810233, M: 341831, W: -112889037\n",
      "Replacing // Gen 33424 // Type: nt, C: 263028, S+: -182, L: 112427017, M: 480348, W: -112644337\n",
      "Replacing // Gen 33435 // Type: nt, C: 43545099, S+: -27174, L: 0, M: 45756098, W: -2210999\n",
      "Replacing // Gen 33447 // Type: vi, C: 66555171, S+: -44061, L: 0, M: 77487147, W: -10931976\n"
     ]
    },
    {
     "name": "stderr",
     "output_type": "stream",
     "text": [
      " 67%|██████▋   | 33503/50000 [02:12<01:21, 201.96it/s]"
     ]
    },
    {
     "name": "stdout",
     "output_type": "stream",
     "text": [
      "Replacing // Gen 33462 // Type: vi, C: 47484390, S+: -28695, L: 0, M: 51063299, W: -3578909\n",
      "Replacing // Gen 33478 // Type: nt, C: 3674277334, S+: -3895437, L: 0, M: 3769964989, W: -95687655\n",
      "Replacing // Gen 33484 // Type: nt, C: 580611073, S+: -86254, L: 0, M: 596367305, W: -15756232\n",
      "Replacing // Gen 33491 // Type: nt, C: 241078405, S+: -161689, L: 0, M: 242905412, W: -1827007\n",
      "Replacing // Gen 33501 // Type: vi, C: 226801, S+: -11008, L: 1712480922, M: 24967922, W: -1737222044\n",
      "Replacing // Gen 33501 // Type: nt, C: 226801, S+: -3635748, L: 162327402767, M: 8245913486, W: -170573089453\n",
      "Replacing // Gen 33501 // Type: vi, C: 226801, S+: -4324, L: 652938372, M: 9807735, W: -662519306\n",
      "Replacing // Gen 33501 // Type: vi, C: 226801, S+: -332719, L: 49148266179, M: 754610451, W: -49902649829\n",
      "Replacing // Gen 33501 // Type: nt, C: 226801, S+: -12683, L: 1685722464, M: 28766316, W: -1714261979\n",
      "Replacing // Gen 33501 // Type: nt, C: 226801, S+: -1606, L: 266827766, M: 3642805, W: -270243770\n",
      "Replacing // Gen 33501 // Type: vi, C: 226801, S+: -1641, L: 277337211, M: 3723031, W: -280833441\n",
      "Replacing // Gen 33501 // Type: vi, C: 226801, S+: -15143, L: 2366184193, M: 34346401, W: -2400303794\n",
      "Replacing // Gen 33501 // Type: nt, C: 226801, S+: -15599, L: 1655580048, M: 35379755, W: -1690733002\n"
     ]
    },
    {
     "name": "stderr",
     "output_type": "stream",
     "text": [
      " 67%|██████▋   | 33544/50000 [02:12<01:23, 197.77it/s]"
     ]
    },
    {
     "name": "stdout",
     "output_type": "stream",
     "text": [
      "Replacing // Gen 33512 // Type: nt, C: 1088210, S+: -5, L: 4462913, M: 59433, W: -3434137\n",
      "Replacing // Gen 33512 // Type: vi, C: 1088210, S+: -5, L: 4462775, M: 59565, W: -3434130\n",
      "Replacing // Gen 33512 // Type: vi, C: 1088210, S+: -5, L: 4462775, M: 59565, W: -3434130\n",
      "Replacing // Gen 33512 // Type: nt, C: 1088210, S+: -5, L: 4462999, M: 59352, W: -3434142\n",
      "Replacing // Gen 33512 // Type: vi, C: 1088210, S+: -5, L: 4462775, M: 59565, W: -3434130\n",
      "Replacing // Gen 33512 // Type: nt, C: 1088210, S+: -5, L: 4462714, M: 59622, W: -3434127\n",
      "Replacing // Gen 33512 // Type: nt, C: 1088210, S+: -5, L: 4462802, M: 59540, W: -3434132\n",
      "Replacing // Gen 33512 // Type: nt, C: 1088210, S+: -5, L: 4462609, M: 59724, W: -3434123\n",
      "Replacing // Gen 33512 // Type: nt, C: 1088210, S+: -5, L: 4462907, M: 59438, W: -3434136\n",
      "Replacing // Gen 33515 // Type: nt, C: 875190853, S+: -48471, L: 0, M: 934617112, W: -59426258\n",
      "Replacing // Gen 33518 // Type: nt, C: 33314891396, S+: -5270306, L: 0, M: 38402985167, W: -5088093771\n",
      "Replacing // Gen 33534 // Type: nt, C: 760358, S+: -196, L: 168915606, M: 1490494, W: -169645743\n",
      "Replacing // Gen 33534 // Type: vi, C: 760358, S+: -129, L: 113473847, M: 987194, W: -113700684\n",
      "Replacing // Gen 33534 // Type: nt, C: 760358, S+: -196, L: 168912835, M: 1490841, W: -169643319\n",
      "Replacing // Gen 33534 // Type: vi, C: 760358, S+: -2354, L: 437901777, M: 17903836, W: -455045256\n",
      "Replacing // Gen 33534 // Type: vi, C: 760358, S+: -195, L: 168914931, M: 1490098, W: -169644671\n",
      "Replacing // Gen 33534 // Type: vi, C: 760358, S+: -195, L: 168914931, M: 1490098, W: -169644671\n",
      "Replacing // Gen 33534 // Type: vi, C: 760358, S+: -195, L: 168914931, M: 1490098, W: -169644671\n",
      "Replacing // Gen 33534 // Type: vi, C: 760358, S+: -773, L: 459112183, M: 5884453, W: -464236278\n",
      "Replacing // Gen 33534 // Type: vi, C: 760358, S+: -271561, L: 26102435159, M: 2064843018, W: -28166517819\n",
      "Replacing // Gen 33549 // Type: nt, C: 1865378851, S+: -110212, L: 0, M: 1962128419, W: -96749568\n"
     ]
    },
    {
     "name": "stderr",
     "output_type": "stream",
     "text": [
      " 67%|██████▋   | 33584/50000 [02:12<01:22, 197.92it/s]"
     ]
    },
    {
     "name": "stdout",
     "output_type": "stream",
     "text": [
      "Replacing // Gen 33553 // Type: vi, C: 1460027286, S+: -546027, L: 0, M: 2013880090, W: -553852803\n",
      "Replacing // Gen 33559 // Type: vi, C: 481874227, S+: -27966, L: 0, M: 506040258, W: -24166030\n",
      "Replacing // Gen 33573 // Type: vi, C: 505713097, S+: -187515, L: 0, M: 707551601, W: -201838503\n",
      "Replacing // Gen 33582 // Type: nt, C: 456216207, S+: -57252, L: 0, M: 508510131, W: -52293923\n",
      "Replacing // Gen 33586 // Type: vi, C: 1124552, S+: 0, L: 5432810, M: 7409, W: -4315667\n",
      "Replacing // Gen 33586 // Type: nt, C: 1124552, S+: -360, L: 130384418, M: 4048718, W: -133308585\n",
      "Replacing // Gen 33586 // Type: nt, C: 1124552, S+: -9, L: 10999567, M: 107789, W: -9982805\n",
      "Replacing // Gen 33586 // Type: vi, C: 1124552, S+: -35, L: 35556841, M: 403968, W: -34836258\n",
      "Replacing // Gen 33586 // Type: vi, C: 1124552, S+: -240, L: 228787223, M: 2698925, W: -230361596\n",
      "Replacing // Gen 33586 // Type: vi, C: 1124552, S+: -240, L: 228787223, M: 2698925, W: -230361596\n",
      "Replacing // Gen 33586 // Type: nt, C: 1124552, S+: -240, L: 228785790, M: 2701087, W: -230362326\n",
      "Replacing // Gen 33586 // Type: nt, C: 1124552, S+: -240, L: 228778611, M: 2703388, W: -230357447\n"
     ]
    },
    {
     "name": "stderr",
     "output_type": "stream",
     "text": [
      " 67%|██████▋   | 33625/50000 [02:12<01:23, 196.64it/s]"
     ]
    },
    {
     "name": "stdout",
     "output_type": "stream",
     "text": [
      "Replacing // Gen 33596 // Type: nt, C: 1256975, S+: -9, L: 10449073, M: 116476, W: -9308575\n",
      "Replacing // Gen 33596 // Type: vi, C: 1256975, S+: -9, L: 10449044, M: 116503, W: -9308573\n",
      "Replacing // Gen 33596 // Type: nt, C: 1256975, S+: -9, L: 10449046, M: 116501, W: -9308573\n",
      "Replacing // Gen 33596 // Type: vi, C: 1256975, S+: -9, L: 10449044, M: 116503, W: -9308573\n",
      "Replacing // Gen 33596 // Type: nt, C: 1256975, S+: -9, L: 10448929, M: 116609, W: -9308563\n",
      "Replacing // Gen 33596 // Type: vi, C: 1256975, S+: -9, L: 10449044, M: 116503, W: -9308573\n",
      "Replacing // Gen 33596 // Type: vi, C: 1256975, S+: -9, L: 10449044, M: 116503, W: -9308573\n",
      "Replacing // Gen 33596 // Type: nt, C: 1256975, S+: -9, L: 10448992, M: 116551, W: -9308569\n",
      "Replacing // Gen 33616 // Type: nt, C: 1442465, S+: -8, L: 76512629, M: 121612, W: -75191776\n",
      "Replacing // Gen 33616 // Type: vi, C: 1442465, S+: -8, L: 76512314, M: 121811, W: -75191661\n",
      "Replacing // Gen 33616 // Type: nt, C: 1442465, S+: -8, L: 76512214, M: 121888, W: -75191637\n",
      "Replacing // Gen 33616 // Type: vi, C: 1442465, S+: -114, L: 77082364, M: 1651767, W: -77291667\n",
      "Replacing // Gen 33616 // Type: vi, C: 1442465, S+: -8, L: 76512314, M: 121811, W: -75191661\n",
      "Replacing // Gen 33616 // Type: vi, C: 1442465, S+: -8, L: 76512314, M: 121811, W: -75191661\n",
      "Replacing // Gen 33626 // Type: vi, C: 90070633, S+: -19445, L: 0, M: 98687191, W: -8616557\n",
      "Replacing // Gen 33626 // Type: nt, C: 89197641, S+: -19428, L: 0, M: 98601768, W: -9404127\n",
      "Replacing // Gen 33626 // Type: nt, C: 507518, S+: -20635, L: 209083548, M: 104728323, W: -313304352\n",
      "Replacing // Gen 33626 // Type: nt, C: 89787138, S+: -19439, L: 0, M: 98659438, W: -8872299\n",
      "Replacing // Gen 33626 // Type: nt, C: 90164247, S+: -19446, L: 0, M: 98696349, W: -8532101\n",
      "Replacing // Gen 33626 // Type: vi, C: 90070633, S+: -19445, L: 0, M: 98687191, W: -8616557\n",
      "Replacing // Gen 33626 // Type: nt, C: 507518, S+: -129694, L: 2548834057, M: 658226745, W: -3206553284\n",
      "Replacing // Gen 33627 // Type: nt, C: 1570608, S+: -4078, L: 102848141, M: 64060440, W: -165337974\n",
      "Replacing // Gen 33627 // Type: nt, C: 1570608, S+: -19373, L: 482778438, M: 304286659, W: -785494489\n"
     ]
    },
    {
     "name": "stderr",
     "output_type": "stream",
     "text": [
      " 67%|██████▋   | 33665/50000 [02:12<01:22, 197.10it/s]"
     ]
    },
    {
     "name": "stdout",
     "output_type": "stream",
     "text": [
      "Replacing // Gen 33641 // Type: nt, C: 40792671916, S+: -1784873, L: 0, M: 41455276360, W: -662604444\n",
      "Replacing // Gen 33641 // Type: vi, C: 1595886195, S+: -69827, L: 0, M: 1621808437, W: -25922241\n",
      "Replacing // Gen 33650 // Type: vi, C: 843917, S+: -961, L: 2425507, M: 8116234, W: -9697825\n",
      "Replacing // Gen 33650 // Type: nt, C: 843917, S+: -961, L: 2425490, M: 8116243, W: -9697816\n",
      "Replacing // Gen 33650 // Type: nt, C: 843917, S+: -4, L: 43002108, M: 39410, W: -42197602\n",
      "Replacing // Gen 33650 // Type: vi, C: 843917, S+: -961, L: 2425507, M: 8116234, W: -9697825\n",
      "Replacing // Gen 33650 // Type: vi, C: 843917, S+: -146033, L: 39189837779, M: 1232399341, W: -40421393203\n",
      "Replacing // Gen 33650 // Type: nt, C: 843917, S+: -4, L: 43001876, M: 39562, W: -42197522\n",
      "Replacing // Gen 33650 // Type: vi, C: 843917, S+: -40, L: 109614593, M: 337899, W: -109108575\n",
      "Replacing // Gen 33662 // Type: nt, C: 1570424, S+: -5, L: 32878091, M: 82010, W: -31389677\n",
      "Replacing // Gen 33662 // Type: vi, C: 1570424, S+: -5, L: 32878091, M: 82010, W: -31389678\n",
      "Replacing // Gen 33662 // Type: vi, C: 1570424, S+: -5, L: 32878091, M: 82010, W: -31389678\n",
      "Replacing // Gen 33662 // Type: nt, C: 1570424, S+: -5, L: 32878199, M: 81930, W: -31389706\n",
      "Replacing // Gen 33662 // Type: vi, C: 1570424, S+: -5, L: 32878091, M: 82010, W: -31389678\n",
      "Replacing // Gen 33662 // Type: vi, C: 1570424, S+: -5347, L: 122173994, M: 83981652, W: -204585223\n",
      "Replacing // Gen 33662 // Type: vi, C: 1570424, S+: -5, L: 32878091, M: 82010, W: -31389678\n",
      "Replacing // Gen 33662 // Type: vi, C: 1570424, S+: -14525, L: 109475319, M: 228111445, W: -336016340\n",
      "Replacing // Gen 33668 // Type: nt, C: 59294799115, S+: -8124851, L: 0, M: 68073415896, W: -8778616780\n",
      "Replacing // Gen 33678 // Type: vi, C: 61787673740, S+: -10614837, L: 0, M: 92863158688, W: -31075484948\n"
     ]
    },
    {
     "name": "stderr",
     "output_type": "stream",
     "text": [
      " 67%|██████▋   | 33728/50000 [02:13<01:20, 202.73it/s]"
     ]
    },
    {
     "name": "stdout",
     "output_type": "stream",
     "text": [
      "Replacing // Gen 33686 // Type: nt, C: 613510, S+: -15, L: 53444003, M: 96972, W: -52927465\n",
      "Replacing // Gen 33686 // Type: nt, C: 613510, S+: -367, L: 12137192, M: 2256502, W: -13780184\n",
      "Replacing // Gen 33686 // Type: nt, C: 613510, S+: -367, L: 12137251, M: 2256460, W: -13780201\n",
      "Replacing // Gen 33686 // Type: vi, C: 613510, S+: -367, L: 12137512, M: 2256213, W: -13780215\n",
      "Replacing // Gen 33686 // Type: vi, C: 613510, S+: -367, L: 12137512, M: 2256213, W: -13780215\n",
      "Replacing // Gen 33686 // Type: vi, C: 613510, S+: -5, L: 26289931, M: 34519, W: -25710940\n",
      "Replacing // Gen 33693 // Type: vi, C: 797707099, S+: -299868, L: 0, M: 914047072, W: -116339972\n",
      "Replacing // Gen 33701 // Type: nt, C: 187325542, S+: -163059, L: 0, M: 335161229, W: -147835687\n",
      "Replacing // Gen 33722 // Type: vi, C: 494174, S+: -94, L: 60084670, M: 468538, W: -60059034\n",
      "Replacing // Gen 33722 // Type: vi, C: 494174, S+: -8425, L: 61539352, M: 41637972, W: -102683150\n",
      "Replacing // Gen 33722 // Type: nt, C: 494174, S+: -93, L: 60095475, M: 464515, W: -60065817\n",
      "Replacing // Gen 33722 // Type: nt, C: 494174, S+: -47, L: 30940111, M: 232591, W: -30678529\n",
      "Replacing // Gen 33722 // Type: nt, C: 494174, S+: -535238, L: 2297659854, M: 2645007242, W: -4942172923\n",
      "Replacing // Gen 33722 // Type: vi, C: 494174, S+: -143, L: 7072550, M: 708011, W: -7286388\n",
      "Replacing // Gen 33722 // Type: vi, C: 494174, S+: -94, L: 60084670, M: 468538, W: -60059034\n",
      "Replacing // Gen 33722 // Type: vi, C: 494174, S+: -1210, L: 305520701, M: 5979937, W: -311006465\n",
      "Replacing // Gen 33722 // Type: vi, C: 494174, S+: -94, L: 60084670, M: 468538, W: -60059034\n",
      "Replacing // Gen 33726 // Type: vi, C: 1122185601, S+: -163091, L: 0, M: 1443756149, W: -321570548\n"
     ]
    },
    {
     "name": "stderr",
     "output_type": "stream",
     "text": [
      " 68%|██████▊   | 33770/50000 [02:13<01:21, 199.43it/s]"
     ]
    },
    {
     "name": "stdout",
     "output_type": "stream",
     "text": [
      "Replacing // Gen 33748 // Type: vi, C: 53427501, S+: -10476, L: 0, M: 74917614, W: -21490112\n",
      "Replacing // Gen 33754 // Type: nt, C: 739257, S+: -7370, L: 43416982, M: 54489298, W: -97167024\n",
      "Replacing // Gen 33754 // Type: nt, C: 739257, S+: -7, L: 2186428, M: 56777, W: -1503949\n",
      "Replacing // Gen 33754 // Type: nt, C: 739257, S+: -60, L: 79698554, M: 447142, W: -79406440\n",
      "Replacing // Gen 33754 // Type: vi, C: 739257, S+: -60, L: 79696294, M: 448283, W: -79405320\n",
      "Replacing // Gen 33754 // Type: nt, C: 739257, S+: -60, L: 79699438, M: 448068, W: -79408249\n",
      "Replacing // Gen 33754 // Type: nt, C: 739257, S+: -46, L: 61117409, M: 343238, W: -60721391\n",
      "Replacing // Gen 33754 // Type: vi, C: 739257, S+: -60, L: 79696294, M: 448283, W: -79405320\n",
      "Replacing // Gen 33754 // Type: vi, C: 739257, S+: -60, L: 79696294, M: 448283, W: -79405320\n",
      "Replacing // Gen 33754 // Type: vi, C: 739257, S+: -41, L: 10104900, M: 309794, W: -9675437\n",
      "Replacing // Gen 33758 // Type: nt, C: 1525848051, S+: -370795, L: 0, M: 2383882215, W: -858034164\n",
      "Replacing // Gen 33774 // Type: vi, C: 815286, S+: -2168, L: 581041049, M: 17677670, W: -597903434\n",
      "Replacing // Gen 33774 // Type: nt, C: 815286, S+: -10, L: 51196140, M: 88154, W: -50469009\n",
      "Replacing // Gen 33774 // Type: nt, C: 815286, S+: -16, L: 76985471, M: 134336, W: -76304521\n",
      "Replacing // Gen 33774 // Type: vi, C: 815286, S+: -16, L: 76985903, M: 133929, W: -76304546\n",
      "Replacing // Gen 33774 // Type: nt, C: 815286, S+: -16, L: 76986184, M: 133707, W: -76304605\n",
      "Replacing // Gen 33774 // Type: nt, C: 815286, S+: -51, L: 15621062, M: 419856, W: -15225633\n",
      "Replacing // Gen 33774 // Type: nt, C: 815286, S+: -163, L: 44572569, M: 1333264, W: -45090547\n",
      "Replacing // Gen 33774 // Type: nt, C: 815286, S+: -16, L: 76985674, M: 133995, W: -76304383\n",
      "Replacing // Gen 33774 // Type: nt, C: 815286, S+: -106, L: 29244531, M: 866045, W: -29295291\n",
      "Replacing // Gen 33774 // Type: vi, C: 815286, S+: -16, L: 76985903, M: 133929, W: -76304546\n"
     ]
    },
    {
     "name": "stderr",
     "output_type": "stream",
     "text": [
      " 68%|██████▊   | 33831/50000 [02:13<01:20, 200.66it/s]"
     ]
    },
    {
     "name": "stdout",
     "output_type": "stream",
     "text": [
      "Replacing // Gen 33793 // Type: nt, C: 238821107, S+: -64134, L: 0, M: 238867889, W: -46781\n",
      "Replacing // Gen 33793 // Type: nt, C: 238822837, S+: -64134, L: 0, M: 238870445, W: -47608\n",
      "Replacing // Gen 33793 // Type: nt, C: 238821840, S+: -64134, L: 0, M: 238868876, W: -47036\n",
      "Replacing // Gen 33793 // Type: vi, C: 238821415, S+: -64134, L: 0, M: 238868829, W: -47414\n",
      "Replacing // Gen 33793 // Type: vi, C: 238821415, S+: -64134, L: 0, M: 238868829, W: -47414\n",
      "Replacing // Gen 33793 // Type: nt, C: 238819945, S+: -64133, L: 0, M: 238867477, W: -47532\n",
      "Replacing // Gen 33793 // Type: nt, C: 238820208, S+: -64133, L: 0, M: 238866571, W: -46363\n",
      "Replacing // Gen 33821 // Type: nt, C: 2254820376, S+: -346834, L: 0, M: 2470258474, W: -215438098\n",
      "Replacing // Gen 33834 // Type: vi, C: 44397680260, S+: -23051457, L: 0, M: 48944006956, W: -4546326695\n",
      "Replacing // Gen 33834 // Type: vi, C: 43809546033, S+: -22747518, L: 0, M: 48298668524, W: -4489122490\n"
     ]
    },
    {
     "name": "stderr",
     "output_type": "stream",
     "text": [
      " 68%|██████▊   | 33873/50000 [02:13<01:21, 198.78it/s]"
     ]
    },
    {
     "name": "stdout",
     "output_type": "stream",
     "text": [
      "Replacing // Gen 33848 // Type: vi, C: 282232, S+: -876, L: 34557509, M: 2472568, W: -36747846\n",
      "Replacing // Gen 33848 // Type: vi, C: 282232, S+: -876, L: 34557380, M: 2472565, W: -36747714\n",
      "Replacing // Gen 33848 // Type: nt, C: 282232, S+: -170, L: 2174905, M: 482571, W: -2375245\n",
      "Replacing // Gen 33848 // Type: vi, C: 282232, S+: -876, L: 34557509, M: 2472568, W: -36747846\n",
      "Replacing // Gen 33848 // Type: vi, C: 282232, S+: -10179, L: 13805108, M: 28728395, W: -42251271\n",
      "Replacing // Gen 33848 // Type: nt, C: 282232, S+: -127, L: 5641474, M: 360296, W: -5719538\n",
      "Replacing // Gen 33848 // Type: nt, C: 282232, S+: -172, L: 2169709, M: 487409, W: -2374887\n",
      "Replacing // Gen 33848 // Type: nt, C: 282232, S+: -941, L: 34355464, M: 2657763, W: -36730995\n",
      "Replacing // Gen 33858 // Type: nt, C: 316092, S+: -42, L: 14551349, M: 133442, W: -14368700\n",
      "Replacing // Gen 33858 // Type: nt, C: 316092, S+: -42, L: 14550031, M: 134635, W: -14368575\n",
      "Replacing // Gen 33858 // Type: nt, C: 316092, S+: -41, L: 14555088, M: 130199, W: -14369196\n",
      "Replacing // Gen 33858 // Type: vi, C: 316092, S+: -42, L: 14551891, M: 133003, W: -14368802\n",
      "Replacing // Gen 33858 // Type: nt, C: 316092, S+: -42, L: 14551242, M: 133563, W: -14368713\n",
      "Replacing // Gen 33874 // Type: vi, C: 27764566, S+: -11654, L: 0, M: 31917989, W: -4153423\n",
      "Replacing // Gen 33878 // Type: nt, C: 351713, S+: -45, L: 102847771, M: 160138, W: -102656197\n",
      "Replacing // Gen 33878 // Type: vi, C: 351713, S+: -47, L: 102832506, M: 167424, W: -102648217\n",
      "Replacing // Gen 33878 // Type: vi, C: 351713, S+: -1444, L: 4656005, M: 5079769, W: -9384061\n",
      "Replacing // Gen 33878 // Type: vi, C: 351713, S+: -9, L: 21082751, M: 32396, W: -20763434\n",
      "Replacing // Gen 33878 // Type: nt, C: 351713, S+: -46, L: 102834144, M: 163964, W: -102646395\n",
      "Replacing // Gen 33889 // Type: vi, C: 357110, S+: -15, L: 30867235, M: 55937, W: -30566063\n",
      "Replacing // Gen 33889 // Type: nt, C: 357110, S+: -602, L: 16104398, M: 2152832, W: -17900121\n",
      "Replacing // Gen 33889 // Type: nt, C: 357110, S+: -15, L: 30872547, M: 53578, W: -30569015\n",
      "Replacing // Gen 33889 // Type: nt, C: 357110, S+: -14, L: 30872902, M: 53326, W: -30569119\n",
      "Replacing // Gen 33889 // Type: nt, C: 357110, S+: -2064, L: 4265740, M: 7371567, W: -11280198\n",
      "Replacing // Gen 33889 // Type: nt, C: 357110, S+: -16, L: 30863456, M: 58061, W: -30564408\n",
      "Replacing // Gen 33889 // Type: nt, C: 357110, S+: -1285, L: 2816627, M: 4592155, W: -7051673\n"
     ]
    },
    {
     "name": "stderr",
     "output_type": "stream",
     "text": [
      " 68%|██████▊   | 33933/50000 [02:14<01:21, 197.59it/s]"
     ]
    },
    {
     "name": "stdout",
     "output_type": "stream",
     "text": [
      "Replacing // Gen 33899 // Type: nt, C: 96301242, S+: -69610, L: 0, M: 96864056, W: -562814\n",
      "Replacing // Gen 33899 // Type: nt, C: 95925333, S+: -69476, L: 0, M: 96677332, W: -751998\n",
      "Replacing // Gen 33899 // Type: vi, C: 95994084, S+: -69500, L: 0, M: 96711080, W: -716996\n",
      "Replacing // Gen 33899 // Type: nt, C: 95914497, S+: -69472, L: 0, M: 96671771, W: -757274\n",
      "Replacing // Gen 33899 // Type: vi, C: 95994084, S+: -69500, L: 0, M: 96711080, W: -716996\n",
      "Replacing // Gen 33900 // Type: nt, C: 384453, S+: -11162, L: 62205283, M: 42915004, W: -104735834\n",
      "Replacing // Gen 33904 // Type: vi, C: 19980346916, S+: -23513300, L: 0, M: 40510830538, W: -20530483621\n",
      "Replacing // Gen 33916 // Type: nt, C: 30332695, S+: -19345, L: 0, M: 35099093, W: -4766397\n",
      "Replacing // Gen 33916 // Type: vi, C: 592359198, S+: -377790, L: 0, M: 685443595, W: -93084397\n",
      "Replacing // Gen 33919 // Type: vi, C: 49650131, S+: -53932, L: 0, M: 49663567, W: -13435\n",
      "Replacing // Gen 33920 // Type: nt, C: 232066, S+: -20, L: 94429988, M: 47929, W: -94245852\n",
      "Replacing // Gen 33920 // Type: nt, C: 232066, S+: -20, L: 82282599, M: 46422, W: -82096955\n",
      "Replacing // Gen 33920 // Type: nt, C: 232066, S+: -18, L: 94470018, M: 41966, W: -94279918\n",
      "Replacing // Gen 33920 // Type: nt, C: 232066, S+: -31, L: 141357766, M: 74016, W: -141199717\n",
      "Replacing // Gen 33920 // Type: vi, C: 232066, S+: -24, L: 94416748, M: 56849, W: -94241531\n",
      "Replacing // Gen 33920 // Type: vi, C: 232066, S+: -24, L: 94416748, M: 56849, W: -94241531\n",
      "Replacing // Gen 33928 // Type: nt, C: 21684806001, S+: -108414108, L: 0, M: 31788100715, W: -10103294714\n",
      "Replacing // Gen 33937 // Type: nt, C: 62505300, S+: -109109, L: 0, M: 68886315, W: -6381015\n"
     ]
    },
    {
     "name": "stderr",
     "output_type": "stream",
     "text": [
      " 68%|██████▊   | 33993/50000 [02:14<01:21, 196.33it/s]"
     ]
    },
    {
     "name": "stdout",
     "output_type": "stream",
     "text": [
      "Replacing // Gen 33961 // Type: nt, C: 81990, S+: -262, L: 2757499, M: 215466, W: -2890975\n",
      "Replacing // Gen 33961 // Type: vi, C: 81990, S+: -2817, L: 37908503, M: 2310107, W: -40136620\n",
      "Replacing // Gen 33961 // Type: vi, C: 81990, S+: -11107, L: 150960761, M: 9106772, W: -159985543\n",
      "Replacing // Gen 33961 // Type: nt, C: 81990, S+: -8546, L: 103426568, M: 7007313, W: -110351892\n",
      "Replacing // Gen 33961 // Type: vi, C: 81990, S+: -11107, L: 150960761, M: 9106772, W: -159985543\n",
      "Replacing // Gen 33961 // Type: nt, C: 81990, S+: -7661, L: 156252707, M: 6281688, W: -162452405\n",
      "Replacing // Gen 33961 // Type: nt, C: 81990, S+: -11401, L: 152686888, M: 9347702, W: -161952601\n",
      "Replacing // Gen 33967 // Type: vi, C: 23572746, S+: -38212, L: 0, M: 26198478, W: -2625732\n",
      "Replacing // Gen 33971 // Type: nt, C: 86708, S+: -1078, L: 2844581, M: 935535, W: -3693408\n",
      "Replacing // Gen 33971 // Type: nt, C: 86708, S+: -1107, L: 2818851, M: 960457, W: -3692600\n",
      "Replacing // Gen 33971 // Type: vi, C: 86708, S+: -1149, L: 2781228, M: 996576, W: -3691097\n",
      "Replacing // Gen 33971 // Type: vi, C: 86708, S+: -1057, L: 718942, M: 916645, W: -1548880\n",
      "Replacing // Gen 33971 // Type: vi, C: 86708, S+: -1149, L: 2781228, M: 996576, W: -3691097\n",
      "Replacing // Gen 33971 // Type: nt, C: 86708, S+: -1076, L: 2847048, M: 933030, W: -3693370\n",
      "Replacing // Gen 33971 // Type: nt, C: 86708, S+: -1174, L: 2759038, M: 1018254, W: -3690584\n",
      "Replacing // Gen 33976 // Type: nt, C: 27850376, S+: -36022, L: 0, M: 36516807, W: -8666431\n",
      "Replacing // Gen 33994 // Type: nt, C: 92643, S+: -594, L: 12694911, M: 550750, W: -13153019\n",
      "Replacing // Gen 33994 // Type: nt, C: 92643, S+: -1377, L: 29992473, M: 1276144, W: -31175975\n",
      "Replacing // Gen 33994 // Type: nt, C: 92643, S+: -1530, L: 29790306, M: 1417958, W: -31115621\n",
      "Replacing // Gen 33994 // Type: nt, C: 92643, S+: -1513, L: 29914397, M: 1402530, W: -31224285\n",
      "Replacing // Gen 33994 // Type: nt, C: 92643, S+: -1087, L: 30420172, M: 1007247, W: -31334776\n",
      "Replacing // Gen 33994 // Type: vi, C: 92643, S+: -1376, L: 30056231, M: 1275683, W: -31239271\n",
      "Replacing // Gen 33994 // Type: vi, C: 92643, S+: -1376, L: 30056231, M: 1275683, W: -31239271\n",
      "Replacing // Gen 34000 // Type: nt, C: 521549390, S+: -847445, L: 0, M: 554856528, W: -33307138\n"
     ]
    },
    {
     "name": "stderr",
     "output_type": "stream",
     "text": [
      " 68%|██████▊   | 34033/50000 [02:14<01:20, 197.28it/s]"
     ]
    },
    {
     "name": "stdout",
     "output_type": "stream",
     "text": [
      "Replacing // Gen 34010 // Type: vi, C: 33955866, S+: -50686, L: 0, M: 39099292, W: -5143425\n",
      "Replacing // Gen 34010 // Type: nt, C: 108699736, S+: -162254, L: 0, M: 125163109, W: -16463372\n",
      "Replacing // Gen 34014 // Type: nt, C: 97746, S+: -1528, L: 106351031, M: 1493596, W: -107746882\n",
      "Replacing // Gen 34014 // Type: vi, C: 97746, S+: -232, L: 21853248, M: 227695, W: -21983197\n",
      "Replacing // Gen 34014 // Type: vi, C: 97746, S+: -232, L: 21853248, M: 227695, W: -21983197\n",
      "Replacing // Gen 34014 // Type: vi, C: 97746, S+: -95109, L: 86883320, M: 92965951, W: -179751526\n",
      "Replacing // Gen 34014 // Type: nt, C: 97746, S+: -2042, L: 105073437, M: 1996800, W: -106972491\n",
      "Replacing // Gen 34014 // Type: vi, C: 97746, S+: -724, L: 49956694, M: 708248, W: -50567196\n",
      "Replacing // Gen 34014 // Type: nt, C: 97746, S+: -1386, L: 106763052, M: 1355072, W: -108020379\n",
      "Replacing // Gen 34014 // Type: vi, C: 97746, S+: -1549, L: 106322608, M: 1514669, W: -107739532\n",
      "Replacing // Gen 34017 // Type: vi, C: 35273073, S+: -23674, L: 0, M: 38867997, W: -3594923\n",
      "Replacing // Gen 34024 // Type: nt, C: 78761668, S+: -224280, L: 0, M: 85693232, W: -6931564\n",
      "Replacing // Gen 34024 // Type: nt, C: 78725098, S+: -224212, L: 0, M: 85667001, W: -6941902\n",
      "Replacing // Gen 34024 // Type: vi, C: 79155801, S+: -224846, L: 0, M: 85909305, W: -6753503\n",
      "Replacing // Gen 34024 // Type: nt, C: 76047842, S+: -219963, L: 0, M: 84043485, W: -7995642\n",
      "Replacing // Gen 34024 // Type: vi, C: 25371812, S+: -109798, L: 0, M: 41951902, W: -16580089\n",
      "Replacing // Gen 34024 // Type: nt, C: 73661001, S+: -482500, L: 0, M: 184353885, W: -110692884\n",
      "Replacing // Gen 34024 // Type: vi, C: 79155801, S+: -224846, L: 0, M: 85909305, W: -6753503\n",
      "Replacing // Gen 34024 // Type: nt, C: 80642818, S+: -227227, L: 0, M: 86819014, W: -6176196\n",
      "Replacing // Gen 34025 // Type: vi, C: 102453, S+: -4034, L: 5219163, M: 4133720, W: -9250431\n",
      "Replacing // Gen 34025 // Type: nt, C: 102453, S+: -4263, L: 5501192, M: 4367830, W: -9766569\n",
      "Replacing // Gen 34043 // Type: nt, C: 75503489, S+: -195178, L: 0, M: 77657758, W: -2154269\n",
      "Replacing // Gen 34043 // Type: nt, C: 75392460, S+: -194857, L: 0, M: 77529743, W: -2137283\n",
      "Replacing // Gen 34043 // Type: vi, C: 106748476, S+: -276115, L: 0, M: 109860799, W: -3112322\n",
      "Replacing // Gen 34043 // Type: vi, C: 74264714, S+: -192625, L: 0, M: 76641867, W: -2377153\n",
      "Replacing // Gen 34043 // Type: vi, C: 74264714, S+: -192625, L: 0, M: 76641867, W: -2377153\n",
      "Replacing // Gen 34043 // Type: vi, C: 74264714, S+: -192625, L: 0, M: 76641867, W: -2377153\n",
      "Replacing // Gen 34043 // Type: vi, C: 74264714, S+: -192625, L: 0, M: 76641867, W: -2377153\n",
      "Replacing // Gen 34043 // Type: vi, C: 106748476, S+: -276115, L: 0, M: 109860799, W: -3112322\n",
      "Replacing // Gen 34047 // Type: nt, C: 1963592494, S+: -1365222, L: 0, M: 2216985559, W: -253393065\n"
     ]
    },
    {
     "name": "stderr",
     "output_type": "stream",
     "text": [
      " 68%|██████▊   | 34097/50000 [02:15<01:18, 202.85it/s]"
     ]
    },
    {
     "name": "stdout",
     "output_type": "stream",
     "text": [
      "Replacing // Gen 34057 // Type: vi, C: 34143416, S+: -47619, L: 0, M: 34250322, W: -106905\n",
      "Replacing // Gen 34058 // Type: nt, C: 13864779, S+: -23785, L: 0, M: 14848464, W: -983685\n",
      "Replacing // Gen 34069 // Type: vi, C: 36233846, S+: -217725, L: 0, M: 54231110, W: -17997263\n",
      "Replacing // Gen 34072 // Type: nt, C: 95608, S+: -331, L: 6538603, M: 316654, W: -6759649\n",
      "Replacing // Gen 34072 // Type: vi, C: 95608, S+: -1343, L: 36715373, M: 1284632, W: -37904397\n",
      "Replacing // Gen 34072 // Type: nt, C: 95608, S+: -1329, L: 36618305, M: 1271289, W: -37793986\n",
      "Replacing // Gen 34072 // Type: nt, C: 95608, S+: -1248, L: 36771007, M: 1193470, W: -37868869\n",
      "Replacing // Gen 34072 // Type: vi, C: 95608, S+: -1340, L: 37007163, M: 1281672, W: -38193228\n",
      "Replacing // Gen 34072 // Type: nt, C: 95608, S+: -1137, L: 37027077, M: 1087715, W: -38019184\n",
      "Replacing // Gen 34079 // Type: nt, C: 15350826, S+: -40637, L: 0, M: 18183592, W: -2832765\n",
      "Replacing // Gen 34088 // Type: nt, C: 21478137, S+: -30512, L: 0, M: 24987711, W: -3509574\n",
      "Replacing // Gen 34090 // Type: nt, C: 27491190, S+: -42229, L: 0, M: 29704950, W: -2213759\n",
      "Replacing // Gen 34090 // Type: nt, C: 17247956, S+: -26480, L: 0, M: 18626851, W: -1378895\n"
     ]
    },
    {
     "name": "stderr",
     "output_type": "stream",
     "text": [
      " 68%|██████▊   | 34139/50000 [02:15<01:19, 200.41it/s]"
     ]
    },
    {
     "name": "stdout",
     "output_type": "stream",
     "text": [
      "Replacing // Gen 34104 // Type: vi, C: 99204, S+: -2753, L: 94626067, M: 2731908, W: -97258771\n",
      "Replacing // Gen 34104 // Type: nt, C: 99204, S+: -1107, L: 18361319, M: 1098329, W: -19360445\n",
      "Replacing // Gen 34104 // Type: vi, C: 99204, S+: -1354, L: 47164452, M: 1344181, W: -48409430\n",
      "Replacing // Gen 34104 // Type: vi, C: 99204, S+: -2753, L: 94626067, M: 2731908, W: -97258771\n",
      "Replacing // Gen 34104 // Type: nt, C: 99204, S+: -802, L: 25360511, M: 796441, W: -26057749\n",
      "Replacing // Gen 34104 // Type: vi, C: 99204, S+: -750, L: 25371368, M: 744975, W: -26017140\n",
      "Replacing // Gen 34123 // Type: nt, C: 38004315, S+: -91575, L: 0, M: 39105457, W: -1101142\n",
      "Replacing // Gen 34124 // Type: nt, C: 107629, S+: -1050, L: 118075616, M: 1130405, W: -119098392\n",
      "Replacing // Gen 34124 // Type: nt, C: 107629, S+: -965, L: 118019246, M: 1039359, W: -118950976\n",
      "Replacing // Gen 34124 // Type: nt, C: 107629, S+: -1040, L: 118020165, M: 1120299, W: -119032835\n",
      "Replacing // Gen 34124 // Type: vi, C: 107629, S+: -1031, L: 117923145, M: 1109986, W: -118925502\n"
     ]
    },
    {
     "name": "stderr",
     "output_type": "stream",
     "text": [
      " 68%|██████▊   | 34180/50000 [02:15<01:20, 197.16it/s]"
     ]
    },
    {
     "name": "stdout",
     "output_type": "stream",
     "text": [
      "Replacing // Gen 34147 // Type: nt, C: 46008004991, S+: -32920984, L: 0, M: 46955529854, W: -947524863\n",
      "Replacing // Gen 34147 // Type: vi, C: 51552507, S+: -36896, L: 0, M: 52626082, W: -1073574\n",
      "Replacing // Gen 34152 // Type: vi, C: 15708028, S+: -55005, L: 0, M: 18557663, W: -2849635\n",
      "Replacing // Gen 34155 // Type: nt, C: 5034587929, S+: -68109791, L: 0, M: 6586897911, W: -1552309982\n",
      "Replacing // Gen 34168 // Type: nt, C: 78590339, S+: -681984, L: 0, M: 178114012, W: -99523672\n",
      "Replacing // Gen 34168 // Type: vi, C: 55196869, S+: -475379, L: 0, M: 124154943, W: -68958074\n",
      "Replacing // Gen 34168 // Type: nt, C: 294033405, S+: -2108281, L: 0, M: 550619905, W: -256586499\n",
      "Replacing // Gen 34168 // Type: nt, C: 11351001, S+: -70136, L: 0, M: 18317450, W: -6966448\n",
      "Replacing // Gen 34168 // Type: vi, C: 21212451, S+: -182690, L: 0, M: 47713408, W: -26500956\n",
      "Replacing // Gen 34168 // Type: vi, C: 21212451, S+: -182690, L: 0, M: 47713408, W: -26500956\n",
      "Replacing // Gen 34168 // Type: vi, C: 21434098, S+: -184599, L: 0, M: 48211959, W: -26777861\n"
     ]
    },
    {
     "name": "stderr",
     "output_type": "stream",
     "text": [
      " 68%|██████▊   | 34222/50000 [02:15<01:18, 200.25it/s]"
     ]
    },
    {
     "name": "stdout",
     "output_type": "stream",
     "text": [
      "Replacing // Gen 34189 // Type: vi, C: 26037, S+: -44870, L: 122154, M: 11682837, W: -11778954\n",
      "Replacing // Gen 34189 // Type: vi, C: 26037, S+: -44870, L: 122154, M: 11682837, W: -11778954\n",
      "Replacing // Gen 34189 // Type: nt, C: 26037, S+: -330702, L: 16863233, M: 86105116, W: -102942312\n",
      "Replacing // Gen 34200 // Type: vi, C: 44933112, S+: -221380, L: 0, M: 60888434, W: -15955322\n",
      "Replacing // Gen 34200 // Type: nt, C: 127039566, S+: -604190, L: 0, M: 166176669, W: -39137103\n",
      "Replacing // Gen 34200 // Type: nt, C: 110124223, S+: -559345, L: 0, M: 153842444, W: -43718220\n",
      "Replacing // Gen 34200 // Type: nt, C: 19482549, S+: -100093, L: 0, M: 27529609, W: -8047060\n",
      "Replacing // Gen 34217 // Type: nt, C: 21056117, S+: -131960, L: 0, M: 33870289, W: -12814171\n",
      "Replacing // Gen 34220 // Type: vi, C: 54343215, S+: -134402, L: 0, M: 58885807, W: -4542592\n"
     ]
    },
    {
     "name": "stderr",
     "output_type": "stream",
     "text": [
      " 69%|██████▊   | 34286/50000 [02:15<01:17, 201.61it/s]"
     ]
    },
    {
     "name": "stdout",
     "output_type": "stream",
     "text": [
      "Replacing // Gen 34245 // Type: nt, C: 22705111, S+: -116963, L: 0, M: 24092041, W: -1386929\n",
      "Replacing // Gen 34249 // Type: nt, C: 16986637, S+: -72910, L: 0, M: 19146218, W: -2159580\n",
      "Replacing // Gen 34271 // Type: vi, C: 1353528, S+: -7401, L: 0, M: 1658056, W: -304528\n",
      "Replacing // Gen 34271 // Type: vi, C: 7073769, S+: -38679, L: 0, M: 8665286, W: -1591516\n",
      "Replacing // Gen 34271 // Type: nt, C: 3886686, S+: -18910, L: 0, M: 4236545, W: -349859\n",
      "Replacing // Gen 34271 // Type: nt, C: 6912862, S+: -33556, L: 0, M: 7517617, W: -604754\n",
      "Replacing // Gen 34271 // Type: nt, C: 2389578, S+: -15580, L: 0, M: 3490459, W: -1100881\n",
      "Replacing // Gen 34271 // Type: vi, C: 7124524, S+: -38956, L: 0, M: 8727460, W: -1602935\n",
      "Replacing // Gen 34271 // Type: nt, C: 2428636, S+: -19004, L: 0, M: 4257481, W: -1828845\n",
      "Replacing // Gen 34271 // Type: vi, C: 3575406564, S+: -19550202, L: 0, M: 4379831880, W: -804425316\n",
      "Replacing // Gen 34271 // Type: vi, C: 223225116, S+: -1220587, L: 0, M: 273448198, W: -50223081\n",
      "Replacing // Gen 34274 // Type: nt, C: 111644587, S+: -333166, L: 0, M: 121975553, W: -10330965\n",
      "Replacing // Gen 34282 // Type: nt, C: 38788699, S+: -209348, L: 0, M: 43778935, W: -4990236\n",
      "Replacing // Gen 34282 // Type: vi, C: 26846198, S+: -143142, L: 0, M: 29933993, W: -3087794\n",
      "Replacing // Gen 34282 // Type: vi, C: 40616933, S+: -216567, L: 0, M: 45288609, W: -4671676\n",
      "Replacing // Gen 34282 // Type: vi, C: 76084718, S+: -405680, L: 0, M: 84835826, W: -8751107\n",
      "Replacing // Gen 34282 // Type: vi, C: 40616933, S+: -216567, L: 0, M: 45288609, W: -4671676\n",
      "Replacing // Gen 34282 // Type: vi, C: 40616933, S+: -216567, L: 0, M: 45288609, W: -4671676\n",
      "Replacing // Gen 34282 // Type: nt, C: 51710528, S+: -274219, L: 0, M: 57344845, W: -5634317\n",
      "Replacing // Gen 34282 // Type: vi, C: 33392761, S+: -178048, L: 0, M: 37233528, W: -3840766\n",
      "Replacing // Gen 34282 // Type: vi, C: 40616933, S+: -216567, L: 0, M: 45288609, W: -4671676\n",
      "Replacing // Gen 34282 // Type: vi, C: 40616933, S+: -216567, L: 0, M: 45288609, W: -4671676\n"
     ]
    },
    {
     "name": "stderr",
     "output_type": "stream",
     "text": [
      "/Users/aymericvie/Documents/GitHub/evology/evology/code/balance_sheet.py:265: UserWarning: Negative price -22.27\n",
      "  warnings.warn('Negative price '+ str(price) )\n",
      "/Users/aymericvie/Documents/GitHub/evology/evology/code/balance_sheet.py:271: RuntimeWarning: invalid value encountered in log2\n",
      "  ind.tsv = np.log2(ind[0] * abs(ind.process)) - np.log2(price)\n",
      "/Users/aymericvie/Documents/GitHub/evology/evology/code/balance_sheet.py:269: RuntimeWarning: invalid value encountered in log2\n",
      "  ind.tsv = np.log2(ind[0]) - np.log2(price)\n",
      "/Users/aymericvie/Documents/GitHub/evology/evology/code/balance_sheet.py:66: RuntimeWarning: invalid value encountered in log2\n",
      "  tf_basic = np.log2(price_history[-1]) - np.log2(price_history[-2])\n",
      " 69%|██████▊   | 34327/50000 [02:16<01:21, 191.90it/s]"
     ]
    },
    {
     "name": "stdout",
     "output_type": "stream",
     "text": [
      "Replacing // Gen 34295 // Type: nt, C: -2227, S+: -1889069, L: 82324445, M: -42069575, W: -40257097\n",
      "Replacing // Gen 34295 // Type: nt, C: -2227, S+: -1986126, L: 77539620, M: -44231043, W: -33310804\n",
      "Replacing // Gen 34295 // Type: nt, C: -2227, S+: -165666, L: 6647437, M: -3689398, W: -2960266\n",
      "Replacing // Gen 34295 // Type: nt, C: -2227, S+: -2058619, L: 72267915, M: -45845458, W: -26424684\n",
      "Replacing // Gen 34295 // Type: vi, C: -2227, S+: -309510, L: 12079598, M: -6892799, W: -5189025\n",
      "Replacing // Gen 34295 // Type: vi, C: -2227, S+: -1986126, L: 77465452, M: -44231042, W: -33236637\n",
      "Replacing // Gen 34295 // Type: nt, C: -2227, S+: -233187403, L: 6989293015, M: -5193083476, W: -1796211765\n",
      "Replacing // Gen 34295 // Type: nt, C: -2227, S+: -1949035, L: 78349388, M: -43405009, W: -34946606\n"
     ]
    },
    {
     "name": "stderr",
     "output_type": "stream",
     "text": [
      "100%|██████████| 50000/50000 [03:41<00:00, 225.56it/s]\n"
     ]
    }
   ],
   "source": [
    "Combined = main(\"between\", time, PROBA_SELECTION, 100, 0, MUTATION_RATE, wealth_coordinates, False)\n",
    "Combined.to_csv(\"combined.csv\")"
   ]
  }
 ],
 "metadata": {
  "interpreter": {
   "hash": "aee8b7b246df8f9039afb4144a1f6fd8d2ca17a180786b69acc140d282b71a49"
  },
  "kernelspec": {
   "display_name": "Python 3.9.6 64-bit",
   "name": "python3"
  },
  "language_info": {
   "codemirror_mode": {
    "name": "ipython",
    "version": 3
   },
   "file_extension": ".py",
   "mimetype": "text/x-python",
   "name": "python",
   "nbconvert_exporter": "python",
   "pygments_lexer": "ipython3",
   "version": "3.9.6"
  },
  "orig_nbformat": 4
 },
 "nbformat": 4,
 "nbformat_minor": 2
}
