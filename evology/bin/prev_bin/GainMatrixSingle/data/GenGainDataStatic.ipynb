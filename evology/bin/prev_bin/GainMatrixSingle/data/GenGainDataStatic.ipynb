{
 "cells": [
  {
   "cell_type": "code",
   "execution_count": 11,
   "metadata": {},
   "outputs": [],
   "source": [
    "#!/usr/bin/env python3\n",
    "import sys\n",
    "sys.path.insert(0, '/Users/aymericvie/Documents/GitHub/evology/evology/code/')\n",
    "from main import *\n",
    "from parameters import *\n",
    "\n",
    "time = 50_000\n",
    "repetitions = 5\n",
    "agents = 3\n",
    "# wealth_coordinates = [1/3, 1/3, 1/3]\n",
    "# wealth_coordinates = [0.43, 0.34, 0.23]\n",
    "wealth_coordinates = [0.13, 0.8, 0.07]\n",
    "# wealth_coordinates = [0.50, 0.20, 0.30]\n",
    "N = 256\n",
    "# N = 128\n",
    "N = 24\n",
    "bump_size = 2 / N\n",
    "h = bump_size"
   ]
  },
  {
   "cell_type": "code",
   "execution_count": 12,
   "metadata": {},
   "outputs": [
    {
     "name": "stdout",
     "output_type": "stream",
     "text": [
      "[0.13, 0.8, 0.07]\n"
     ]
    },
    {
     "name": "stderr",
     "output_type": "stream",
     "text": [
      "100%|██████████| 50000/50000 [00:16<00:00, 3023.40it/s]\n",
      "100%|██████████| 50000/50000 [00:16<00:00, 3005.73it/s]\n",
      "100%|██████████| 50000/50000 [00:16<00:00, 3025.97it/s]\n",
      "100%|██████████| 50000/50000 [00:16<00:00, 3027.83it/s]\n",
      "100%|██████████| 50000/50000 [00:16<00:00, 3026.06it/s]\n"
     ]
    }
   ],
   "source": [
    "# Static mode - Standard coordinates\n",
    "print(wealth_coordinates)\n",
    "Static = main(\"static\", time, 0, agents, 0, wealth_coordinates, tqdm_display = False, reset_wealth = True)\n",
    "for i in range(repetitions - 1):\n",
    "    Static = Static.append(main(\"static\", time, 0, agents, 0, wealth_coordinates, tqdm_display = False, reset_wealth = True))\n",
    "\n",
    "Static.to_csv(\"neutral_static/static_standard.csv\")"
   ]
  },
  {
   "cell_type": "code",
   "execution_count": 13,
   "metadata": {},
   "outputs": [
    {
     "name": "stdout",
     "output_type": "stream",
     "text": [
      "[0.21333333333333332, 0.7583333333333334, 0.028333333333333342]\n"
     ]
    },
    {
     "name": "stderr",
     "output_type": "stream",
     "text": [
      "100%|██████████| 50000/50000 [00:16<00:00, 3049.07it/s]\n",
      "100%|██████████| 50000/50000 [00:16<00:00, 3055.78it/s]\n",
      "100%|██████████| 50000/50000 [00:16<00:00, 3036.16it/s]\n",
      "100%|██████████| 50000/50000 [00:16<00:00, 3050.71it/s]\n",
      "100%|██████████| 50000/50000 [00:16<00:00, 3015.77it/s]\n"
     ]
    }
   ],
   "source": [
    "# Static mode - NT-bumped coordinates\n",
    "\n",
    "wealth_coordinates_NT = wealth_coordinates.copy()\n",
    "wealth_coordinates_NT[0] += h\n",
    "wealth_coordinates_NT[1] -= h/2\n",
    "wealth_coordinates_NT[2] -= h/2\n",
    "print(wealth_coordinates_NT)\n",
    "\n",
    "Static = main(\"static\", time, 0, agents, 0, wealth_coordinates_NT, tqdm_display = False, reset_wealth = True)\n",
    "for i in range(repetitions - 1):\n",
    "    Static = Static.append(main(\"static\", time, 0, agents, 0, wealth_coordinates_NT, tqdm_display = False, reset_wealth = True))\n",
    "Static.to_csv(\"neutral_static/static_NT_bump.csv\")"
   ]
  },
  {
   "cell_type": "code",
   "execution_count": 14,
   "metadata": {},
   "outputs": [
    {
     "name": "stdout",
     "output_type": "stream",
     "text": [
      "[0.08833333333333335, 0.8833333333333334, 0.028333333333333342]\n"
     ]
    },
    {
     "name": "stderr",
     "output_type": "stream",
     "text": [
      "100%|██████████| 50000/50000 [00:16<00:00, 3066.35it/s]\n",
      "100%|██████████| 50000/50000 [00:16<00:00, 3071.31it/s]\n",
      "100%|██████████| 50000/50000 [00:16<00:00, 3031.96it/s]\n",
      "100%|██████████| 50000/50000 [00:16<00:00, 3044.25it/s]\n",
      "100%|██████████| 50000/50000 [00:16<00:00, 3027.49it/s]\n"
     ]
    }
   ],
   "source": [
    "# Static mode - VI-bumped coordinates\n",
    "\n",
    "wealth_coordinates_VI = wealth_coordinates.copy()\n",
    "wealth_coordinates_VI[0] -= h/2\n",
    "wealth_coordinates_VI[1] += h\n",
    "wealth_coordinates_VI[2] -= h/2\n",
    "print(wealth_coordinates_VI)\n",
    "\n",
    "Static = main(\"static\", time, 0, agents, 0, wealth_coordinates_VI, tqdm_display = False, reset_wealth = True)\n",
    "for i in range(repetitions - 1):\n",
    "    Static = Static.append(main(\"static\", time, 0, agents, 0, wealth_coordinates_VI, tqdm_display = False, reset_wealth = True))\n",
    "Static.to_csv(\"neutral_static/static_VI_bump.csv\")"
   ]
  },
  {
   "cell_type": "code",
   "execution_count": 15,
   "metadata": {},
   "outputs": [
    {
     "name": "stdout",
     "output_type": "stream",
     "text": [
      "[0.08833333333333335, 0.7583333333333334, 0.15333333333333332]\n"
     ]
    },
    {
     "name": "stderr",
     "output_type": "stream",
     "text": [
      "100%|██████████| 50000/50000 [00:16<00:00, 2993.27it/s]\n",
      "100%|██████████| 50000/50000 [00:16<00:00, 3038.01it/s]\n",
      "100%|██████████| 50000/50000 [00:16<00:00, 3042.30it/s]\n",
      "100%|██████████| 50000/50000 [00:16<00:00, 3053.72it/s]\n",
      "100%|██████████| 50000/50000 [00:16<00:00, 2979.39it/s]\n"
     ]
    }
   ],
   "source": [
    "# Static mode - TF-bumped coordinates\n",
    "\n",
    "wealth_coordinates_TF = wealth_coordinates.copy()\n",
    "wealth_coordinates_TF[0] -= h/2\n",
    "wealth_coordinates_TF[1] -= h/2\n",
    "wealth_coordinates_TF[2] += h\n",
    "print(wealth_coordinates_TF)\n",
    "\n",
    "Static = main(\"static\", time, 0, agents, 0, wealth_coordinates_TF, tqdm_display = False, reset_wealth = True)\n",
    "for i in range(repetitions - 1):\n",
    "    Static = Static.append(main(\"static\", time, 0, agents, 0, wealth_coordinates_TF, tqdm_display = False, reset_wealth = True))\n",
    "Static.to_csv(\"neutral_static/static_TF_bump.csv\")"
   ]
  }
 ],
 "metadata": {
  "interpreter": {
   "hash": "aee8b7b246df8f9039afb4144a1f6fd8d2ca17a180786b69acc140d282b71a49"
  },
  "kernelspec": {
   "display_name": "Python 3.9.6 64-bit",
   "language": "python",
   "name": "python3"
  },
  "language_info": {
   "codemirror_mode": {
    "name": "ipython",
    "version": 3
   },
   "file_extension": ".py",
   "mimetype": "text/x-python",
   "name": "python",
   "nbconvert_exporter": "python",
   "pygments_lexer": "ipython3",
   "version": "3.9.6"
  },
  "orig_nbformat": 4
 },
 "nbformat": 4,
 "nbformat_minor": 2
}
