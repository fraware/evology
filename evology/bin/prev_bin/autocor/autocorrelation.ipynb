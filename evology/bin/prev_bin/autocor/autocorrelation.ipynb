{
 "cells": [
  {
   "cell_type": "code",
   "execution_count": 1,
   "metadata": {},
   "outputs": [
    {
     "name": "stdout",
     "output_type": "stream",
     "text": [
      "[0, 1, 0]\n"
     ]
    },
    {
     "name": "stderr",
     "output_type": "stream",
     "text": [
      "  0%|          | 0/20000 [00:00<?, ?it/s]/Users/aymericvie/Documents/GitHub/evology/evology/code/data.py:129: RuntimeWarning: Mean of empty slice\n",
      "  results[current, 54] = np.nanmean(DailyNTReturns)\n",
      "/Users/aymericvie/Documents/GitHub/evology/evology/code/data.py:131: RuntimeWarning: Mean of empty slice\n",
      "  results[current, 56] = np.nanmean(DailyTFReturns)\n",
      "100%|██████████| 20000/20000 [00:07<00:00, 2655.98it/s]\n"
     ]
    },
    {
     "name": "stdout",
     "output_type": "stream",
     "text": [
      "0.06306437803037546\n",
      "[0, 0.9, 0.1]\n"
     ]
    },
    {
     "name": "stderr",
     "output_type": "stream",
     "text": [
      "100%|██████████| 20000/20000 [00:07<00:00, 2842.21it/s]\n"
     ]
    },
    {
     "name": "stdout",
     "output_type": "stream",
     "text": [
      "0.14125533655345845\n",
      "[0, 0.8, 0.2]\n"
     ]
    },
    {
     "name": "stderr",
     "output_type": "stream",
     "text": [
      "100%|██████████| 20000/20000 [00:06<00:00, 2879.66it/s]\n"
     ]
    },
    {
     "name": "stdout",
     "output_type": "stream",
     "text": [
      "0.2829794179299692\n",
      "[0, 0.7000000000000001, 0.30000000000000004]\n"
     ]
    },
    {
     "name": "stderr",
     "output_type": "stream",
     "text": [
      " 40%|███▉      | 7993/20000 [00:02<00:04, 2733.10it/s]/Users/aymericvie/Documents/GitHub/evology/evology/code/balance_sheet.py:723: RuntimeWarning: invalid value encountered in log\n",
      "  ind.DailyReturn = np.log(ind.wealth / ind.prev_wealth)\n",
      "100%|██████████| 20000/20000 [00:07<00:00, 2659.56it/s]\n"
     ]
    },
    {
     "name": "stdout",
     "output_type": "stream",
     "text": [
      "0.7536566953018699\n",
      "[0, 0.6000000000000001, 0.4]\n"
     ]
    },
    {
     "name": "stderr",
     "output_type": "stream",
     "text": [
      " 14%|█▍        | 2866/20000 [00:01<00:06, 2491.77it/s]/Users/aymericvie/Documents/GitHub/evology/evology/code/balance_sheet.py:153: RuntimeWarning: invalid value encountered in log2\n",
      "  return (LeverageNT * ind.wealth / p) * np.tanh(SCALE_NT * (math.log2(ind[0] * ind.process) - np.log2(p))) - ind.asset\n",
      "/Users/aymericvie/Documents/GitHub/evology/evology/code/balance_sheet.py:136: RuntimeWarning: invalid value encountered in log2\n",
      "  return (LeverageVI * ind.wealth / p) * np.tanh(SCALE_VI * (math.log2(ind[0]) - np.log2(p))) - ind.asset\n",
      "100%|██████████| 20000/20000 [00:07<00:00, 2542.42it/s]\n"
     ]
    },
    {
     "name": "stdout",
     "output_type": "stream",
     "text": [
      "0.5155025190147994\n",
      "[0, 0.5000000000000001, 0.5]\n"
     ]
    },
    {
     "name": "stderr",
     "output_type": "stream",
     "text": [
      "100%|██████████| 20000/20000 [00:08<00:00, 2493.75it/s]\n"
     ]
    },
    {
     "name": "stdout",
     "output_type": "stream",
     "text": [
      "0.2614244009436234\n",
      "[0, 0.40000000000000013, 0.6]\n"
     ]
    },
    {
     "name": "stderr",
     "output_type": "stream",
     "text": [
      "100%|██████████| 20000/20000 [00:08<00:00, 2373.62it/s]\n"
     ]
    },
    {
     "name": "stdout",
     "output_type": "stream",
     "text": [
      "0.24215392005417122\n",
      "[0, 0.30000000000000016, 0.7]\n"
     ]
    },
    {
     "name": "stderr",
     "output_type": "stream",
     "text": [
      "100%|██████████| 20000/20000 [00:09<00:00, 2113.52it/s]\n"
     ]
    },
    {
     "name": "stdout",
     "output_type": "stream",
     "text": [
      "0.26651571103424126\n",
      "[0, 0.20000000000000015, 0.7999999999999999]\n"
     ]
    },
    {
     "name": "stderr",
     "output_type": "stream",
     "text": [
      "100%|██████████| 20000/20000 [00:09<00:00, 2193.98it/s]\n"
     ]
    },
    {
     "name": "stdout",
     "output_type": "stream",
     "text": [
      "0.3012363117395583\n",
      "[0, 0.10000000000000014, 0.8999999999999999]\n"
     ]
    },
    {
     "name": "stderr",
     "output_type": "stream",
     "text": [
      "100%|██████████| 20000/20000 [00:08<00:00, 2302.38it/s]"
     ]
    },
    {
     "name": "stdout",
     "output_type": "stream",
     "text": [
      "nan\n"
     ]
    },
    {
     "name": "stderr",
     "output_type": "stream",
     "text": [
      "\n"
     ]
    }
   ],
   "source": [
    "#!/usr/bin/env python3\n",
    "import sys\n",
    "sys.path.insert(0, '/Users/aymericvie/Documents/GitHub/evology/evology/code/')\n",
    "from main import *\n",
    "from parameters import *\n",
    "import matplotlib\n",
    "import matplotlib.pyplot as plt\n",
    "\n",
    "increment = 0.1\n",
    "time = 20000\n",
    "agents = 3\n",
    "\n",
    "wealth_coordinates = [0, 1, 0]\n",
    "\n",
    "atclog = []\n",
    "strat = []\n",
    "stratf = []\n",
    "atc = []\n",
    "\n",
    "while wealth_coordinates[2] <= (1-wealth_coordinates[0]- 0.01):\n",
    "    print(wealth_coordinates)\n",
    "    df = main(\"static\", time, 0, agents, 0, wealth_coordinates, tqdm_display = False, reset_wealth = True)\n",
    "    df['PReturns'] = np.log1p(df['Price'].pct_change())\n",
    "\n",
    "\n",
    "    atclog.append(df['PReturns'].autocorr(lag=1))\n",
    "    print(df['PReturns'].autocorr(lag=1))\n",
    "    atc.append((df['Price'].pct_change()).autocorr(lag=1))\n",
    "    strat.append(wealth_coordinates[1])\n",
    "    stratf.append(wealth_coordinates[2])\n",
    "\n",
    "\n",
    "    wealth_coordinates[1] -= increment\n",
    "    wealth_coordinates[2] += increment\n",
    "\n",
    "\n",
    "\n"
   ]
  },
  {
   "cell_type": "code",
   "execution_count": 2,
   "metadata": {},
   "outputs": [
    {
     "name": "stdout",
     "output_type": "stream",
     "text": [
      "0        100.0\n",
      "1        100.0\n",
      "2        100.0\n",
      "3        100.0\n",
      "4        100.0\n",
      "         ...  \n",
      "19974    100.0\n",
      "19975    100.0\n",
      "19976    100.0\n",
      "19977    100.0\n",
      "19978    100.0\n",
      "Name: Price, Length: 19979, dtype: float64\n",
      "0        NaN\n",
      "1        0.0\n",
      "2        0.0\n",
      "3        0.0\n",
      "4        0.0\n",
      "        ... \n",
      "19974    0.0\n",
      "19975    0.0\n",
      "19976    0.0\n",
      "19977    0.0\n",
      "19978    0.0\n",
      "Name: PriceReturns, Length: 19979, dtype: float64\n"
     ]
    }
   ],
   "source": [
    "print(df['Price'])\n",
    "df['PriceReturns'] = df['Price'].pct_change()\n",
    "print(df['PriceReturns'])"
   ]
  },
  {
   "cell_type": "code",
   "execution_count": 4,
   "metadata": {},
   "outputs": [
    {
     "name": "stdout",
     "output_type": "stream",
     "text": [
      "ATC of returns is equal to ATC of log returns\n"
     ]
    },
    {
     "data": {
      "image/png": "[encoded data removed]",
      "text/plain": [
       "<Figure size 432x288 with 1 Axes>"
      ]
     },
     "metadata": {
      "needs_background": "light"
     },
     "output_type": "display_data"
    },
    {
     "name": "stdout",
     "output_type": "stream",
     "text": [
      "Y: one time step autocorrelation of log price returns\n",
      "X: Share of TFs\n"
     ]
    }
   ],
   "source": [
    "# print(atclog, atc)\n",
    "print('ATC of returns is equal to ATC of log returns')\n",
    "\n",
    "\n",
    "plt.plot(stratf, atclog)\n",
    "plt.show()\n",
    "print('Y: one time step autocorrelation of log price returns')\n",
    "print('X: Share of TFs')\n",
    "\n",
    "# plt.plot(stratf, atc)\n",
    "# plt.show()\n",
    "# print('Y: one time step autocorrelation of price returns')\n",
    "# print('X: Share of TFs')\n"
   ]
  }
 ],
 "metadata": {
  "interpreter": {
   "hash": "aee8b7b246df8f9039afb4144a1f6fd8d2ca17a180786b69acc140d282b71a49"
  },
  "kernelspec": {
   "display_name": "Python 3.9.6 64-bit",
   "language": "python",
   "name": "python3"
  },
  "language_info": {
   "codemirror_mode": {
    "name": "ipython",
    "version": 3
   },
   "file_extension": ".py",
   "mimetype": "text/x-python",
   "name": "python",
   "nbconvert_exporter": "python",
   "pygments_lexer": "ipython3",
   "version": "3.9.6"
  },
  "orig_nbformat": 4
 },
 "nbformat": 4,
 "nbformat_minor": 2
}
